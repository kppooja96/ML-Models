{
 "cells": [
  {
   "cell_type": "markdown",
   "id": "WGIZVZqxqbeu",
   "metadata": {
    "cell_id": "91b8188a-dbd8-492a-8fa4-f4bcf05f8f76",
    "deepnote_cell_height": 729.859375,
    "deepnote_cell_type": "markdown",
    "id": "WGIZVZqxqbeu",
    "tags": []
   },
   "source": [
    "# KNN, Logistic Regression & Classification Model Evaluation"
   ]
  },
  {
   "cell_type": "markdown",
   "id": "Cuh3SUHgqbex",
   "metadata": {
    "cell_id": "00001-55f56ed6-d0ec-4263-8414-74eacfa7dafe",
    "deepnote_cell_height": 218.5625,
    "deepnote_cell_type": "markdown",
    "id": "Cuh3SUHgqbex",
    "tags": []
   },
   "source": [
    "## Input\n",
    "You are sourcing your data from [UCI Machine Learning Repository](https://archive-beta.ics.uci.edu/ml/datasets/heart+disease). \n",
    "\n",
    "Used following data [cleveland processed data](https://archive.ics.uci.edu/ml/machine-learning-databases/heart-disease/processed.cleveland.data)"
   ]
  },
  {
   "cell_type": "code",
   "execution_count": null,
   "id": "6HjbHgL6qbey",
   "metadata": {
    "cell_id": "00002-f43debed-f2ca-483f-a165-337bea780fa2",
    "deepnote_cell_height": 279,
    "deepnote_cell_type": "code",
    "deepnote_to_be_reexecuted": false,
    "execution_millis": 3673,
    "execution_start": 1651856890710,
    "id": "6HjbHgL6qbey",
    "source_hash": "8ee8fac6"
   },
   "outputs": [],
   "source": [
    "import pandas as pd\n",
    "import numpy as np\n",
    "import matplotlib.pyplot as plt\n",
    "import seaborn as sns\n",
    "from sklearn.model_selection import train_test_split\n",
    "from sklearn.feature_selection import chi2\n",
    "from sklearn.feature_selection import SelectKBest\n",
    "from sklearn.model_selection import GridSearchCV\n",
    "from sklearn.neighbors import KNeighborsClassifier\n",
    "from sklearn.linear_model import LogisticRegression\n",
    "from matplotlib import pyplot as plt\n",
    "from matplotlib.colors import ListedColormap"
   ]
  },
  {
   "cell_type": "code",
   "execution_count": null,
   "id": "LkGrV-KFqbez",
   "metadata": {
    "cell_id": "00003-3c95414b-81bb-4179-b97a-536d48270809",
    "deepnote_cell_height": 351,
    "deepnote_cell_type": "code",
    "deepnote_to_be_reexecuted": false,
    "execution_millis": 26,
    "execution_start": 1651856894402,
    "id": "LkGrV-KFqbez",
    "source_hash": "b29ec453",
    "tags": []
   },
   "outputs": [],
   "source": [
    "# Header row to add to the top of the DF\n",
    "\n",
    "header_names = ['age',\n",
    "                'sex',\n",
    "                'cp',\n",
    "                'trestbps',\n",
    "                'chol',\n",
    "                'fbs', \n",
    "                'restecg', \n",
    "                'thalach', \n",
    "                'exang', \n",
    "                'oldpeak', \n",
    "                'slope', \n",
    "                'ca', \n",
    "                'thal', \n",
    "                'num']"
   ]
  },
  {
   "cell_type": "code",
   "execution_count": null,
   "id": "Fh7eUaKOqbe0",
   "metadata": {
    "cell_id": "00004-27d7a0f5-5b4f-461d-a918-fd844ca032a1",
    "deepnote_cell_height": 503,
    "deepnote_cell_type": "code",
    "deepnote_to_be_reexecuted": false,
    "execution_millis": 157,
    "execution_start": 1651856894431,
    "id": "Fh7eUaKOqbe0",
    "outputId": "115ce016-1b98-4471-9eae-11cd8080b1e9",
    "source_hash": "2c5a318b",
    "tags": []
   },
   "outputs": [
    {
     "data": {
      "application/vnd.deepnote.dataframe.v3+json": {
       "column_count": 14,
       "columns": [
        {
         "dtype": "float64",
         "name": "age",
         "stats": {
          "histogram": [
           {
            "bin_end": 40,
            "bin_start": 37,
            "count": 1
           },
           {
            "bin_end": 43,
            "bin_start": 40,
            "count": 1
           },
           {
            "bin_end": 46,
            "bin_start": 43,
            "count": 0
           },
           {
            "bin_end": 49,
            "bin_start": 46,
            "count": 0
           },
           {
            "bin_end": 52,
            "bin_start": 49,
            "count": 0
           },
           {
            "bin_end": 55,
            "bin_start": 52,
            "count": 0
           },
           {
            "bin_end": 58,
            "bin_start": 55,
            "count": 0
           },
           {
            "bin_end": 61,
            "bin_start": 58,
            "count": 0
           },
           {
            "bin_end": 64,
            "bin_start": 61,
            "count": 1
           },
           {
            "bin_end": 67,
            "bin_start": 64,
            "count": 2
           }
          ],
          "max": "67.0",
          "min": "37.0",
          "nan_count": 0,
          "unique_count": 4
         }
        },
        {
         "dtype": "float64",
         "name": "sex",
         "stats": {
          "histogram": [
           {
            "bin_end": 0.1,
            "bin_start": 0,
            "count": 1
           },
           {
            "bin_end": 0.2,
            "bin_start": 0.1,
            "count": 0
           },
           {
            "bin_end": 0.30000000000000004,
            "bin_start": 0.2,
            "count": 0
           },
           {
            "bin_end": 0.4,
            "bin_start": 0.30000000000000004,
            "count": 0
           },
           {
            "bin_end": 0.5,
            "bin_start": 0.4,
            "count": 0
           },
           {
            "bin_end": 0.6000000000000001,
            "bin_start": 0.5,
            "count": 0
           },
           {
            "bin_end": 0.7000000000000001,
            "bin_start": 0.6000000000000001,
            "count": 0
           },
           {
            "bin_end": 0.8,
            "bin_start": 0.7000000000000001,
            "count": 0
           },
           {
            "bin_end": 0.9,
            "bin_start": 0.8,
            "count": 0
           },
           {
            "bin_end": 1,
            "bin_start": 0.9,
            "count": 4
           }
          ],
          "max": "1.0",
          "min": "0.0",
          "nan_count": 0,
          "unique_count": 2
         }
        },
        {
         "dtype": "float64",
         "name": "cp",
         "stats": {
          "histogram": [
           {
            "bin_end": 1.3,
            "bin_start": 1,
            "count": 1
           },
           {
            "bin_end": 1.6,
            "bin_start": 1.3,
            "count": 0
           },
           {
            "bin_end": 1.9,
            "bin_start": 1.6,
            "count": 0
           },
           {
            "bin_end": 2.2,
            "bin_start": 1.9,
            "count": 1
           },
           {
            "bin_end": 2.5,
            "bin_start": 2.2,
            "count": 0
           },
           {
            "bin_end": 2.8,
            "bin_start": 2.5,
            "count": 0
           },
           {
            "bin_end": 3.1,
            "bin_start": 2.8,
            "count": 1
           },
           {
            "bin_end": 3.4,
            "bin_start": 3.1,
            "count": 0
           },
           {
            "bin_end": 3.6999999999999997,
            "bin_start": 3.4,
            "count": 0
           },
           {
            "bin_end": 4,
            "bin_start": 3.6999999999999997,
            "count": 2
           }
          ],
          "max": "4.0",
          "min": "1.0",
          "nan_count": 0,
          "unique_count": 4
         }
        },
        {
         "dtype": "float64",
         "name": "trestbps",
         "stats": {
          "histogram": [
           {
            "bin_end": 124,
            "bin_start": 120,
            "count": 1
           },
           {
            "bin_end": 128,
            "bin_start": 124,
            "count": 0
           },
           {
            "bin_end": 132,
            "bin_start": 128,
            "count": 2
           },
           {
            "bin_end": 136,
            "bin_start": 132,
            "count": 0
           },
           {
            "bin_end": 140,
            "bin_start": 136,
            "count": 0
           },
           {
            "bin_end": 144,
            "bin_start": 140,
            "count": 0
           },
           {
            "bin_end": 148,
            "bin_start": 144,
            "count": 1
           },
           {
            "bin_end": 152,
            "bin_start": 148,
            "count": 0
           },
           {
            "bin_end": 156,
            "bin_start": 152,
            "count": 0
           },
           {
            "bin_end": 160,
            "bin_start": 156,
            "count": 1
           }
          ],
          "max": "160.0",
          "min": "120.0",
          "nan_count": 0,
          "unique_count": 4
         }
        },
        {
         "dtype": "float64",
         "name": "chol",
         "stats": {
          "histogram": [
           {
            "bin_end": 212.2,
            "bin_start": 204,
            "count": 1
           },
           {
            "bin_end": 220.4,
            "bin_start": 212.2,
            "count": 0
           },
           {
            "bin_end": 228.6,
            "bin_start": 220.4,
            "count": 0
           },
           {
            "bin_end": 236.8,
            "bin_start": 228.6,
            "count": 2
           },
           {
            "bin_end": 245,
            "bin_start": 236.8,
            "count": 0
           },
           {
            "bin_end": 253.2,
            "bin_start": 245,
            "count": 1
           },
           {
            "bin_end": 261.4,
            "bin_start": 253.2,
            "count": 0
           },
           {
            "bin_end": 269.6,
            "bin_start": 261.4,
            "count": 0
           },
           {
            "bin_end": 277.8,
            "bin_start": 269.6,
            "count": 0
           },
           {
            "bin_end": 286,
            "bin_start": 277.8,
            "count": 1
           }
          ],
          "max": "286.0",
          "min": "204.0",
          "nan_count": 0,
          "unique_count": 5
         }
        },
        {
         "dtype": "float64",
         "name": "fbs",
         "stats": {
          "histogram": [
           {
            "bin_end": 0.1,
            "bin_start": 0,
            "count": 4
           },
           {
            "bin_end": 0.2,
            "bin_start": 0.1,
            "count": 0
           },
           {
            "bin_end": 0.30000000000000004,
            "bin_start": 0.2,
            "count": 0
           },
           {
            "bin_end": 0.4,
            "bin_start": 0.30000000000000004,
            "count": 0
           },
           {
            "bin_end": 0.5,
            "bin_start": 0.4,
            "count": 0
           },
           {
            "bin_end": 0.6000000000000001,
            "bin_start": 0.5,
            "count": 0
           },
           {
            "bin_end": 0.7000000000000001,
            "bin_start": 0.6000000000000001,
            "count": 0
           },
           {
            "bin_end": 0.8,
            "bin_start": 0.7000000000000001,
            "count": 0
           },
           {
            "bin_end": 0.9,
            "bin_start": 0.8,
            "count": 0
           },
           {
            "bin_end": 1,
            "bin_start": 0.9,
            "count": 1
           }
          ],
          "max": "1.0",
          "min": "0.0",
          "nan_count": 0,
          "unique_count": 2
         }
        },
        {
         "dtype": "float64",
         "name": "restecg",
         "stats": {
          "histogram": [
           {
            "bin_end": 0.2,
            "bin_start": 0,
            "count": 1
           },
           {
            "bin_end": 0.4,
            "bin_start": 0.2,
            "count": 0
           },
           {
            "bin_end": 0.6000000000000001,
            "bin_start": 0.4,
            "count": 0
           },
           {
            "bin_end": 0.8,
            "bin_start": 0.6000000000000001,
            "count": 0
           },
           {
            "bin_end": 1,
            "bin_start": 0.8,
            "count": 0
           },
           {
            "bin_end": 1.2000000000000002,
            "bin_start": 1,
            "count": 0
           },
           {
            "bin_end": 1.4000000000000001,
            "bin_start": 1.2000000000000002,
            "count": 0
           },
           {
            "bin_end": 1.6,
            "bin_start": 1.4000000000000001,
            "count": 0
           },
           {
            "bin_end": 1.8,
            "bin_start": 1.6,
            "count": 0
           },
           {
            "bin_end": 2,
            "bin_start": 1.8,
            "count": 4
           }
          ],
          "max": "2.0",
          "min": "0.0",
          "nan_count": 0,
          "unique_count": 2
         }
        },
        {
         "dtype": "float64",
         "name": "thalach",
         "stats": {
          "histogram": [
           {
            "bin_end": 115.9,
            "bin_start": 108,
            "count": 1
           },
           {
            "bin_end": 123.8,
            "bin_start": 115.9,
            "count": 0
           },
           {
            "bin_end": 131.7,
            "bin_start": 123.8,
            "count": 1
           },
           {
            "bin_end": 139.6,
            "bin_start": 131.7,
            "count": 0
           },
           {
            "bin_end": 147.5,
            "bin_start": 139.6,
            "count": 0
           },
           {
            "bin_end": 155.4,
            "bin_start": 147.5,
            "count": 1
           },
           {
            "bin_end": 163.3,
            "bin_start": 155.4,
            "count": 0
           },
           {
            "bin_end": 171.2,
            "bin_start": 163.3,
            "count": 0
           },
           {
            "bin_end": 179.10000000000002,
            "bin_start": 171.2,
            "count": 1
           },
           {
            "bin_end": 187,
            "bin_start": 179.10000000000002,
            "count": 1
           }
          ],
          "max": "187.0",
          "min": "108.0",
          "nan_count": 0,
          "unique_count": 5
         }
        },
        {
         "dtype": "float64",
         "name": "exang",
         "stats": {
          "histogram": [
           {
            "bin_end": 0.1,
            "bin_start": 0,
            "count": 3
           },
           {
            "bin_end": 0.2,
            "bin_start": 0.1,
            "count": 0
           },
           {
            "bin_end": 0.30000000000000004,
            "bin_start": 0.2,
            "count": 0
           },
           {
            "bin_end": 0.4,
            "bin_start": 0.30000000000000004,
            "count": 0
           },
           {
            "bin_end": 0.5,
            "bin_start": 0.4,
            "count": 0
           },
           {
            "bin_end": 0.6000000000000001,
            "bin_start": 0.5,
            "count": 0
           },
           {
            "bin_end": 0.7000000000000001,
            "bin_start": 0.6000000000000001,
            "count": 0
           },
           {
            "bin_end": 0.8,
            "bin_start": 0.7000000000000001,
            "count": 0
           },
           {
            "bin_end": 0.9,
            "bin_start": 0.8,
            "count": 0
           },
           {
            "bin_end": 1,
            "bin_start": 0.9,
            "count": 2
           }
          ],
          "max": "1.0",
          "min": "0.0",
          "nan_count": 0,
          "unique_count": 2
         }
        },
        {
         "dtype": "float64",
         "name": "oldpeak",
         "stats": {
          "histogram": [
           {
            "bin_end": 1.6099999999999999,
            "bin_start": 1.4,
            "count": 2
           },
           {
            "bin_end": 1.8199999999999998,
            "bin_start": 1.6099999999999999,
            "count": 0
           },
           {
            "bin_end": 2.0300000000000002,
            "bin_start": 1.8199999999999998,
            "count": 0
           },
           {
            "bin_end": 2.24,
            "bin_start": 2.0300000000000002,
            "count": 0
           },
           {
            "bin_end": 2.45,
            "bin_start": 2.24,
            "count": 1
           },
           {
            "bin_end": 2.66,
            "bin_start": 2.45,
            "count": 1
           },
           {
            "bin_end": 2.87,
            "bin_start": 2.66,
            "count": 0
           },
           {
            "bin_end": 3.08,
            "bin_start": 2.87,
            "count": 0
           },
           {
            "bin_end": 3.29,
            "bin_start": 3.08,
            "count": 0
           },
           {
            "bin_end": 3.5,
            "bin_start": 3.29,
            "count": 1
           }
          ],
          "max": "3.5",
          "min": "1.4",
          "nan_count": 0,
          "unique_count": 5
         }
        },
        {
         "dtype": "float64",
         "name": "slope",
         "stats": {
          "histogram": [
           {
            "bin_end": 1.2,
            "bin_start": 1,
            "count": 1
           },
           {
            "bin_end": 1.4,
            "bin_start": 1.2,
            "count": 0
           },
           {
            "bin_end": 1.6,
            "bin_start": 1.4,
            "count": 0
           },
           {
            "bin_end": 1.8,
            "bin_start": 1.6,
            "count": 0
           },
           {
            "bin_end": 2,
            "bin_start": 1.8,
            "count": 0
           },
           {
            "bin_end": 2.2,
            "bin_start": 2,
            "count": 2
           },
           {
            "bin_end": 2.4000000000000004,
            "bin_start": 2.2,
            "count": 0
           },
           {
            "bin_end": 2.6,
            "bin_start": 2.4000000000000004,
            "count": 0
           },
           {
            "bin_end": 2.8,
            "bin_start": 2.6,
            "count": 0
           },
           {
            "bin_end": 3,
            "bin_start": 2.8,
            "count": 2
           }
          ],
          "max": "3.0",
          "min": "1.0",
          "nan_count": 0,
          "unique_count": 3
         }
        },
        {
         "dtype": "object",
         "name": "ca",
         "stats": {
          "categories": [
           {
            "count": 3,
            "name": "0.0"
           },
           {
            "count": 1,
            "name": "3.0"
           },
           {
            "count": 1,
            "name": "2.0"
           }
          ],
          "nan_count": 0,
          "unique_count": 3
         }
        },
        {
         "dtype": "object",
         "name": "thal",
         "stats": {
          "categories": [
           {
            "count": 3,
            "name": "3.0"
           },
           {
            "count": 1,
            "name": "6.0"
           },
           {
            "count": 1,
            "name": "7.0"
           }
          ],
          "nan_count": 0,
          "unique_count": 3
         }
        },
        {
         "dtype": "int64",
         "name": "num",
         "stats": {
          "histogram": [
           {
            "bin_end": 0.2,
            "bin_start": 0,
            "count": 3
           },
           {
            "bin_end": 0.4,
            "bin_start": 0.2,
            "count": 0
           },
           {
            "bin_end": 0.6000000000000001,
            "bin_start": 0.4,
            "count": 0
           },
           {
            "bin_end": 0.8,
            "bin_start": 0.6000000000000001,
            "count": 0
           },
           {
            "bin_end": 1,
            "bin_start": 0.8,
            "count": 0
           },
           {
            "bin_end": 1.2000000000000002,
            "bin_start": 1,
            "count": 1
           },
           {
            "bin_end": 1.4000000000000001,
            "bin_start": 1.2000000000000002,
            "count": 0
           },
           {
            "bin_end": 1.6,
            "bin_start": 1.4000000000000001,
            "count": 0
           },
           {
            "bin_end": 1.8,
            "bin_start": 1.6,
            "count": 0
           },
           {
            "bin_end": 2,
            "bin_start": 1.8,
            "count": 1
           }
          ],
          "max": "2",
          "min": "0",
          "nan_count": 0,
          "unique_count": 3
         }
        },
        {
         "dtype": "int64",
         "name": "_deepnote_index_column"
        }
       ],
       "row_count": 5,
       "rows": [
        {
         "_deepnote_index_column": 0,
         "age": 63,
         "ca": "0.0",
         "chol": 233,
         "cp": 1,
         "exang": 0,
         "fbs": 1,
         "num": 0,
         "oldpeak": 2.3,
         "restecg": 2,
         "sex": 1,
         "slope": 3,
         "thal": "6.0",
         "thalach": 150,
         "trestbps": 145
        },
        {
         "_deepnote_index_column": 1,
         "age": 67,
         "ca": "3.0",
         "chol": 286,
         "cp": 4,
         "exang": 1,
         "fbs": 0,
         "num": 2,
         "oldpeak": 1.5,
         "restecg": 2,
         "sex": 1,
         "slope": 2,
         "thal": "3.0",
         "thalach": 108,
         "trestbps": 160
        },
        {
         "_deepnote_index_column": 2,
         "age": 67,
         "ca": "2.0",
         "chol": 229,
         "cp": 4,
         "exang": 1,
         "fbs": 0,
         "num": 1,
         "oldpeak": 2.6,
         "restecg": 2,
         "sex": 1,
         "slope": 2,
         "thal": "7.0",
         "thalach": 129,
         "trestbps": 120
        },
        {
         "_deepnote_index_column": 3,
         "age": 37,
         "ca": "0.0",
         "chol": 250,
         "cp": 3,
         "exang": 0,
         "fbs": 0,
         "num": 0,
         "oldpeak": 3.5,
         "restecg": 0,
         "sex": 1,
         "slope": 3,
         "thal": "3.0",
         "thalach": 187,
         "trestbps": 130
        },
        {
         "_deepnote_index_column": 4,
         "age": 41,
         "ca": "0.0",
         "chol": 204,
         "cp": 2,
         "exang": 0,
         "fbs": 0,
         "num": 0,
         "oldpeak": 1.4,
         "restecg": 2,
         "sex": 0,
         "slope": 1,
         "thal": "3.0",
         "thalach": 172,
         "trestbps": 130
        }
       ]
      },
      "text/html": [
       "<div>\n",
       "<style scoped>\n",
       "    .dataframe tbody tr th:only-of-type {\n",
       "        vertical-align: middle;\n",
       "    }\n",
       "\n",
       "    .dataframe tbody tr th {\n",
       "        vertical-align: top;\n",
       "    }\n",
       "\n",
       "    .dataframe thead th {\n",
       "        text-align: right;\n",
       "    }\n",
       "</style>\n",
       "<table border=\"1\" class=\"dataframe\">\n",
       "  <thead>\n",
       "    <tr style=\"text-align: right;\">\n",
       "      <th></th>\n",
       "      <th>age</th>\n",
       "      <th>sex</th>\n",
       "      <th>cp</th>\n",
       "      <th>trestbps</th>\n",
       "      <th>chol</th>\n",
       "      <th>fbs</th>\n",
       "      <th>restecg</th>\n",
       "      <th>thalach</th>\n",
       "      <th>exang</th>\n",
       "      <th>oldpeak</th>\n",
       "      <th>slope</th>\n",
       "      <th>ca</th>\n",
       "      <th>thal</th>\n",
       "      <th>num</th>\n",
       "    </tr>\n",
       "  </thead>\n",
       "  <tbody>\n",
       "    <tr>\n",
       "      <th>0</th>\n",
       "      <td>63.0</td>\n",
       "      <td>1.0</td>\n",
       "      <td>1.0</td>\n",
       "      <td>145.0</td>\n",
       "      <td>233.0</td>\n",
       "      <td>1.0</td>\n",
       "      <td>2.0</td>\n",
       "      <td>150.0</td>\n",
       "      <td>0.0</td>\n",
       "      <td>2.3</td>\n",
       "      <td>3.0</td>\n",
       "      <td>0.0</td>\n",
       "      <td>6.0</td>\n",
       "      <td>0</td>\n",
       "    </tr>\n",
       "    <tr>\n",
       "      <th>1</th>\n",
       "      <td>67.0</td>\n",
       "      <td>1.0</td>\n",
       "      <td>4.0</td>\n",
       "      <td>160.0</td>\n",
       "      <td>286.0</td>\n",
       "      <td>0.0</td>\n",
       "      <td>2.0</td>\n",
       "      <td>108.0</td>\n",
       "      <td>1.0</td>\n",
       "      <td>1.5</td>\n",
       "      <td>2.0</td>\n",
       "      <td>3.0</td>\n",
       "      <td>3.0</td>\n",
       "      <td>2</td>\n",
       "    </tr>\n",
       "    <tr>\n",
       "      <th>2</th>\n",
       "      <td>67.0</td>\n",
       "      <td>1.0</td>\n",
       "      <td>4.0</td>\n",
       "      <td>120.0</td>\n",
       "      <td>229.0</td>\n",
       "      <td>0.0</td>\n",
       "      <td>2.0</td>\n",
       "      <td>129.0</td>\n",
       "      <td>1.0</td>\n",
       "      <td>2.6</td>\n",
       "      <td>2.0</td>\n",
       "      <td>2.0</td>\n",
       "      <td>7.0</td>\n",
       "      <td>1</td>\n",
       "    </tr>\n",
       "    <tr>\n",
       "      <th>3</th>\n",
       "      <td>37.0</td>\n",
       "      <td>1.0</td>\n",
       "      <td>3.0</td>\n",
       "      <td>130.0</td>\n",
       "      <td>250.0</td>\n",
       "      <td>0.0</td>\n",
       "      <td>0.0</td>\n",
       "      <td>187.0</td>\n",
       "      <td>0.0</td>\n",
       "      <td>3.5</td>\n",
       "      <td>3.0</td>\n",
       "      <td>0.0</td>\n",
       "      <td>3.0</td>\n",
       "      <td>0</td>\n",
       "    </tr>\n",
       "    <tr>\n",
       "      <th>4</th>\n",
       "      <td>41.0</td>\n",
       "      <td>0.0</td>\n",
       "      <td>2.0</td>\n",
       "      <td>130.0</td>\n",
       "      <td>204.0</td>\n",
       "      <td>0.0</td>\n",
       "      <td>2.0</td>\n",
       "      <td>172.0</td>\n",
       "      <td>0.0</td>\n",
       "      <td>1.4</td>\n",
       "      <td>1.0</td>\n",
       "      <td>0.0</td>\n",
       "      <td>3.0</td>\n",
       "      <td>0</td>\n",
       "    </tr>\n",
       "  </tbody>\n",
       "</table>\n",
       "</div>"
      ],
      "text/plain": [
       "    age  sex   cp  trestbps   chol  fbs  restecg  thalach  exang  oldpeak  \\\n",
       "0  63.0  1.0  1.0     145.0  233.0  1.0      2.0    150.0    0.0      2.3   \n",
       "1  67.0  1.0  4.0     160.0  286.0  0.0      2.0    108.0    1.0      1.5   \n",
       "2  67.0  1.0  4.0     120.0  229.0  0.0      2.0    129.0    1.0      2.6   \n",
       "3  37.0  1.0  3.0     130.0  250.0  0.0      0.0    187.0    0.0      3.5   \n",
       "4  41.0  0.0  2.0     130.0  204.0  0.0      2.0    172.0    0.0      1.4   \n",
       "\n",
       "   slope   ca thal  num  \n",
       "0    3.0  0.0  6.0    0  \n",
       "1    2.0  3.0  3.0    2  \n",
       "2    2.0  2.0  7.0    1  \n",
       "3    3.0  0.0  3.0    0  \n",
       "4    1.0  0.0  3.0    0  "
      ]
     },
     "execution_count": 3,
     "metadata": {},
     "output_type": "execute_result"
    }
   ],
   "source": [
    "# Let's import the .DATA file\n",
    "# This looks like a plain text CSV actually, let's see if Pandas can import it as CSV\n",
    "# Add a header row using the original descriptions\n",
    "\n",
    "df = pd.read_csv('processed.cleveland.data',\n",
    "                names = header_names)\n",
    "df.head()"
   ]
  },
  {
   "cell_type": "code",
   "execution_count": null,
   "id": "usWsTUs7qbe1",
   "metadata": {
    "cell_id": "00005-68865495-4599-4315-b411-fca6a6ab48a9",
    "deepnote_cell_height": 960,
    "deepnote_cell_type": "code",
    "deepnote_to_be_reexecuted": false,
    "execution_millis": 11,
    "execution_start": 1651856894610,
    "id": "usWsTUs7qbe1",
    "outputId": "77c13f86-d5ed-4e96-fe42-86354145dc8b",
    "source_hash": "626324c0"
   },
   "outputs": [
    {
     "data": {
      "application/vnd.deepnote.dataframe.v3+json": {
       "column_count": 1,
       "columns": [
        {
         "dtype": "object",
         "name": 0,
         "stats": {
          "categories": [
           {
            "count": 3,
            "name": "1.0"
           },
           {
            "count": 2,
            "name": "0.0"
           },
           {
            "count": 9,
            "name": "9 others"
           }
          ],
          "nan_count": 0,
          "unique_count": 11
         }
        },
        {
         "dtype": "object",
         "name": "_deepnote_index_column"
        }
       ],
       "row_count": 14,
       "rows": [
        {
         "0": "63.0",
         "_deepnote_index_column": "age"
        },
        {
         "0": "1.0",
         "_deepnote_index_column": "sex"
        },
        {
         "0": "1.0",
         "_deepnote_index_column": "chest_pain"
        },
        {
         "0": "145.0",
         "_deepnote_index_column": "resting_blood_pressure"
        },
        {
         "0": "233.0",
         "_deepnote_index_column": "cholesterol"
        },
        {
         "0": "1.0",
         "_deepnote_index_column": "fasting_blood_sugar"
        },
        {
         "0": "2.0",
         "_deepnote_index_column": "resting_ECG"
        },
        {
         "0": "150.0",
         "_deepnote_index_column": "max_heart_rate"
        },
        {
         "0": "0.0",
         "_deepnote_index_column": "exercise_induced_angina"
        },
        {
         "0": "2.3",
         "_deepnote_index_column": "old_peak"
        }
       ]
      },
      "text/html": [
       "<div>\n",
       "<style scoped>\n",
       "    .dataframe tbody tr th:only-of-type {\n",
       "        vertical-align: middle;\n",
       "    }\n",
       "\n",
       "    .dataframe tbody tr th {\n",
       "        vertical-align: top;\n",
       "    }\n",
       "\n",
       "    .dataframe thead th {\n",
       "        text-align: right;\n",
       "    }\n",
       "</style>\n",
       "<table border=\"1\" class=\"dataframe\">\n",
       "  <thead>\n",
       "    <tr style=\"text-align: right;\">\n",
       "      <th></th>\n",
       "      <th>0</th>\n",
       "    </tr>\n",
       "  </thead>\n",
       "  <tbody>\n",
       "    <tr>\n",
       "      <th>age</th>\n",
       "      <td>63.0</td>\n",
       "    </tr>\n",
       "    <tr>\n",
       "      <th>sex</th>\n",
       "      <td>1.0</td>\n",
       "    </tr>\n",
       "    <tr>\n",
       "      <th>chest_pain</th>\n",
       "      <td>1.0</td>\n",
       "    </tr>\n",
       "    <tr>\n",
       "      <th>resting_blood_pressure</th>\n",
       "      <td>145.0</td>\n",
       "    </tr>\n",
       "    <tr>\n",
       "      <th>cholesterol</th>\n",
       "      <td>233.0</td>\n",
       "    </tr>\n",
       "    <tr>\n",
       "      <th>fasting_blood_sugar</th>\n",
       "      <td>1.0</td>\n",
       "    </tr>\n",
       "    <tr>\n",
       "      <th>resting_ECG</th>\n",
       "      <td>2.0</td>\n",
       "    </tr>\n",
       "    <tr>\n",
       "      <th>max_heart_rate</th>\n",
       "      <td>150.0</td>\n",
       "    </tr>\n",
       "    <tr>\n",
       "      <th>exercise_induced_angina</th>\n",
       "      <td>0.0</td>\n",
       "    </tr>\n",
       "    <tr>\n",
       "      <th>old_peak</th>\n",
       "      <td>2.3</td>\n",
       "    </tr>\n",
       "    <tr>\n",
       "      <th>ST_slope</th>\n",
       "      <td>3.0</td>\n",
       "    </tr>\n",
       "    <tr>\n",
       "      <th>major_vessels</th>\n",
       "      <td>0.0</td>\n",
       "    </tr>\n",
       "    <tr>\n",
       "      <th>thalassemia</th>\n",
       "      <td>6.0</td>\n",
       "    </tr>\n",
       "    <tr>\n",
       "      <th>heart_disease</th>\n",
       "      <td>0</td>\n",
       "    </tr>\n",
       "  </tbody>\n",
       "</table>\n",
       "</div>"
      ],
      "text/plain": [
       "                             0\n",
       "age                       63.0\n",
       "sex                        1.0\n",
       "chest_pain                 1.0\n",
       "resting_blood_pressure   145.0\n",
       "cholesterol              233.0\n",
       "fasting_blood_sugar        1.0\n",
       "resting_ECG                2.0\n",
       "max_heart_rate           150.0\n",
       "exercise_induced_angina    0.0\n",
       "old_peak                   2.3\n",
       "ST_slope                   3.0\n",
       "major_vessels              0.0\n",
       "thalassemia                6.0\n",
       "heart_disease                0"
      ]
     },
     "execution_count": 4,
     "metadata": {},
     "output_type": "execute_result"
    }
   ],
   "source": [
    "# Rename header to more descriptive names based on the metadata info\n",
    "\n",
    "header_renamed = ['age',\n",
    "                'sex',\n",
    "                'chest_pain',\n",
    "                'resting_blood_pressure',\n",
    "                'cholesterol',\n",
    "                'fasting_blood_sugar',\n",
    "                'resting_ECG',\n",
    "                'max_heart_rate',\n",
    "                'exercise_induced_angina',\n",
    "                'old_peak',\n",
    "                'ST_slope',\n",
    "                'major_vessels',\n",
    "                'thalassemia',\n",
    "                'heart_disease']\n",
    "\n",
    "df.columns = header_renamed\n",
    "\n",
    "# CHECK\n",
    "df.head(1).T"
   ]
  },
  {
   "cell_type": "markdown",
   "id": "AzCdn38lqbe2",
   "metadata": {
    "cell_id": "00006-6069f92d-d9ea-45c7-862b-7f5bb3e0ddba",
    "deepnote_cell_height": 2261.453125,
    "deepnote_cell_type": "markdown",
    "id": "AzCdn38lqbe2"
   },
   "source": [
    "## METADATA\n",
    "\n",
    "7. Attribute Information:\n",
    "   -- Only 14 used\n",
    "      -- 1. #3  (age)       \n",
    "      -- 2. #4  (sex)       \n",
    "      -- 3. #9  (cp)        \n",
    "      -- 4. #10 (trestbps)  \n",
    "      -- 5. #12 (chol)      \n",
    "      -- 6. #16 (fbs)       \n",
    "      -- 7. #19 (restecg)   \n",
    "      -- 8. #32 (thalach)   \n",
    "      -- 9. #38 (exang)     \n",
    "      -- 10. #40 (oldpeak)   \n",
    "      -- 11. #41 (slope)     \n",
    "      -- 12. #44 (ca)        \n",
    "      -- 13. #51 (thal)      \n",
    "      -- 14. #58 (num)       (the predicted attribute)\n",
    "\n",
    "-   -- Complete attribute documentation:\n",
    "-      3 age: age in years\n",
    "-      4 sex: sex (1 = male; 0 = female)\n",
    "-      9 cp: chest pain type\n",
    "-        -- Value 1: typical angina\n",
    "-        -- Value 2: atypical angina\n",
    "-        -- Value 3: non-anginal pain\n",
    "-        -- Value 4: asymptomatic\n",
    "-     10 trestbps: resting blood pressure (in mm Hg on admission to the \n",
    "-        hospital)\n",
    "-     12 chol: serum cholestoral in mg/dl\n",
    "-     16 fbs: (fasting blood sugar > 120 mg/dl)  (1 = true; 0 = false)\n",
    "-     19 restecg: resting electrocardiographic results\n",
    "-        -- Value 0: normal\n",
    "-        -- Value 1: having ST-T wave abnormality (T wave inversions and/or ST \n",
    "-                    elevation or depression of > 0.05 mV)\n",
    "-        -- Value 2: showing probable or definite left ventricular hypertrophy\n",
    "-                    by Estes' criteria\n",
    "-     32 thalach: maximum heart rate achieved\n",
    "-     38 exang: exercise induced angina (1 = yes; 0 = no)\n",
    "-     40 oldpeak = ST depression induced by exercise relative to rest\n",
    "-     41 slope: the slope of the peak exercise ST segment\n",
    "-        -- Value 1: upsloping\n",
    "-        -- Value 2: flat\n",
    "-        -- Value 3: downsloping\n",
    "-     44 ca: number of major vessels (0-3) colored by flourosopy\n",
    "-    51 thal: 3 = normal; 6 = fixed defect; 7 = reversable defect\n",
    "-    58 num: diagnosis of heart disease (angiographic disease status)\n",
    "-       -- Value 0: < 50% diameter narrowing\n",
    "-       -- Value 1: > 50% diameter narrowing\n",
    "-       (in any major vessel: attributes 59 through 68 are vessels)\n",
    "-\n",
    "9. Missing Attribute Values: Several.  Distinguished with value -9.0.\n",
    "\n",
    "~~~~~~~~~~~~~~~~~~~~~~~~~~~~~~~~~~~~~~~~~~~~~~~~~~~~~~~~~~~~~~~~~~~~~~~~~~\n",
    "\n",
    "RENAME???\n",
    "\n",
    "      -- 1. #3  (age)       \n",
    "      -- 2. #4  (sex)       \n",
    "      -- 3. #9  (cp)        -- chest_pain\n",
    "      -- 4. #10 (trestbps)  -- resting_blood_pressure\n",
    "      -- 5. #12 (chol)      -- cholesterol\n",
    "      -- 6. #16 (fbs)       -- fasting_blood_sugar\n",
    "      -- 7. #19 (restecg)   -- resting_ECG\n",
    "      -- 8. #32 (thalach)   -- max_heart_rate\n",
    "      -- 9. #38 (exang)     -- exercise_induced_angina\n",
    "      -- 10. #40 (oldpeak)  -- old_peak\n",
    "      -- 11. #41 (slope)    -- ST_slope\n",
    "      -- 12. #44 (ca)       -- major_vessels\n",
    "      -- 13. #51 (thal)     -- thalassemia\n",
    "      -- 14. #58 (num)(the predicted attribute) -- heart_disease"
   ]
  },
  {
   "cell_type": "code",
   "execution_count": null,
   "id": "tuyeKabNqbe4",
   "metadata": {
    "cell_id": "00012-0979d36e-b6ac-428d-9114-7410d9cbc28d",
    "deepnote_cell_height": 587.9375,
    "deepnote_cell_type": "code",
    "deepnote_to_be_reexecuted": false,
    "execution_millis": 34,
    "execution_start": 1651856894639,
    "id": "tuyeKabNqbe4",
    "outputId": "d70f982e-0994-4168-f510-47997ba0b7af",
    "source_hash": "2330e900"
   },
   "outputs": [
    {
     "name": "stdout",
     "output_type": "stream",
     "text": [
      "<class 'pandas.core.frame.DataFrame'>\n",
      "RangeIndex: 303 entries, 0 to 302\n",
      "Data columns (total 14 columns):\n",
      " #   Column                   Non-Null Count  Dtype  \n",
      "---  ------                   --------------  -----  \n",
      " 0   age                      303 non-null    float64\n",
      " 1   sex                      303 non-null    float64\n",
      " 2   chest_pain               303 non-null    float64\n",
      " 3   resting_blood_pressure   303 non-null    float64\n",
      " 4   cholesterol              303 non-null    float64\n",
      " 5   fasting_blood_sugar      303 non-null    float64\n",
      " 6   resting_ECG              303 non-null    float64\n",
      " 7   max_heart_rate           303 non-null    float64\n",
      " 8   exercise_induced_angina  303 non-null    float64\n",
      " 9   old_peak                 303 non-null    float64\n",
      " 10  ST_slope                 303 non-null    float64\n",
      " 11  major_vessels            303 non-null    object \n",
      " 12  thalassemia              303 non-null    object \n",
      " 13  heart_disease            303 non-null    int64  \n",
      "dtypes: float64(11), int64(1), object(2)\n",
      "memory usage: 33.3+ KB\n"
     ]
    }
   ],
   "source": [
    "# Info\n",
    "df.info()\n",
    "\n",
    "# Most of it is float64's, a few objects (strings), one int64\n",
    "# But that's weird cuz it looks like it's just an array of #'s"
   ]
  },
  {
   "cell_type": "code",
   "execution_count": null,
   "id": "NDslVEEVqbe4",
   "metadata": {
    "cell_id": "00010-a412a1f0-6b58-4af2-9b87-e5acde39e257",
    "deepnote_cell_height": 184.1875,
    "deepnote_cell_type": "code",
    "deepnote_to_be_reexecuted": false,
    "execution_millis": 3,
    "execution_start": 1651856894725,
    "id": "NDslVEEVqbe4",
    "outputId": "27fb3fce-7329-451f-9e66-24d369ba7bf3",
    "source_hash": "51e3a16f"
   },
   "outputs": [
    {
     "name": "stdout",
     "output_type": "stream",
     "text": [
      "df.shape = (303, 14)\n"
     ]
    }
   ],
   "source": [
    "# Shape\n",
    "print('df.shape =', df.shape)\n",
    "\n",
    "# rows = 302\n",
    "# cols = 14"
   ]
  },
  {
   "cell_type": "code",
   "execution_count": null,
   "id": "WihWCYMEqbe4",
   "metadata": {
    "cell_id": "00011-1cb8ad36-fd91-47f7-8a4d-4099f0a28d2c",
    "deepnote_cell_height": 654,
    "deepnote_cell_type": "code",
    "deepnote_to_be_reexecuted": false,
    "execution_millis": 1059,
    "execution_start": 1651856894726,
    "id": "WihWCYMEqbe4",
    "outputId": "f650ec95-16b9-4ffb-ae67-c70e84978188",
    "source_hash": "bb898fd9"
   },
   "outputs": [
    {
     "data": {
      "application/vnd.deepnote.dataframe.v3+json": {
       "column_count": 8,
       "columns": [
        {
         "dtype": "float64",
         "name": "count",
         "stats": {
          "histogram": [
           {
            "bin_end": 302.6,
            "bin_start": 302.5,
            "count": 0
           },
           {
            "bin_end": 302.7,
            "bin_start": 302.6,
            "count": 0
           },
           {
            "bin_end": 302.8,
            "bin_start": 302.7,
            "count": 0
           },
           {
            "bin_end": 302.9,
            "bin_start": 302.8,
            "count": 0
           },
           {
            "bin_end": 303,
            "bin_start": 302.9,
            "count": 0
           },
           {
            "bin_end": 303.1,
            "bin_start": 303,
            "count": 12
           },
           {
            "bin_end": 303.2,
            "bin_start": 303.1,
            "count": 0
           },
           {
            "bin_end": 303.3,
            "bin_start": 303.2,
            "count": 0
           },
           {
            "bin_end": 303.4,
            "bin_start": 303.3,
            "count": 0
           },
           {
            "bin_end": 303.5,
            "bin_start": 303.4,
            "count": 0
           }
          ],
          "max": "303.0",
          "min": "303.0",
          "nan_count": 0,
          "unique_count": 1
         }
        },
        {
         "dtype": "float64",
         "name": "mean",
         "stats": {
          "histogram": [
           {
            "bin_end": 24.802970297029702,
            "bin_start": 0.1485148514851485,
            "count": 8
           },
           {
            "bin_end": 49.45742574257425,
            "bin_start": 24.802970297029702,
            "count": 0
           },
           {
            "bin_end": 74.1118811881188,
            "bin_start": 49.45742574257425,
            "count": 1
           },
           {
            "bin_end": 98.76633663366336,
            "bin_start": 74.1118811881188,
            "count": 0
           },
           {
            "bin_end": 123.42079207920791,
            "bin_start": 98.76633663366336,
            "count": 0
           },
           {
            "bin_end": 148.07524752475246,
            "bin_start": 123.42079207920791,
            "count": 1
           },
           {
            "bin_end": 172.729702970297,
            "bin_start": 148.07524752475246,
            "count": 1
           },
           {
            "bin_end": 197.38415841584157,
            "bin_start": 172.729702970297,
            "count": 0
           },
           {
            "bin_end": 222.03861386138612,
            "bin_start": 197.38415841584157,
            "count": 0
           },
           {
            "bin_end": 246.69306930693068,
            "bin_start": 222.03861386138612,
            "count": 1
           }
          ],
          "max": "246.69306930693068",
          "min": "0.1485148514851485",
          "nan_count": 0,
          "unique_count": 12
         }
        },
        {
         "dtype": "float64",
         "name": "std",
         "stats": {
          "histogram": [
           {
            "bin_end": 5.498269841698882,
            "bin_start": 0.35619787492797644,
            "count": 8
           },
           {
            "bin_end": 10.640341808469788,
            "bin_start": 5.498269841698882,
            "count": 1
           },
           {
            "bin_end": 15.782413775240693,
            "bin_start": 10.640341808469788,
            "count": 0
           },
           {
            "bin_end": 20.924485742011598,
            "bin_start": 15.782413775240693,
            "count": 1
           },
           {
            "bin_end": 26.066557708782504,
            "bin_start": 20.924485742011598,
            "count": 1
           },
           {
            "bin_end": 31.208629675553407,
            "bin_start": 26.066557708782504,
            "count": 0
           },
           {
            "bin_end": 36.35070164232432,
            "bin_start": 31.208629675553407,
            "count": 0
           },
           {
            "bin_end": 41.492773609095224,
            "bin_start": 36.35070164232432,
            "count": 0
           },
           {
            "bin_end": 46.63484557586613,
            "bin_start": 41.492773609095224,
            "count": 0
           },
           {
            "bin_end": 51.77691754263704,
            "bin_start": 46.63484557586613,
            "count": 1
           }
          ],
          "max": "51.77691754263704",
          "min": "0.35619787492797644",
          "nan_count": 0,
          "unique_count": 12
         }
        },
        {
         "dtype": "float64",
         "name": "min",
         "stats": {
          "histogram": [
           {
            "bin_end": 12.6,
            "bin_start": 0,
            "count": 8
           },
           {
            "bin_end": 25.2,
            "bin_start": 12.6,
            "count": 0
           },
           {
            "bin_end": 37.8,
            "bin_start": 25.2,
            "count": 1
           },
           {
            "bin_end": 50.4,
            "bin_start": 37.8,
            "count": 0
           },
           {
            "bin_end": 63,
            "bin_start": 50.4,
            "count": 0
           },
           {
            "bin_end": 75.6,
            "bin_start": 63,
            "count": 1
           },
           {
            "bin_end": 88.2,
            "bin_start": 75.6,
            "count": 0
           },
           {
            "bin_end": 100.8,
            "bin_start": 88.2,
            "count": 1
           },
           {
            "bin_end": 113.39999999999999,
            "bin_start": 100.8,
            "count": 0
           },
           {
            "bin_end": 126,
            "bin_start": 113.39999999999999,
            "count": 1
           }
          ],
          "max": "126.0",
          "min": "0.0",
          "nan_count": 0,
          "unique_count": 6
         }
        },
        {
         "dtype": "float64",
         "name": "25%",
         "stats": {
          "histogram": [
           {
            "bin_end": 21.1,
            "bin_start": 0,
            "count": 8
           },
           {
            "bin_end": 42.2,
            "bin_start": 21.1,
            "count": 0
           },
           {
            "bin_end": 63.300000000000004,
            "bin_start": 42.2,
            "count": 1
           },
           {
            "bin_end": 84.4,
            "bin_start": 63.300000000000004,
            "count": 0
           },
           {
            "bin_end": 105.5,
            "bin_start": 84.4,
            "count": 0
           },
           {
            "bin_end": 126.60000000000001,
            "bin_start": 105.5,
            "count": 1
           },
           {
            "bin_end": 147.70000000000002,
            "bin_start": 126.60000000000001,
            "count": 1
           },
           {
            "bin_end": 168.8,
            "bin_start": 147.70000000000002,
            "count": 0
           },
           {
            "bin_end": 189.9,
            "bin_start": 168.8,
            "count": 0
           },
           {
            "bin_end": 211,
            "bin_start": 189.9,
            "count": 1
           }
          ],
          "max": "211.0",
          "min": "0.0",
          "nan_count": 0,
          "unique_count": 7
         }
        },
        {
         "dtype": "float64",
         "name": "50%",
         "stats": {
          "histogram": [
           {
            "bin_end": 24.1,
            "bin_start": 0,
            "count": 8
           },
           {
            "bin_end": 48.2,
            "bin_start": 24.1,
            "count": 0
           },
           {
            "bin_end": 72.30000000000001,
            "bin_start": 48.2,
            "count": 1
           },
           {
            "bin_end": 96.4,
            "bin_start": 72.30000000000001,
            "count": 0
           },
           {
            "bin_end": 120.5,
            "bin_start": 96.4,
            "count": 0
           },
           {
            "bin_end": 144.60000000000002,
            "bin_start": 120.5,
            "count": 1
           },
           {
            "bin_end": 168.70000000000002,
            "bin_start": 144.60000000000002,
            "count": 1
           },
           {
            "bin_end": 192.8,
            "bin_start": 168.70000000000002,
            "count": 0
           },
           {
            "bin_end": 216.9,
            "bin_start": 192.8,
            "count": 0
           },
           {
            "bin_end": 241,
            "bin_start": 216.9,
            "count": 1
           }
          ],
          "max": "241.0",
          "min": "0.0",
          "nan_count": 0,
          "unique_count": 9
         }
        },
        {
         "dtype": "float64",
         "name": "75%",
         "stats": {
          "histogram": [
           {
            "bin_end": 27.5,
            "bin_start": 0,
            "count": 8
           },
           {
            "bin_end": 55,
            "bin_start": 27.5,
            "count": 0
           },
           {
            "bin_end": 82.5,
            "bin_start": 55,
            "count": 1
           },
           {
            "bin_end": 110,
            "bin_start": 82.5,
            "count": 0
           },
           {
            "bin_end": 137.5,
            "bin_start": 110,
            "count": 0
           },
           {
            "bin_end": 165,
            "bin_start": 137.5,
            "count": 1
           },
           {
            "bin_end": 192.5,
            "bin_start": 165,
            "count": 1
           },
           {
            "bin_end": 220,
            "bin_start": 192.5,
            "count": 0
           },
           {
            "bin_end": 247.5,
            "bin_start": 220,
            "count": 0
           },
           {
            "bin_end": 275,
            "bin_start": 247.5,
            "count": 1
           }
          ],
          "max": "275.0",
          "min": "0.0",
          "nan_count": 0,
          "unique_count": 9
         }
        },
        {
         "dtype": "float64",
         "name": "max",
         "stats": {
          "histogram": [
           {
            "bin_end": 57.3,
            "bin_start": 1,
            "count": 8
           },
           {
            "bin_end": 113.6,
            "bin_start": 57.3,
            "count": 1
           },
           {
            "bin_end": 169.89999999999998,
            "bin_start": 113.6,
            "count": 0
           },
           {
            "bin_end": 226.2,
            "bin_start": 169.89999999999998,
            "count": 2
           },
           {
            "bin_end": 282.5,
            "bin_start": 226.2,
            "count": 0
           },
           {
            "bin_end": 338.79999999999995,
            "bin_start": 282.5,
            "count": 0
           },
           {
            "bin_end": 395.09999999999997,
            "bin_start": 338.79999999999995,
            "count": 0
           },
           {
            "bin_end": 451.4,
            "bin_start": 395.09999999999997,
            "count": 0
           },
           {
            "bin_end": 507.7,
            "bin_start": 451.4,
            "count": 0
           },
           {
            "bin_end": 564,
            "bin_start": 507.7,
            "count": 1
           }
          ],
          "max": "564.0",
          "min": "1.0",
          "nan_count": 0,
          "unique_count": 9
         }
        },
        {
         "dtype": "object",
         "name": "_deepnote_index_column"
        }
       ],
       "row_count": 12,
       "rows": [
        {
         "25%": 48,
         "50%": 56,
         "75%": 61,
         "_deepnote_index_column": "age",
         "count": 303,
         "max": 77,
         "mean": 54.43894389438944,
         "min": 29,
         "std": 9.038662442446746
        },
        {
         "25%": 0,
         "50%": 1,
         "75%": 1,
         "_deepnote_index_column": "sex",
         "count": 303,
         "max": 1,
         "mean": 0.6798679867986799,
         "min": 0,
         "std": 0.46729882777012993
        },
        {
         "25%": 3,
         "50%": 3,
         "75%": 4,
         "_deepnote_index_column": "chest_pain",
         "count": 303,
         "max": 4,
         "mean": 3.1584158415841586,
         "min": 1,
         "std": 0.9601256119600138
        },
        {
         "25%": 120,
         "50%": 130,
         "75%": 140,
         "_deepnote_index_column": "resting_blood_pressure",
         "count": 303,
         "max": 200,
         "mean": 131.68976897689768,
         "min": 94,
         "std": 17.59974772958769
        },
        {
         "25%": 211,
         "50%": 241,
         "75%": 275,
         "_deepnote_index_column": "cholesterol",
         "count": 303,
         "max": 564,
         "mean": 246.69306930693068,
         "min": 126,
         "std": 51.77691754263704
        },
        {
         "25%": 0,
         "50%": 0,
         "75%": 0,
         "_deepnote_index_column": "fasting_blood_sugar",
         "count": 303,
         "max": 1,
         "mean": 0.1485148514851485,
         "min": 0,
         "std": 0.35619787492797644
        },
        {
         "25%": 0,
         "50%": 1,
         "75%": 2,
         "_deepnote_index_column": "resting_ECG",
         "count": 303,
         "max": 2,
         "mean": 0.9900990099009901,
         "min": 0,
         "std": 0.9949712915251782
        },
        {
         "25%": 133.5,
         "50%": 153,
         "75%": 166,
         "_deepnote_index_column": "max_heart_rate",
         "count": 303,
         "max": 202,
         "mean": 149.6072607260726,
         "min": 71,
         "std": 22.875003276980376
        },
        {
         "25%": 0,
         "50%": 0,
         "75%": 1,
         "_deepnote_index_column": "exercise_induced_angina",
         "count": 303,
         "max": 1,
         "mean": 0.32673267326732675,
         "min": 0,
         "std": 0.46979446452231655
        },
        {
         "25%": 0,
         "50%": 0.8,
         "75%": 1.6,
         "_deepnote_index_column": "old_peak",
         "count": 303,
         "max": 6.2,
         "mean": 1.0396039603960396,
         "min": 0,
         "std": 1.1610750220686348
        }
       ]
      },
      "text/html": [
       "<div>\n",
       "<style scoped>\n",
       "    .dataframe tbody tr th:only-of-type {\n",
       "        vertical-align: middle;\n",
       "    }\n",
       "\n",
       "    .dataframe tbody tr th {\n",
       "        vertical-align: top;\n",
       "    }\n",
       "\n",
       "    .dataframe thead th {\n",
       "        text-align: right;\n",
       "    }\n",
       "</style>\n",
       "<table border=\"1\" class=\"dataframe\">\n",
       "  <thead>\n",
       "    <tr style=\"text-align: right;\">\n",
       "      <th></th>\n",
       "      <th>count</th>\n",
       "      <th>mean</th>\n",
       "      <th>std</th>\n",
       "      <th>min</th>\n",
       "      <th>25%</th>\n",
       "      <th>50%</th>\n",
       "      <th>75%</th>\n",
       "      <th>max</th>\n",
       "    </tr>\n",
       "  </thead>\n",
       "  <tbody>\n",
       "    <tr>\n",
       "      <th>age</th>\n",
       "      <td>303.0</td>\n",
       "      <td>54.438944</td>\n",
       "      <td>9.038662</td>\n",
       "      <td>29.0</td>\n",
       "      <td>48.0</td>\n",
       "      <td>56.0</td>\n",
       "      <td>61.0</td>\n",
       "      <td>77.0</td>\n",
       "    </tr>\n",
       "    <tr>\n",
       "      <th>sex</th>\n",
       "      <td>303.0</td>\n",
       "      <td>0.679868</td>\n",
       "      <td>0.467299</td>\n",
       "      <td>0.0</td>\n",
       "      <td>0.0</td>\n",
       "      <td>1.0</td>\n",
       "      <td>1.0</td>\n",
       "      <td>1.0</td>\n",
       "    </tr>\n",
       "    <tr>\n",
       "      <th>chest_pain</th>\n",
       "      <td>303.0</td>\n",
       "      <td>3.158416</td>\n",
       "      <td>0.960126</td>\n",
       "      <td>1.0</td>\n",
       "      <td>3.0</td>\n",
       "      <td>3.0</td>\n",
       "      <td>4.0</td>\n",
       "      <td>4.0</td>\n",
       "    </tr>\n",
       "    <tr>\n",
       "      <th>resting_blood_pressure</th>\n",
       "      <td>303.0</td>\n",
       "      <td>131.689769</td>\n",
       "      <td>17.599748</td>\n",
       "      <td>94.0</td>\n",
       "      <td>120.0</td>\n",
       "      <td>130.0</td>\n",
       "      <td>140.0</td>\n",
       "      <td>200.0</td>\n",
       "    </tr>\n",
       "    <tr>\n",
       "      <th>cholesterol</th>\n",
       "      <td>303.0</td>\n",
       "      <td>246.693069</td>\n",
       "      <td>51.776918</td>\n",
       "      <td>126.0</td>\n",
       "      <td>211.0</td>\n",
       "      <td>241.0</td>\n",
       "      <td>275.0</td>\n",
       "      <td>564.0</td>\n",
       "    </tr>\n",
       "    <tr>\n",
       "      <th>fasting_blood_sugar</th>\n",
       "      <td>303.0</td>\n",
       "      <td>0.148515</td>\n",
       "      <td>0.356198</td>\n",
       "      <td>0.0</td>\n",
       "      <td>0.0</td>\n",
       "      <td>0.0</td>\n",
       "      <td>0.0</td>\n",
       "      <td>1.0</td>\n",
       "    </tr>\n",
       "    <tr>\n",
       "      <th>resting_ECG</th>\n",
       "      <td>303.0</td>\n",
       "      <td>0.990099</td>\n",
       "      <td>0.994971</td>\n",
       "      <td>0.0</td>\n",
       "      <td>0.0</td>\n",
       "      <td>1.0</td>\n",
       "      <td>2.0</td>\n",
       "      <td>2.0</td>\n",
       "    </tr>\n",
       "    <tr>\n",
       "      <th>max_heart_rate</th>\n",
       "      <td>303.0</td>\n",
       "      <td>149.607261</td>\n",
       "      <td>22.875003</td>\n",
       "      <td>71.0</td>\n",
       "      <td>133.5</td>\n",
       "      <td>153.0</td>\n",
       "      <td>166.0</td>\n",
       "      <td>202.0</td>\n",
       "    </tr>\n",
       "    <tr>\n",
       "      <th>exercise_induced_angina</th>\n",
       "      <td>303.0</td>\n",
       "      <td>0.326733</td>\n",
       "      <td>0.469794</td>\n",
       "      <td>0.0</td>\n",
       "      <td>0.0</td>\n",
       "      <td>0.0</td>\n",
       "      <td>1.0</td>\n",
       "      <td>1.0</td>\n",
       "    </tr>\n",
       "    <tr>\n",
       "      <th>old_peak</th>\n",
       "      <td>303.0</td>\n",
       "      <td>1.039604</td>\n",
       "      <td>1.161075</td>\n",
       "      <td>0.0</td>\n",
       "      <td>0.0</td>\n",
       "      <td>0.8</td>\n",
       "      <td>1.6</td>\n",
       "      <td>6.2</td>\n",
       "    </tr>\n",
       "    <tr>\n",
       "      <th>ST_slope</th>\n",
       "      <td>303.0</td>\n",
       "      <td>1.600660</td>\n",
       "      <td>0.616226</td>\n",
       "      <td>1.0</td>\n",
       "      <td>1.0</td>\n",
       "      <td>2.0</td>\n",
       "      <td>2.0</td>\n",
       "      <td>3.0</td>\n",
       "    </tr>\n",
       "    <tr>\n",
       "      <th>heart_disease</th>\n",
       "      <td>303.0</td>\n",
       "      <td>0.937294</td>\n",
       "      <td>1.228536</td>\n",
       "      <td>0.0</td>\n",
       "      <td>0.0</td>\n",
       "      <td>0.0</td>\n",
       "      <td>2.0</td>\n",
       "      <td>4.0</td>\n",
       "    </tr>\n",
       "  </tbody>\n",
       "</table>\n",
       "</div>"
      ],
      "text/plain": [
       "                         count        mean        std    min    25%    50%  \\\n",
       "age                      303.0   54.438944   9.038662   29.0   48.0   56.0   \n",
       "sex                      303.0    0.679868   0.467299    0.0    0.0    1.0   \n",
       "chest_pain               303.0    3.158416   0.960126    1.0    3.0    3.0   \n",
       "resting_blood_pressure   303.0  131.689769  17.599748   94.0  120.0  130.0   \n",
       "cholesterol              303.0  246.693069  51.776918  126.0  211.0  241.0   \n",
       "fasting_blood_sugar      303.0    0.148515   0.356198    0.0    0.0    0.0   \n",
       "resting_ECG              303.0    0.990099   0.994971    0.0    0.0    1.0   \n",
       "max_heart_rate           303.0  149.607261  22.875003   71.0  133.5  153.0   \n",
       "exercise_induced_angina  303.0    0.326733   0.469794    0.0    0.0    0.0   \n",
       "old_peak                 303.0    1.039604   1.161075    0.0    0.0    0.8   \n",
       "ST_slope                 303.0    1.600660   0.616226    1.0    1.0    2.0   \n",
       "heart_disease            303.0    0.937294   1.228536    0.0    0.0    0.0   \n",
       "\n",
       "                           75%    max  \n",
       "age                       61.0   77.0  \n",
       "sex                        1.0    1.0  \n",
       "chest_pain                 4.0    4.0  \n",
       "resting_blood_pressure   140.0  200.0  \n",
       "cholesterol              275.0  564.0  \n",
       "fasting_blood_sugar        0.0    1.0  \n",
       "resting_ECG                2.0    2.0  \n",
       "max_heart_rate           166.0  202.0  \n",
       "exercise_induced_angina    1.0    1.0  \n",
       "old_peak                   1.6    6.2  \n",
       "ST_slope                   2.0    3.0  \n",
       "heart_disease              2.0    4.0  "
      ]
     },
     "execution_count": 7,
     "metadata": {},
     "output_type": "execute_result"
    }
   ],
   "source": [
    "# Describe\n",
    "df.describe().T\n",
    "\n",
    "# No negatives"
   ]
  },
  {
   "cell_type": "code",
   "execution_count": null,
   "id": "oZJfzmbfqbe5",
   "metadata": {
    "cell_id": "d3acaea060044550bd437f82e27f482e",
    "deepnote_cell_height": 204.375,
    "deepnote_cell_type": "code",
    "deepnote_to_be_reexecuted": false,
    "execution_millis": 945,
    "execution_start": 1651856894843,
    "id": "oZJfzmbfqbe5",
    "outputId": "0b2408c3-53af-4c8c-af8e-db3e91c1f895",
    "source_hash": "d9312f4c",
    "tags": []
   },
   "outputs": [
    {
     "name": "stdout",
     "output_type": "stream",
     "text": [
      "Thalassemia col unique entries = ['6.0' '3.0' '7.0' '?']\n",
      "Major vessels col unique entires = ['0.0' '3.0' '2.0' '1.0' '?']\n"
     ]
    }
   ],
   "source": [
    "# Taking a look at just the 2 string col's\n",
    "print('Thalassemia col unique entries =', df['thalassemia'].unique())\n",
    "print('Major vessels col unique entires =', df['major_vessels'].unique())\n",
    "\n",
    "# Well, now we know why it says it's a string... it's because of those question marks (?)"
   ]
  },
  {
   "cell_type": "code",
   "execution_count": null,
   "id": "w-cYC8aTqbe5",
   "metadata": {
    "cell_id": "00013-0819e6fd-a1c2-45b6-813f-09cdd9d4c16d",
    "deepnote_cell_height": 171,
    "deepnote_cell_type": "code",
    "deepnote_to_be_reexecuted": false,
    "execution_millis": 28,
    "execution_start": 1651856894865,
    "id": "w-cYC8aTqbe5",
    "source_hash": "edd6e94"
   },
   "outputs": [],
   "source": [
    "# Fix the quesiton marks (?)\n",
    "df.replace('?', None, inplace = True)\n",
    "\n",
    "# Change col types to floats\n",
    "df = df.astype({'major_vessels':'float',\n",
    "                'thalassemia':'float'})  "
   ]
  },
  {
   "cell_type": "code",
   "execution_count": null,
   "id": "G8tbFgorqbe5",
   "metadata": {
    "cell_id": "00014-7ca007fe-1402-4ba2-9cae-cbe88b518a72",
    "deepnote_cell_height": 225,
    "deepnote_cell_type": "code",
    "deepnote_to_be_reexecuted": false,
    "execution_millis": 27,
    "execution_start": 1651856894904,
    "id": "G8tbFgorqbe5",
    "source_hash": "3204a6c3"
   },
   "outputs": [],
   "source": [
    "# Binarize the target (heart disease) according to Prof. Xin's instructions\n",
    "# 0 - No heart disease\n",
    "# 1,2,3,4 - yes heart disease\n",
    "\n",
    "positive_heart_disease = df.heart_disease > 0\n",
    "negative_heart_disease = df.heart_disease == 0\n",
    "\n",
    "df.loc[positive_heart_disease,'heart_disease'] = 1\n",
    "df.loc[negative_heart_disease, 'heart_disease'] = 0"
   ]
  },
  {
   "cell_type": "code",
   "execution_count": null,
   "id": "OmbJrTtZqbe6",
   "metadata": {
    "cell_id": "00015-6cce6e4e-2f15-4ac2-adff-395d6c9158f9",
    "deepnote_cell_height": 289.6875,
    "deepnote_cell_type": "code",
    "deepnote_output_heights": [
     174.6875
    ],
    "deepnote_to_be_reexecuted": false,
    "execution_millis": 1000,
    "execution_start": 1651856894937,
    "id": "OmbJrTtZqbe6",
    "outputId": "e3c33103-3745-48a7-ecd0-6b3b9b9c30aa",
    "source_hash": "9ad0a566"
   },
   "outputs": [
    {
     "data": {
      "text/plain": [
       "count    303.000000\n",
       "mean       0.458746\n",
       "std        0.499120\n",
       "min        0.000000\n",
       "25%        0.000000\n",
       "50%        0.000000\n",
       "75%        1.000000\n",
       "max        1.000000\n",
       "Name: heart_disease, dtype: float64"
      ]
     },
     "execution_count": 11,
     "metadata": {},
     "output_type": "execute_result"
    }
   ],
   "source": [
    "# CHECK\n",
    "df['heart_disease'].describe().T"
   ]
  },
  {
   "cell_type": "code",
   "execution_count": null,
   "id": "iq4_HeMgqbe6",
   "metadata": {
    "cell_id": "00016-38f37fa4-c211-4d77-96a3-ea3b97830861",
    "deepnote_cell_height": 589,
    "deepnote_cell_type": "code",
    "deepnote_output_heights": [
     438
    ],
    "deepnote_to_be_reexecuted": false,
    "execution_millis": 1074,
    "execution_start": 1651856894957,
    "id": "iq4_HeMgqbe6",
    "outputId": "0b11947b-b43a-49cc-e05f-91dadd36bece",
    "source_hash": "82357e5"
   },
   "outputs": [
    {
     "data": {
      "text/html": [
       "<style  type=\"text/css\" >\n",
       "#T_e5949_row0_col0,#T_e5949_row1_col1,#T_e5949_row2_col2,#T_e5949_row3_col3,#T_e5949_row4_col4,#T_e5949_row5_col5,#T_e5949_row6_col6,#T_e5949_row7_col7,#T_e5949_row8_col8,#T_e5949_row9_col9,#T_e5949_row10_col10,#T_e5949_row11_col11,#T_e5949_row12_col12,#T_e5949_row13_col13{\n",
       "            background-color:  #b40426;\n",
       "            color:  #f1f1f1;\n",
       "        }#T_e5949_row0_col1,#T_e5949_row1_col5{\n",
       "            background-color:  #5470de;\n",
       "            color:  #000000;\n",
       "        }#T_e5949_row0_col2,#T_e5949_row0_col3,#T_e5949_row1_col9,#T_e5949_row8_col11{\n",
       "            background-color:  #a9c6fd;\n",
       "            color:  #000000;\n",
       "        }#T_e5949_row0_col4,#T_e5949_row0_col8,#T_e5949_row6_col9{\n",
       "            background-color:  #adc9fd;\n",
       "            color:  #000000;\n",
       "        }#T_e5949_row0_col5,#T_e5949_row8_col6{\n",
       "            background-color:  #6b8df0;\n",
       "            color:  #000000;\n",
       "        }#T_e5949_row0_col6,#T_e5949_row1_col0,#T_e5949_row3_col6{\n",
       "            background-color:  #80a3fa;\n",
       "            color:  #000000;\n",
       "        }#T_e5949_row0_col7,#T_e5949_row7_col3{\n",
       "            background-color:  #3f53c6;\n",
       "            color:  #f1f1f1;\n",
       "        }#T_e5949_row0_col9{\n",
       "            background-color:  #c3d5f4;\n",
       "            color:  #000000;\n",
       "        }#T_e5949_row0_col10,#T_e5949_row3_col9,#T_e5949_row13_col1{\n",
       "            background-color:  #bfd3f6;\n",
       "            color:  #000000;\n",
       "        }#T_e5949_row0_col11,#T_e5949_row9_col8,#T_e5949_row9_col12{\n",
       "            background-color:  #d8dce2;\n",
       "            color:  #000000;\n",
       "        }#T_e5949_row0_col12{\n",
       "            background-color:  #a3c2fe;\n",
       "            color:  #000000;\n",
       "        }#T_e5949_row0_col13,#T_e5949_row12_col2{\n",
       "            background-color:  #cfdaea;\n",
       "            color:  #000000;\n",
       "        }#T_e5949_row1_col2,#T_e5949_row1_col7,#T_e5949_row5_col9,#T_e5949_row11_col4{\n",
       "            background-color:  #90b2fe;\n",
       "            color:  #000000;\n",
       "        }#T_e5949_row1_col3,#T_e5949_row1_col4,#T_e5949_row2_col5,#T_e5949_row4_col1,#T_e5949_row7_col0,#T_e5949_row7_col2,#T_e5949_row7_col6,#T_e5949_row7_col8,#T_e5949_row7_col9,#T_e5949_row7_col10,#T_e5949_row7_col11,#T_e5949_row7_col12,#T_e5949_row7_col13,#T_e5949_row13_col7{\n",
       "            background-color:  #3b4cc0;\n",
       "            color:  #f1f1f1;\n",
       "        }#T_e5949_row1_col6,#T_e5949_row10_col5,#T_e5949_row12_col6{\n",
       "            background-color:  #5875e1;\n",
       "            color:  #000000;\n",
       "        }#T_e5949_row1_col8{\n",
       "            background-color:  #bad0f8;\n",
       "            color:  #000000;\n",
       "        }#T_e5949_row1_col10,#T_e5949_row4_col2{\n",
       "            background-color:  #a1c0ff;\n",
       "            color:  #000000;\n",
       "        }#T_e5949_row1_col11,#T_e5949_row5_col7,#T_e5949_row8_col1{\n",
       "            background-color:  #9abbff;\n",
       "            color:  #000000;\n",
       "        }#T_e5949_row1_col12,#T_e5949_row12_col8{\n",
       "            background-color:  #e1dad6;\n",
       "            color:  #000000;\n",
       "        }#T_e5949_row1_col13{\n",
       "            background-color:  #dadce0;\n",
       "            color:  #000000;\n",
       "        }#T_e5949_row2_col0{\n",
       "            background-color:  #b2ccfb;\n",
       "            color:  #000000;\n",
       "        }#T_e5949_row2_col1,#T_e5949_row5_col4{\n",
       "            background-color:  #7295f4;\n",
       "            color:  #000000;\n",
       "        }#T_e5949_row2_col3{\n",
       "            background-color:  #4257c9;\n",
       "            color:  #f1f1f1;\n",
       "        }#T_e5949_row2_col4,#T_e5949_row6_col12{\n",
       "            background-color:  #85a8fc;\n",
       "            color:  #000000;\n",
       "        }#T_e5949_row2_col6{\n",
       "            background-color:  #6687ed;\n",
       "            color:  #000000;\n",
       "        }#T_e5949_row2_col7{\n",
       "            background-color:  #4b64d5;\n",
       "            color:  #f1f1f1;\n",
       "        }#T_e5949_row2_col8{\n",
       "            background-color:  #ead5c9;\n",
       "            color:  #000000;\n",
       "        }#T_e5949_row2_col9{\n",
       "            background-color:  #c1d4f4;\n",
       "            color:  #000000;\n",
       "        }#T_e5949_row2_col10,#T_e5949_row6_col0{\n",
       "            background-color:  #bcd2f7;\n",
       "            color:  #000000;\n",
       "        }#T_e5949_row2_col11{\n",
       "            background-color:  #bed2f6;\n",
       "            color:  #000000;\n",
       "        }#T_e5949_row2_col12,#T_e5949_row11_col2,#T_e5949_row11_col12{\n",
       "            background-color:  #c7d7f0;\n",
       "            color:  #000000;\n",
       "        }#T_e5949_row2_col13,#T_e5949_row13_col8{\n",
       "            background-color:  #f0cdbb;\n",
       "            color:  #000000;\n",
       "        }#T_e5949_row3_col0,#T_e5949_row12_col1,#T_e5949_row12_col10{\n",
       "            background-color:  #d9dce1;\n",
       "            color:  #000000;\n",
       "        }#T_e5949_row3_col1,#T_e5949_row12_col5{\n",
       "            background-color:  #5d7ce6;\n",
       "            color:  #000000;\n",
       "        }#T_e5949_row3_col2,#T_e5949_row4_col12,#T_e5949_row5_col3{\n",
       "            background-color:  #84a7fc;\n",
       "            color:  #000000;\n",
       "        }#T_e5949_row3_col4,#T_e5949_row4_col10,#T_e5949_row5_col12{\n",
       "            background-color:  #96b7ff;\n",
       "            color:  #000000;\n",
       "        }#T_e5949_row3_col5{\n",
       "            background-color:  #7ea1fa;\n",
       "            color:  #000000;\n",
       "        }#T_e5949_row3_col7{\n",
       "            background-color:  #92b4fe;\n",
       "            color:  #000000;\n",
       "        }#T_e5949_row3_col8,#T_e5949_row5_col10{\n",
       "            background-color:  #a6c4fe;\n",
       "            color:  #000000;\n",
       "        }#T_e5949_row3_col10,#T_e5949_row11_col10{\n",
       "            background-color:  #b3cdfb;\n",
       "            color:  #000000;\n",
       "        }#T_e5949_row3_col11{\n",
       "            background-color:  #98b9ff;\n",
       "            color:  #000000;\n",
       "        }#T_e5949_row3_col12,#T_e5949_row4_col8{\n",
       "            background-color:  #a5c3fe;\n",
       "            color:  #000000;\n",
       "        }#T_e5949_row3_col13,#T_e5949_row9_col2,#T_e5949_row10_col0{\n",
       "            background-color:  #c0d4f5;\n",
       "            color:  #000000;\n",
       "        }#T_e5949_row4_col0,#T_e5949_row9_col11{\n",
       "            background-color:  #cad8ef;\n",
       "            color:  #000000;\n",
       "        }#T_e5949_row4_col3,#T_e5949_row9_col6{\n",
       "            background-color:  #7597f6;\n",
       "            color:  #000000;\n",
       "        }#T_e5949_row4_col5{\n",
       "            background-color:  #4961d2;\n",
       "            color:  #f1f1f1;\n",
       "        }#T_e5949_row4_col6,#T_e5949_row6_col7,#T_e5949_row9_col3,#T_e5949_row13_col4{\n",
       "            background-color:  #88abfd;\n",
       "            color:  #000000;\n",
       "        }#T_e5949_row4_col7,#T_e5949_row4_col9{\n",
       "            background-color:  #9bbcff;\n",
       "            color:  #000000;\n",
       "        }#T_e5949_row4_col11{\n",
       "            background-color:  #9ebeff;\n",
       "            color:  #000000;\n",
       "        }#T_e5949_row4_col13{\n",
       "            background-color:  #b1cbfc;\n",
       "            color:  #000000;\n",
       "        }#T_e5949_row5_col0{\n",
       "            background-color:  #b6cefa;\n",
       "            color:  #000000;\n",
       "        }#T_e5949_row5_col1,#T_e5949_row9_col4{\n",
       "            background-color:  #7da0f9;\n",
       "            color:  #000000;\n",
       "        }#T_e5949_row5_col2{\n",
       "            background-color:  #82a6fb;\n",
       "            color:  #000000;\n",
       "        }#T_e5949_row5_col6{\n",
       "            background-color:  #6788ee;\n",
       "            color:  #000000;\n",
       "        }#T_e5949_row5_col8{\n",
       "            background-color:  #9dbdff;\n",
       "            color:  #000000;\n",
       "        }#T_e5949_row5_col11{\n",
       "            background-color:  #aac7fd;\n",
       "            color:  #000000;\n",
       "        }#T_e5949_row5_col13,#T_e5949_row6_col4,#T_e5949_row6_col11{\n",
       "            background-color:  #a2c1ff;\n",
       "            color:  #000000;\n",
       "        }#T_e5949_row6_col1,#T_e5949_row12_col3{\n",
       "            background-color:  #7699f6;\n",
       "            color:  #000000;\n",
       "        }#T_e5949_row6_col2,#T_e5949_row10_col11{\n",
       "            background-color:  #9fbfff;\n",
       "            color:  #000000;\n",
       "        }#T_e5949_row6_col3,#T_e5949_row10_col1,#T_e5949_row11_col6{\n",
       "            background-color:  #7a9df8;\n",
       "            color:  #000000;\n",
       "        }#T_e5949_row6_col5,#T_e5949_row12_col7{\n",
       "            background-color:  #5a78e4;\n",
       "            color:  #000000;\n",
       "        }#T_e5949_row6_col8{\n",
       "            background-color:  #abc8fd;\n",
       "            color:  #000000;\n",
       "        }#T_e5949_row6_col10,#T_e5949_row12_col0{\n",
       "            background-color:  #b7cff9;\n",
       "            color:  #000000;\n",
       "        }#T_e5949_row6_col13{\n",
       "            background-color:  #c4d5f3;\n",
       "            color:  #000000;\n",
       "        }#T_e5949_row7_col1{\n",
       "            background-color:  #6282ea;\n",
       "            color:  #000000;\n",
       "        }#T_e5949_row7_col4,#T_e5949_row10_col4{\n",
       "            background-color:  #6e90f2;\n",
       "            color:  #000000;\n",
       "        }#T_e5949_row7_col5,#T_e5949_row8_col7{\n",
       "            background-color:  #4358cb;\n",
       "            color:  #f1f1f1;\n",
       "        }#T_e5949_row8_col0{\n",
       "            background-color:  #afcafc;\n",
       "            color:  #000000;\n",
       "        }#T_e5949_row8_col2{\n",
       "            background-color:  #e6d7cf;\n",
       "            color:  #000000;\n",
       "        }#T_e5949_row8_col3{\n",
       "            background-color:  #6180e9;\n",
       "            color:  #000000;\n",
       "        }#T_e5949_row8_col4{\n",
       "            background-color:  #81a4fb;\n",
       "            color:  #000000;\n",
       "        }#T_e5949_row8_col5,#T_e5949_row13_col5{\n",
       "            background-color:  #4e68d8;\n",
       "            color:  #000000;\n",
       "        }#T_e5949_row8_col9{\n",
       "            background-color:  #d5dbe5;\n",
       "            color:  #000000;\n",
       "        }#T_e5949_row8_col10,#T_e5949_row10_col8{\n",
       "            background-color:  #d3dbe7;\n",
       "            color:  #000000;\n",
       "        }#T_e5949_row8_col12{\n",
       "            background-color:  #d6dce4;\n",
       "            color:  #000000;\n",
       "        }#T_e5949_row8_col13{\n",
       "            background-color:  #f2cbb7;\n",
       "            color:  #000000;\n",
       "        }#T_e5949_row9_col0{\n",
       "            background-color:  #c9d7f0;\n",
       "            color:  #000000;\n",
       "        }#T_e5949_row9_col1{\n",
       "            background-color:  #8db0fe;\n",
       "            color:  #000000;\n",
       "        }#T_e5949_row9_col5{\n",
       "            background-color:  #485fd1;\n",
       "            color:  #f1f1f1;\n",
       "        }#T_e5949_row9_col7{\n",
       "            background-color:  #4a63d3;\n",
       "            color:  #f1f1f1;\n",
       "        }#T_e5949_row9_col10{\n",
       "            background-color:  #f7af91;\n",
       "            color:  #000000;\n",
       "        }#T_e5949_row9_col13{\n",
       "            background-color:  #f1ccb8;\n",
       "            color:  #000000;\n",
       "        }#T_e5949_row10_col2{\n",
       "            background-color:  #b5cdfa;\n",
       "            color:  #000000;\n",
       "        }#T_e5949_row10_col3{\n",
       "            background-color:  #7093f3;\n",
       "            color:  #000000;\n",
       "        }#T_e5949_row10_col6,#T_e5949_row13_col3{\n",
       "            background-color:  #7b9ff9;\n",
       "            color:  #000000;\n",
       "        }#T_e5949_row10_col7{\n",
       "            background-color:  #4055c8;\n",
       "            color:  #f1f1f1;\n",
       "        }#T_e5949_row10_col9{\n",
       "            background-color:  #f7b194;\n",
       "            color:  #000000;\n",
       "        }#T_e5949_row10_col12,#T_e5949_row13_col0{\n",
       "            background-color:  #cdd9ec;\n",
       "            color:  #000000;\n",
       "        }#T_e5949_row10_col13{\n",
       "            background-color:  #e5d8d1;\n",
       "            color:  #000000;\n",
       "        }#T_e5949_row11_col0{\n",
       "            background-color:  #e4d9d2;\n",
       "            color:  #000000;\n",
       "        }#T_e5949_row11_col1{\n",
       "            background-color:  #8caffe;\n",
       "            color:  #000000;\n",
       "        }#T_e5949_row11_col3{\n",
       "            background-color:  #6a8bef;\n",
       "            color:  #000000;\n",
       "        }#T_e5949_row11_col5{\n",
       "            background-color:  #799cf8;\n",
       "            color:  #000000;\n",
       "        }#T_e5949_row11_col7{\n",
       "            background-color:  #5b7ae5;\n",
       "            color:  #000000;\n",
       "        }#T_e5949_row11_col8{\n",
       "            background-color:  #bbd1f8;\n",
       "            color:  #000000;\n",
       "        }#T_e5949_row11_col9{\n",
       "            background-color:  #d4dbe6;\n",
       "            color:  #000000;\n",
       "        }#T_e5949_row11_col13{\n",
       "            background-color:  #f3c7b1;\n",
       "            color:  #000000;\n",
       "        }#T_e5949_row12_col4{\n",
       "            background-color:  #7396f5;\n",
       "            color:  #000000;\n",
       "        }#T_e5949_row12_col9{\n",
       "            background-color:  #dfdbd9;\n",
       "            color:  #000000;\n",
       "        }#T_e5949_row12_col11{\n",
       "            background-color:  #c6d6f1;\n",
       "            color:  #000000;\n",
       "        }#T_e5949_row12_col13{\n",
       "            background-color:  #f7b89c;\n",
       "            color:  #000000;\n",
       "        }#T_e5949_row13_col2{\n",
       "            background-color:  #ebd3c6;\n",
       "            color:  #000000;\n",
       "        }#T_e5949_row13_col6{\n",
       "            background-color:  #86a9fc;\n",
       "            color:  #000000;\n",
       "        }#T_e5949_row13_col9{\n",
       "            background-color:  #edd1c2;\n",
       "            color:  #000000;\n",
       "        }#T_e5949_row13_col10{\n",
       "            background-color:  #e2dad5;\n",
       "            color:  #000000;\n",
       "        }#T_e5949_row13_col11{\n",
       "            background-color:  #edd2c3;\n",
       "            color:  #000000;\n",
       "        }#T_e5949_row13_col12{\n",
       "            background-color:  #f5c2aa;\n",
       "            color:  #000000;\n",
       "        }</style><table id=\"T_e5949_\" ><thead>    <tr>        <th class=\"blank level0\" ></th>        <th class=\"col_heading level0 col0\" >age</th>        <th class=\"col_heading level0 col1\" >sex</th>        <th class=\"col_heading level0 col2\" >chest_pain</th>        <th class=\"col_heading level0 col3\" >resting_blood_pressure</th>        <th class=\"col_heading level0 col4\" >cholesterol</th>        <th class=\"col_heading level0 col5\" >fasting_blood_sugar</th>        <th class=\"col_heading level0 col6\" >resting_ECG</th>        <th class=\"col_heading level0 col7\" >max_heart_rate</th>        <th class=\"col_heading level0 col8\" >exercise_induced_angina</th>        <th class=\"col_heading level0 col9\" >old_peak</th>        <th class=\"col_heading level0 col10\" >ST_slope</th>        <th class=\"col_heading level0 col11\" >major_vessels</th>        <th class=\"col_heading level0 col12\" >thalassemia</th>        <th class=\"col_heading level0 col13\" >heart_disease</th>    </tr></thead><tbody>\n",
       "                <tr>\n",
       "                        <th id=\"T_e5949_level0_row0\" class=\"row_heading level0 row0\" >age</th>\n",
       "                        <td id=\"T_e5949_row0_col0\" class=\"data row0 col0\" >1.000000</td>\n",
       "                        <td id=\"T_e5949_row0_col1\" class=\"data row0 col1\" >-0.097542</td>\n",
       "                        <td id=\"T_e5949_row0_col2\" class=\"data row0 col2\" >0.104139</td>\n",
       "                        <td id=\"T_e5949_row0_col3\" class=\"data row0 col3\" >0.284946</td>\n",
       "                        <td id=\"T_e5949_row0_col4\" class=\"data row0 col4\" >0.208950</td>\n",
       "                        <td id=\"T_e5949_row0_col5\" class=\"data row0 col5\" >0.118530</td>\n",
       "                        <td id=\"T_e5949_row0_col6\" class=\"data row0 col6\" >0.148868</td>\n",
       "                        <td id=\"T_e5949_row0_col7\" class=\"data row0 col7\" >-0.393806</td>\n",
       "                        <td id=\"T_e5949_row0_col8\" class=\"data row0 col8\" >0.091661</td>\n",
       "                        <td id=\"T_e5949_row0_col9\" class=\"data row0 col9\" >0.203805</td>\n",
       "                        <td id=\"T_e5949_row0_col10\" class=\"data row0 col10\" >0.161770</td>\n",
       "                        <td id=\"T_e5949_row0_col11\" class=\"data row0 col11\" >0.344370</td>\n",
       "                        <td id=\"T_e5949_row0_col12\" class=\"data row0 col12\" >0.126997</td>\n",
       "                        <td id=\"T_e5949_row0_col13\" class=\"data row0 col13\" >0.223120</td>\n",
       "            </tr>\n",
       "            <tr>\n",
       "                        <th id=\"T_e5949_level0_row1\" class=\"row_heading level0 row1\" >sex</th>\n",
       "                        <td id=\"T_e5949_row1_col0\" class=\"data row1 col0\" >-0.097542</td>\n",
       "                        <td id=\"T_e5949_row1_col1\" class=\"data row1 col1\" >1.000000</td>\n",
       "                        <td id=\"T_e5949_row1_col2\" class=\"data row1 col2\" >0.010084</td>\n",
       "                        <td id=\"T_e5949_row1_col3\" class=\"data row1 col3\" >-0.064456</td>\n",
       "                        <td id=\"T_e5949_row1_col4\" class=\"data row1 col4\" >-0.199915</td>\n",
       "                        <td id=\"T_e5949_row1_col5\" class=\"data row1 col5\" >0.047862</td>\n",
       "                        <td id=\"T_e5949_row1_col6\" class=\"data row1 col6\" >0.021647</td>\n",
       "                        <td id=\"T_e5949_row1_col7\" class=\"data row1 col7\" >-0.048663</td>\n",
       "                        <td id=\"T_e5949_row1_col8\" class=\"data row1 col8\" >0.146201</td>\n",
       "                        <td id=\"T_e5949_row1_col9\" class=\"data row1 col9\" >0.102173</td>\n",
       "                        <td id=\"T_e5949_row1_col10\" class=\"data row1 col10\" >0.037533</td>\n",
       "                        <td id=\"T_e5949_row1_col11\" class=\"data row1 col11\" >0.099503</td>\n",
       "                        <td id=\"T_e5949_row1_col12\" class=\"data row1 col12\" >0.384323</td>\n",
       "                        <td id=\"T_e5949_row1_col13\" class=\"data row1 col13\" >0.276816</td>\n",
       "            </tr>\n",
       "            <tr>\n",
       "                        <th id=\"T_e5949_level0_row2\" class=\"row_heading level0 row2\" >chest_pain</th>\n",
       "                        <td id=\"T_e5949_row2_col0\" class=\"data row2 col0\" >0.104139</td>\n",
       "                        <td id=\"T_e5949_row2_col1\" class=\"data row2 col1\" >0.010084</td>\n",
       "                        <td id=\"T_e5949_row2_col2\" class=\"data row2 col2\" >1.000000</td>\n",
       "                        <td id=\"T_e5949_row2_col3\" class=\"data row2 col3\" >-0.036077</td>\n",
       "                        <td id=\"T_e5949_row2_col4\" class=\"data row2 col4\" >0.072319</td>\n",
       "                        <td id=\"T_e5949_row2_col5\" class=\"data row2 col5\" >-0.039975</td>\n",
       "                        <td id=\"T_e5949_row2_col6\" class=\"data row2 col6\" >0.067505</td>\n",
       "                        <td id=\"T_e5949_row2_col7\" class=\"data row2 col7\" >-0.334422</td>\n",
       "                        <td id=\"T_e5949_row2_col8\" class=\"data row2 col8\" >0.384060</td>\n",
       "                        <td id=\"T_e5949_row2_col9\" class=\"data row2 col9\" >0.202277</td>\n",
       "                        <td id=\"T_e5949_row2_col10\" class=\"data row2 col10\" >0.152050</td>\n",
       "                        <td id=\"T_e5949_row2_col11\" class=\"data row2 col11\" >0.230724</td>\n",
       "                        <td id=\"T_e5949_row2_col12\" class=\"data row2 col12\" >0.266742</td>\n",
       "                        <td id=\"T_e5949_row2_col13\" class=\"data row2 col13\" >0.414446</td>\n",
       "            </tr>\n",
       "            <tr>\n",
       "                        <th id=\"T_e5949_level0_row3\" class=\"row_heading level0 row3\" >resting_blood_pressure</th>\n",
       "                        <td id=\"T_e5949_row3_col0\" class=\"data row3 col0\" >0.284946</td>\n",
       "                        <td id=\"T_e5949_row3_col1\" class=\"data row3 col1\" >-0.064456</td>\n",
       "                        <td id=\"T_e5949_row3_col2\" class=\"data row3 col2\" >-0.036077</td>\n",
       "                        <td id=\"T_e5949_row3_col3\" class=\"data row3 col3\" >1.000000</td>\n",
       "                        <td id=\"T_e5949_row3_col4\" class=\"data row3 col4\" >0.130120</td>\n",
       "                        <td id=\"T_e5949_row3_col5\" class=\"data row3 col5\" >0.175340</td>\n",
       "                        <td id=\"T_e5949_row3_col6\" class=\"data row3 col6\" >0.146560</td>\n",
       "                        <td id=\"T_e5949_row3_col7\" class=\"data row3 col7\" >-0.045351</td>\n",
       "                        <td id=\"T_e5949_row3_col8\" class=\"data row3 col8\" >0.064762</td>\n",
       "                        <td id=\"T_e5949_row3_col9\" class=\"data row3 col9\" >0.189171</td>\n",
       "                        <td id=\"T_e5949_row3_col10\" class=\"data row3 col10\" >0.117382</td>\n",
       "                        <td id=\"T_e5949_row3_col11\" class=\"data row3 col11\" >0.095229</td>\n",
       "                        <td id=\"T_e5949_row3_col12\" class=\"data row3 col12\" >0.133430</td>\n",
       "                        <td id=\"T_e5949_row3_col13\" class=\"data row3 col13\" >0.150825</td>\n",
       "            </tr>\n",
       "            <tr>\n",
       "                        <th id=\"T_e5949_level0_row4\" class=\"row_heading level0 row4\" >cholesterol</th>\n",
       "                        <td id=\"T_e5949_row4_col0\" class=\"data row4 col0\" >0.208950</td>\n",
       "                        <td id=\"T_e5949_row4_col1\" class=\"data row4 col1\" >-0.199915</td>\n",
       "                        <td id=\"T_e5949_row4_col2\" class=\"data row4 col2\" >0.072319</td>\n",
       "                        <td id=\"T_e5949_row4_col3\" class=\"data row4 col3\" >0.130120</td>\n",
       "                        <td id=\"T_e5949_row4_col4\" class=\"data row4 col4\" >1.000000</td>\n",
       "                        <td id=\"T_e5949_row4_col5\" class=\"data row4 col5\" >0.009841</td>\n",
       "                        <td id=\"T_e5949_row4_col6\" class=\"data row4 col6\" >0.171043</td>\n",
       "                        <td id=\"T_e5949_row4_col7\" class=\"data row4 col7\" >-0.003432</td>\n",
       "                        <td id=\"T_e5949_row4_col8\" class=\"data row4 col8\" >0.061310</td>\n",
       "                        <td id=\"T_e5949_row4_col9\" class=\"data row4 col9\" >0.046564</td>\n",
       "                        <td id=\"T_e5949_row4_col10\" class=\"data row4 col10\" >-0.004062</td>\n",
       "                        <td id=\"T_e5949_row4_col11\" class=\"data row4 col11\" >0.113955</td>\n",
       "                        <td id=\"T_e5949_row4_col12\" class=\"data row4 col12\" >0.014134</td>\n",
       "                        <td id=\"T_e5949_row4_col13\" class=\"data row4 col13\" >0.085164</td>\n",
       "            </tr>\n",
       "            <tr>\n",
       "                        <th id=\"T_e5949_level0_row5\" class=\"row_heading level0 row5\" >fasting_blood_sugar</th>\n",
       "                        <td id=\"T_e5949_row5_col0\" class=\"data row5 col0\" >0.118530</td>\n",
       "                        <td id=\"T_e5949_row5_col1\" class=\"data row5 col1\" >0.047862</td>\n",
       "                        <td id=\"T_e5949_row5_col2\" class=\"data row5 col2\" >-0.039975</td>\n",
       "                        <td id=\"T_e5949_row5_col3\" class=\"data row5 col3\" >0.175340</td>\n",
       "                        <td id=\"T_e5949_row5_col4\" class=\"data row5 col4\" >0.009841</td>\n",
       "                        <td id=\"T_e5949_row5_col5\" class=\"data row5 col5\" >1.000000</td>\n",
       "                        <td id=\"T_e5949_row5_col6\" class=\"data row5 col6\" >0.069564</td>\n",
       "                        <td id=\"T_e5949_row5_col7\" class=\"data row5 col7\" >-0.007854</td>\n",
       "                        <td id=\"T_e5949_row5_col8\" class=\"data row5 col8\" >0.025665</td>\n",
       "                        <td id=\"T_e5949_row5_col9\" class=\"data row5 col9\" >0.005747</td>\n",
       "                        <td id=\"T_e5949_row5_col10\" class=\"data row5 col10\" >0.059894</td>\n",
       "                        <td id=\"T_e5949_row5_col11\" class=\"data row5 col11\" >0.159959</td>\n",
       "                        <td id=\"T_e5949_row5_col12\" class=\"data row5 col12\" >0.076922</td>\n",
       "                        <td id=\"T_e5949_row5_col13\" class=\"data row5 col13\" >0.025264</td>\n",
       "            </tr>\n",
       "            <tr>\n",
       "                        <th id=\"T_e5949_level0_row6\" class=\"row_heading level0 row6\" >resting_ECG</th>\n",
       "                        <td id=\"T_e5949_row6_col0\" class=\"data row6 col0\" >0.148868</td>\n",
       "                        <td id=\"T_e5949_row6_col1\" class=\"data row6 col1\" >0.021647</td>\n",
       "                        <td id=\"T_e5949_row6_col2\" class=\"data row6 col2\" >0.067505</td>\n",
       "                        <td id=\"T_e5949_row6_col3\" class=\"data row6 col3\" >0.146560</td>\n",
       "                        <td id=\"T_e5949_row6_col4\" class=\"data row6 col4\" >0.171043</td>\n",
       "                        <td id=\"T_e5949_row6_col5\" class=\"data row6 col5\" >0.069564</td>\n",
       "                        <td id=\"T_e5949_row6_col6\" class=\"data row6 col6\" >1.000000</td>\n",
       "                        <td id=\"T_e5949_row6_col7\" class=\"data row6 col7\" >-0.083389</td>\n",
       "                        <td id=\"T_e5949_row6_col8\" class=\"data row6 col8\" >0.084867</td>\n",
       "                        <td id=\"T_e5949_row6_col9\" class=\"data row6 col9\" >0.114133</td>\n",
       "                        <td id=\"T_e5949_row6_col10\" class=\"data row6 col10\" >0.133946</td>\n",
       "                        <td id=\"T_e5949_row6_col11\" class=\"data row6 col11\" >0.130503</td>\n",
       "                        <td id=\"T_e5949_row6_col12\" class=\"data row6 col12\" >0.019237</td>\n",
       "                        <td id=\"T_e5949_row6_col13\" class=\"data row6 col13\" >0.169202</td>\n",
       "            </tr>\n",
       "            <tr>\n",
       "                        <th id=\"T_e5949_level0_row7\" class=\"row_heading level0 row7\" >max_heart_rate</th>\n",
       "                        <td id=\"T_e5949_row7_col0\" class=\"data row7 col0\" >-0.393806</td>\n",
       "                        <td id=\"T_e5949_row7_col1\" class=\"data row7 col1\" >-0.048663</td>\n",
       "                        <td id=\"T_e5949_row7_col2\" class=\"data row7 col2\" >-0.334422</td>\n",
       "                        <td id=\"T_e5949_row7_col3\" class=\"data row7 col3\" >-0.045351</td>\n",
       "                        <td id=\"T_e5949_row7_col4\" class=\"data row7 col4\" >-0.003432</td>\n",
       "                        <td id=\"T_e5949_row7_col5\" class=\"data row7 col5\" >-0.007854</td>\n",
       "                        <td id=\"T_e5949_row7_col6\" class=\"data row7 col6\" >-0.083389</td>\n",
       "                        <td id=\"T_e5949_row7_col7\" class=\"data row7 col7\" >1.000000</td>\n",
       "                        <td id=\"T_e5949_row7_col8\" class=\"data row7 col8\" >-0.378103</td>\n",
       "                        <td id=\"T_e5949_row7_col9\" class=\"data row7 col9\" >-0.343085</td>\n",
       "                        <td id=\"T_e5949_row7_col10\" class=\"data row7 col10\" >-0.385601</td>\n",
       "                        <td id=\"T_e5949_row7_col11\" class=\"data row7 col11\" >-0.263936</td>\n",
       "                        <td id=\"T_e5949_row7_col12\" class=\"data row7 col12\" >-0.272874</td>\n",
       "                        <td id=\"T_e5949_row7_col13\" class=\"data row7 col13\" >-0.417167</td>\n",
       "            </tr>\n",
       "            <tr>\n",
       "                        <th id=\"T_e5949_level0_row8\" class=\"row_heading level0 row8\" >exercise_induced_angina</th>\n",
       "                        <td id=\"T_e5949_row8_col0\" class=\"data row8 col0\" >0.091661</td>\n",
       "                        <td id=\"T_e5949_row8_col1\" class=\"data row8 col1\" >0.146201</td>\n",
       "                        <td id=\"T_e5949_row8_col2\" class=\"data row8 col2\" >0.384060</td>\n",
       "                        <td id=\"T_e5949_row8_col3\" class=\"data row8 col3\" >0.064762</td>\n",
       "                        <td id=\"T_e5949_row8_col4\" class=\"data row8 col4\" >0.061310</td>\n",
       "                        <td id=\"T_e5949_row8_col5\" class=\"data row8 col5\" >0.025665</td>\n",
       "                        <td id=\"T_e5949_row8_col6\" class=\"data row8 col6\" >0.084867</td>\n",
       "                        <td id=\"T_e5949_row8_col7\" class=\"data row8 col7\" >-0.378103</td>\n",
       "                        <td id=\"T_e5949_row8_col8\" class=\"data row8 col8\" >1.000000</td>\n",
       "                        <td id=\"T_e5949_row8_col9\" class=\"data row8 col9\" >0.288223</td>\n",
       "                        <td id=\"T_e5949_row8_col10\" class=\"data row8 col10\" >0.257748</td>\n",
       "                        <td id=\"T_e5949_row8_col11\" class=\"data row8 col11\" >0.151934</td>\n",
       "                        <td id=\"T_e5949_row8_col12\" class=\"data row8 col12\" >0.332785</td>\n",
       "                        <td id=\"T_e5949_row8_col13\" class=\"data row8 col13\" >0.431894</td>\n",
       "            </tr>\n",
       "            <tr>\n",
       "                        <th id=\"T_e5949_level0_row9\" class=\"row_heading level0 row9\" >old_peak</th>\n",
       "                        <td id=\"T_e5949_row9_col0\" class=\"data row9 col0\" >0.203805</td>\n",
       "                        <td id=\"T_e5949_row9_col1\" class=\"data row9 col1\" >0.102173</td>\n",
       "                        <td id=\"T_e5949_row9_col2\" class=\"data row9 col2\" >0.202277</td>\n",
       "                        <td id=\"T_e5949_row9_col3\" class=\"data row9 col3\" >0.189171</td>\n",
       "                        <td id=\"T_e5949_row9_col4\" class=\"data row9 col4\" >0.046564</td>\n",
       "                        <td id=\"T_e5949_row9_col5\" class=\"data row9 col5\" >0.005747</td>\n",
       "                        <td id=\"T_e5949_row9_col6\" class=\"data row9 col6\" >0.114133</td>\n",
       "                        <td id=\"T_e5949_row9_col7\" class=\"data row9 col7\" >-0.343085</td>\n",
       "                        <td id=\"T_e5949_row9_col8\" class=\"data row9 col8\" >0.288223</td>\n",
       "                        <td id=\"T_e5949_row9_col9\" class=\"data row9 col9\" >1.000000</td>\n",
       "                        <td id=\"T_e5949_row9_col10\" class=\"data row9 col10\" >0.577537</td>\n",
       "                        <td id=\"T_e5949_row9_col11\" class=\"data row9 col11\" >0.282234</td>\n",
       "                        <td id=\"T_e5949_row9_col12\" class=\"data row9 col12\" >0.342436</td>\n",
       "                        <td id=\"T_e5949_row9_col13\" class=\"data row9 col13\" >0.424510</td>\n",
       "            </tr>\n",
       "            <tr>\n",
       "                        <th id=\"T_e5949_level0_row10\" class=\"row_heading level0 row10\" >ST_slope</th>\n",
       "                        <td id=\"T_e5949_row10_col0\" class=\"data row10 col0\" >0.161770</td>\n",
       "                        <td id=\"T_e5949_row10_col1\" class=\"data row10 col1\" >0.037533</td>\n",
       "                        <td id=\"T_e5949_row10_col2\" class=\"data row10 col2\" >0.152050</td>\n",
       "                        <td id=\"T_e5949_row10_col3\" class=\"data row10 col3\" >0.117382</td>\n",
       "                        <td id=\"T_e5949_row10_col4\" class=\"data row10 col4\" >-0.004062</td>\n",
       "                        <td id=\"T_e5949_row10_col5\" class=\"data row10 col5\" >0.059894</td>\n",
       "                        <td id=\"T_e5949_row10_col6\" class=\"data row10 col6\" >0.133946</td>\n",
       "                        <td id=\"T_e5949_row10_col7\" class=\"data row10 col7\" >-0.385601</td>\n",
       "                        <td id=\"T_e5949_row10_col8\" class=\"data row10 col8\" >0.257748</td>\n",
       "                        <td id=\"T_e5949_row10_col9\" class=\"data row10 col9\" >0.577537</td>\n",
       "                        <td id=\"T_e5949_row10_col10\" class=\"data row10 col10\" >1.000000</td>\n",
       "                        <td id=\"T_e5949_row10_col11\" class=\"data row10 col11\" >0.117520</td>\n",
       "                        <td id=\"T_e5949_row10_col12\" class=\"data row10 col12\" >0.290288</td>\n",
       "                        <td id=\"T_e5949_row10_col13\" class=\"data row10 col13\" >0.339213</td>\n",
       "            </tr>\n",
       "            <tr>\n",
       "                        <th id=\"T_e5949_level0_row11\" class=\"row_heading level0 row11\" >major_vessels</th>\n",
       "                        <td id=\"T_e5949_row11_col0\" class=\"data row11 col0\" >0.344370</td>\n",
       "                        <td id=\"T_e5949_row11_col1\" class=\"data row11 col1\" >0.099503</td>\n",
       "                        <td id=\"T_e5949_row11_col2\" class=\"data row11 col2\" >0.230724</td>\n",
       "                        <td id=\"T_e5949_row11_col3\" class=\"data row11 col3\" >0.095229</td>\n",
       "                        <td id=\"T_e5949_row11_col4\" class=\"data row11 col4\" >0.113955</td>\n",
       "                        <td id=\"T_e5949_row11_col5\" class=\"data row11 col5\" >0.159959</td>\n",
       "                        <td id=\"T_e5949_row11_col6\" class=\"data row11 col6\" >0.130503</td>\n",
       "                        <td id=\"T_e5949_row11_col7\" class=\"data row11 col7\" >-0.263936</td>\n",
       "                        <td id=\"T_e5949_row11_col8\" class=\"data row11 col8\" >0.151934</td>\n",
       "                        <td id=\"T_e5949_row11_col9\" class=\"data row11 col9\" >0.282234</td>\n",
       "                        <td id=\"T_e5949_row11_col10\" class=\"data row11 col10\" >0.117520</td>\n",
       "                        <td id=\"T_e5949_row11_col11\" class=\"data row11 col11\" >1.000000</td>\n",
       "                        <td id=\"T_e5949_row11_col12\" class=\"data row11 col12\" >0.266552</td>\n",
       "                        <td id=\"T_e5949_row11_col13\" class=\"data row11 col13\" >0.456691</td>\n",
       "            </tr>\n",
       "            <tr>\n",
       "                        <th id=\"T_e5949_level0_row12\" class=\"row_heading level0 row12\" >thalassemia</th>\n",
       "                        <td id=\"T_e5949_row12_col0\" class=\"data row12 col0\" >0.126997</td>\n",
       "                        <td id=\"T_e5949_row12_col1\" class=\"data row12 col1\" >0.384323</td>\n",
       "                        <td id=\"T_e5949_row12_col2\" class=\"data row12 col2\" >0.266742</td>\n",
       "                        <td id=\"T_e5949_row12_col3\" class=\"data row12 col3\" >0.133430</td>\n",
       "                        <td id=\"T_e5949_row12_col4\" class=\"data row12 col4\" >0.014134</td>\n",
       "                        <td id=\"T_e5949_row12_col5\" class=\"data row12 col5\" >0.076922</td>\n",
       "                        <td id=\"T_e5949_row12_col6\" class=\"data row12 col6\" >0.019237</td>\n",
       "                        <td id=\"T_e5949_row12_col7\" class=\"data row12 col7\" >-0.272874</td>\n",
       "                        <td id=\"T_e5949_row12_col8\" class=\"data row12 col8\" >0.332785</td>\n",
       "                        <td id=\"T_e5949_row12_col9\" class=\"data row12 col9\" >0.342436</td>\n",
       "                        <td id=\"T_e5949_row12_col10\" class=\"data row12 col10\" >0.290288</td>\n",
       "                        <td id=\"T_e5949_row12_col11\" class=\"data row12 col11\" >0.266552</td>\n",
       "                        <td id=\"T_e5949_row12_col12\" class=\"data row12 col12\" >1.000000</td>\n",
       "                        <td id=\"T_e5949_row12_col13\" class=\"data row12 col13\" >0.527932</td>\n",
       "            </tr>\n",
       "            <tr>\n",
       "                        <th id=\"T_e5949_level0_row13\" class=\"row_heading level0 row13\" >heart_disease</th>\n",
       "                        <td id=\"T_e5949_row13_col0\" class=\"data row13 col0\" >0.223120</td>\n",
       "                        <td id=\"T_e5949_row13_col1\" class=\"data row13 col1\" >0.276816</td>\n",
       "                        <td id=\"T_e5949_row13_col2\" class=\"data row13 col2\" >0.414446</td>\n",
       "                        <td id=\"T_e5949_row13_col3\" class=\"data row13 col3\" >0.150825</td>\n",
       "                        <td id=\"T_e5949_row13_col4\" class=\"data row13 col4\" >0.085164</td>\n",
       "                        <td id=\"T_e5949_row13_col5\" class=\"data row13 col5\" >0.025264</td>\n",
       "                        <td id=\"T_e5949_row13_col6\" class=\"data row13 col6\" >0.169202</td>\n",
       "                        <td id=\"T_e5949_row13_col7\" class=\"data row13 col7\" >-0.417167</td>\n",
       "                        <td id=\"T_e5949_row13_col8\" class=\"data row13 col8\" >0.431894</td>\n",
       "                        <td id=\"T_e5949_row13_col9\" class=\"data row13 col9\" >0.424510</td>\n",
       "                        <td id=\"T_e5949_row13_col10\" class=\"data row13 col10\" >0.339213</td>\n",
       "                        <td id=\"T_e5949_row13_col11\" class=\"data row13 col11\" >0.456691</td>\n",
       "                        <td id=\"T_e5949_row13_col12\" class=\"data row13 col12\" >0.527932</td>\n",
       "                        <td id=\"T_e5949_row13_col13\" class=\"data row13 col13\" >1.000000</td>\n",
       "            </tr>\n",
       "    </tbody></table>"
      ],
      "text/plain": [
       "<pandas.io.formats.style.Styler at 0x7fadab9c3e50>"
      ]
     },
     "execution_count": 12,
     "metadata": {},
     "output_type": "execute_result"
    }
   ],
   "source": [
    "# Initial EDA look at a correlation map of our data\n",
    "\n",
    "cmatrix = df.corr()\n",
    "cmatrix.style.background_gradient(cmap = 'coolwarm')"
   ]
  },
  {
   "cell_type": "code",
   "execution_count": null,
   "id": "v7HiuAOsqbe6",
   "metadata": {
    "cell_id": "00017-0708d4a4-ff81-4c76-94cf-da4c2be69074",
    "deepnote_cell_height": 207,
    "deepnote_cell_type": "code",
    "deepnote_to_be_reexecuted": false,
    "execution_millis": 0,
    "execution_start": 1651856895987,
    "id": "v7HiuAOsqbe6",
    "source_hash": "9f7626a0"
   },
   "outputs": [],
   "source": [
    "# 20% test, stratified split on target\n",
    "\n",
    "df_train, df_test = train_test_split(df, \n",
    "                                    test_size = 0.2, \n",
    "                                    random_state = 1, \n",
    "                                    shuffle = True, \n",
    "                                    stratify = df['heart_disease']\n",
    ")"
   ]
  },
  {
   "cell_type": "code",
   "execution_count": null,
   "id": "QYV9BqIdqbe6",
   "metadata": {
    "cell_id": "00018-9534f067-0691-44b9-b44c-e02891f41818",
    "deepnote_cell_height": 153,
    "deepnote_cell_type": "code",
    "deepnote_to_be_reexecuted": false,
    "execution_millis": 1,
    "execution_start": 1651856895987,
    "id": "QYV9BqIdqbe6",
    "source_hash": "2f3361ae"
   },
   "outputs": [],
   "source": [
    "# Define features as everything but heart disease (last col)\n",
    "features = df.columns[:-1]\n",
    "\n",
    "# Define target = heart disease (last col)\n",
    "target = df.columns[-1]"
   ]
  },
  {
   "cell_type": "code",
   "execution_count": null,
   "id": "VqabArgiqbe7",
   "metadata": {
    "cell_id": "00020-c4637c0e-a56b-4b2e-ae61-d704c27801aa",
    "deepnote_cell_height": 602.0625,
    "deepnote_cell_type": "code",
    "deepnote_to_be_reexecuted": false,
    "execution_millis": 7,
    "execution_start": 1651856896032,
    "id": "VqabArgiqbe7",
    "outputId": "79a8b4db-e2f5-45a1-a419-b46136e41655",
    "source_hash": "b731541c"
   },
   "outputs": [
    {
     "name": "stdout",
     "output_type": "stream",
     "text": [
      "                   Features       Score\n",
      "7            max_heart_rate  183.821471\n",
      "11            major_vessels   82.302313\n",
      "9                  old_peak   70.572550\n",
      "8   exercise_induced_angina   38.052613\n",
      "4               cholesterol   23.802935\n",
      "0                       age   22.562319\n",
      "3    resting_blood_pressure   16.159096\n",
      "2                chest_pain   15.140160\n",
      "6               resting_ECG    8.644897\n",
      "10                 ST_slope    8.243914\n"
     ]
    }
   ],
   "source": [
    "# Extract top 10 best features using SelectKBest\n",
    "X = df.iloc[:, 0:12] # features columns\n",
    "y = df.iloc[:, -1] # target column (heart disease)\n",
    "\n",
    "# Decide best feature utilizing Chi-Squared method (recommended for categorical data)\n",
    "# SOURCE: https://machinelearningmastery.com/feature-selection-with-real-and-categorical-data/\n",
    "bestfeatures = SelectKBest(score_func=chi2, k=10)\n",
    "fit = bestfeatures.fit(X,y)\n",
    "dfscores = pd.DataFrame(fit.scores_)\n",
    "dfcolumns = pd.DataFrame(X.columns)\n",
    "\n",
    "# Concat two dataframes for easier reading\n",
    "featureScores = pd.concat([dfcolumns, dfscores],axis=1)\n",
    "featureScores.columns = ['Features','Score']  \n",
    "\n",
    "# CHECK\n",
    "print(featureScores.nlargest(10,'Score'))  "
   ]
  },
  {
   "cell_type": "code",
   "execution_count": null,
   "id": "L7R-IkuOqbe7",
   "metadata": {
    "cell_id": "00021-0d049543-1d6d-4944-89a4-9743256427ea",
    "deepnote_cell_height": 739,
    "deepnote_cell_type": "code",
    "deepnote_output_heights": [
     282
    ],
    "deepnote_to_be_reexecuted": false,
    "execution_millis": 700,
    "execution_start": 1651856896033,
    "id": "L7R-IkuOqbe7",
    "outputId": "ff82bd74-2bd0-44e1-d6ad-2d7415b9b02d",
    "source_hash": "48c888ee"
   },
   "outputs": [
    {
     "data": {
      "image/png": "[encoded data removed]",
      "text/plain": [
       "<Figure size 432x288 with 2 Axes>"
      ]
     },
     "metadata": {
      "image/png": {
       "height": 280,
       "width": 427
      },
      "needs_background": "light"
     },
     "output_type": "display_data"
    }
   ],
   "source": [
    "# The indices of the features that we are plotting\n",
    "x_index = 'major_vessels'\n",
    "y_index = 'max_heart_rate'\n",
    "\n",
    "# This formatter will label the colorbar with the target names\n",
    "formatter = plt.FuncFormatter(lambda i, *args: df.result[int(i)])\n",
    "\n",
    "plt.figure(figsize=(6, 4))\n",
    "\n",
    "plt.scatter(data = df,\n",
    "            x = x_index,\n",
    "            y = y_index,\n",
    "            c = target)\n",
    "\n",
    "cb=plt.colorbar(ticks=[0, 1], format=formatter)\n",
    "cb.ax.set_yticklabels([\"No Heart Disease\",\"Heart Disease\"])\n",
    "plt.xlabel('Number of major vessels colored by flouroscopy')\n",
    "plt.ylabel('Max heart rate achieved')\n",
    "plt.title('Classification of Heart Disease')\n",
    "plt.tight_layout()\n",
    "plt.show()"
   ]
  },
  {
   "cell_type": "code",
   "execution_count": null,
   "id": "iePp0Kujqbe8",
   "metadata": {
    "cell_id": "00023-a7fca7fc-f528-4b9c-ac9e-0f438ca9b360",
    "deepnote_cell_height": 317.375,
    "deepnote_cell_type": "code",
    "deepnote_output_heights": [
     40.375
    ],
    "deepnote_to_be_reexecuted": false,
    "execution_millis": 189,
    "execution_start": 1651856896870,
    "id": "iePp0Kujqbe8",
    "outputId": "efb9604f-817f-42e2-ba0c-390652312907",
    "source_hash": "63888f26"
   },
   "outputs": [
    {
     "data": {
      "text/plain": [
       "GridSearchCV(cv=3, estimator=KNeighborsClassifier(),\n",
       "             param_grid={'n_neighbors': array([1, 2, 3, 4, 5, 6, 7])})"
      ]
     },
     "execution_count": 18,
     "metadata": {},
     "output_type": "execute_result"
    }
   ],
   "source": [
    "# Create KNN model\n",
    "knn = KNeighborsClassifier()\n",
    "\n",
    "# Create a dictionary of all values we want to test for n_neighbors\n",
    "param_grid = {'n_neighbors': np.arange(1, 8)}\n",
    "\n",
    "# Use gridsearch to test all values for n_neighbors\n",
    "knn_gscv = GridSearchCV(knn, param_grid, cv=3)\n",
    "\n",
    "# Fit model to data\n",
    "knn_gscv.fit(df_train[features], df_train[target].values.ravel())"
   ]
  },
  {
   "cell_type": "code",
   "execution_count": null,
   "id": "nMXgn1Hsqbe8",
   "metadata": {
    "cell_id": "00024-ba9da068-ef8b-4072-9024-f270f4056469",
    "deepnote_cell_height": 136.1875,
    "deepnote_cell_type": "code",
    "deepnote_output_heights": [
     21.1875
    ],
    "deepnote_to_be_reexecuted": false,
    "execution_millis": 2,
    "execution_start": 1651856897057,
    "id": "nMXgn1Hsqbe8",
    "outputId": "8b72ae13-87b6-4c7a-a6f7-d4e1f6d3a4ac",
    "source_hash": "e18c0856"
   },
   "outputs": [
    {
     "data": {
      "text/plain": [
       "{'n_neighbors': 3}"
      ]
     },
     "execution_count": 19,
     "metadata": {},
     "output_type": "execute_result"
    }
   ],
   "source": [
    "# Check top performing n_neighbors value\n",
    "knn_gscv.best_params_"
   ]
  },
  {
   "cell_type": "code",
   "execution_count": null,
   "id": "XBmw1mzOqbe8",
   "metadata": {
    "cell_id": "00025-04d29d64-1b8f-4edd-a8a2-06d14e7544b7",
    "deepnote_cell_height": 112.1875,
    "deepnote_cell_type": "code",
    "deepnote_to_be_reexecuted": false,
    "execution_millis": 6,
    "execution_start": 1651856897107,
    "id": "XBmw1mzOqbe8",
    "outputId": "778b1c94-f190-480b-ca39-937b26f7cc06",
    "source_hash": "3b66f06e"
   },
   "outputs": [
    {
     "name": "stdout",
     "output_type": "stream",
     "text": [
      "KNN score = 0.6566872427983539\n"
     ]
    }
   ],
   "source": [
    "print('KNN score =', knn_gscv.best_score_)"
   ]
  },
  {
   "cell_type": "markdown",
   "id": "jYXzfH--qbe8",
   "metadata": {
    "cell_id": "00026-79ef511d-b040-45e7-8b8d-10bce84ed465",
    "deepnote_cell_height": 62,
    "deepnote_cell_type": "markdown",
    "id": "jYXzfH--qbe8"
   },
   "source": [
    "### Logistic regression"
   ]
  },
  {
   "cell_type": "code",
   "execution_count": null,
   "id": "CYOmhJIMqbe8",
   "metadata": {
    "cell_id": "00027-14864f76-bc46-4072-ac58-6bd668fa6f0b",
    "deepnote_cell_height": 117,
    "deepnote_cell_type": "code",
    "deepnote_to_be_reexecuted": false,
    "execution_millis": 242,
    "execution_start": 1651856897109,
    "id": "CYOmhJIMqbe8",
    "source_hash": "de838557"
   },
   "outputs": [],
   "source": [
    "lr = LogisticRegression(random_state = 0, \n",
    "                        max_iter = 1000).fit(df_train[features], \n",
    "                        df_train[target].values.ravel())"
   ]
  },
  {
   "cell_type": "code",
   "execution_count": null,
   "id": "EsBjxb9gqbe8",
   "metadata": {
    "cell_id": "00028-26d844eb-5305-40be-b7b9-471d2a474764",
    "deepnote_cell_height": 112.1875,
    "deepnote_cell_type": "code",
    "deepnote_to_be_reexecuted": false,
    "execution_millis": 0,
    "execution_start": 1651856897375,
    "id": "EsBjxb9gqbe8",
    "outputId": "cfd6cad9-f6eb-4903-b1ca-7866687ab855",
    "source_hash": "37c6df71"
   },
   "outputs": [
    {
     "name": "stdout",
     "output_type": "stream",
     "text": [
      "LR score = 0.8032786885245902\n"
     ]
    }
   ],
   "source": [
    "print('LR score =', lr.score(df_test[features], df_test[target]))"
   ]
  },
  {
   "cell_type": "markdown",
   "id": "Yg1N4YFfqbe8",
   "metadata": {
    "cell_id": "00029-b9bc26b1-bb82-4e2b-9fcc-6f6f5c7066d8",
    "deepnote_cell_height": 408.734375,
    "deepnote_cell_type": "markdown",
    "id": "Yg1N4YFfqbe8",
    "tags": []
   },
   "source": [
    "## Model Evaluation: "
   ]
  },
  {
   "cell_type": "code",
   "execution_count": null,
   "id": "KPtkkOKXqbe9",
   "metadata": {
    "cell_id": "00030-3478ff3c-ee1b-49ac-8ff7-f76d3dab6660",
    "deepnote_cell_height": 308,
    "deepnote_cell_type": "code",
    "deepnote_to_be_reexecuted": false,
    "execution_millis": 19,
    "execution_start": 1651856897400,
    "id": "KPtkkOKXqbe9",
    "outputId": "070a76dd-bf67-448e-b49f-b90e5abec077",
    "source_hash": "c201c21e"
   },
   "outputs": [
    {
     "data": {
      "application/vnd.deepnote.dataframe.v3+json": {
       "column_count": 13,
       "columns": [
        {
         "dtype": "int64",
         "name": "age",
         "stats": {
          "histogram": [
           {
            "bin_end": 141.5,
            "bin_start": 139,
            "count": 1
           },
           {
            "bin_end": 144,
            "bin_start": 141.5,
            "count": 0
           },
           {
            "bin_end": 146.5,
            "bin_start": 144,
            "count": 0
           },
           {
            "bin_end": 149,
            "bin_start": 146.5,
            "count": 0
           },
           {
            "bin_end": 151.5,
            "bin_start": 149,
            "count": 0
           },
           {
            "bin_end": 154,
            "bin_start": 151.5,
            "count": 0
           },
           {
            "bin_end": 156.5,
            "bin_start": 154,
            "count": 0
           },
           {
            "bin_end": 159,
            "bin_start": 156.5,
            "count": 0
           },
           {
            "bin_end": 161.5,
            "bin_start": 159,
            "count": 0
           },
           {
            "bin_end": 164,
            "bin_start": 161.5,
            "count": 1
           }
          ],
          "max": "164",
          "min": "139",
          "nan_count": 0,
          "unique_count": 2
         }
        },
        {
         "dtype": "int64",
         "name": "sex",
         "stats": {
          "histogram": [
           {
            "bin_end": 141.5,
            "bin_start": 139,
            "count": 1
           },
           {
            "bin_end": 144,
            "bin_start": 141.5,
            "count": 0
           },
           {
            "bin_end": 146.5,
            "bin_start": 144,
            "count": 0
           },
           {
            "bin_end": 149,
            "bin_start": 146.5,
            "count": 0
           },
           {
            "bin_end": 151.5,
            "bin_start": 149,
            "count": 0
           },
           {
            "bin_end": 154,
            "bin_start": 151.5,
            "count": 0
           },
           {
            "bin_end": 156.5,
            "bin_start": 154,
            "count": 0
           },
           {
            "bin_end": 159,
            "bin_start": 156.5,
            "count": 0
           },
           {
            "bin_end": 161.5,
            "bin_start": 159,
            "count": 0
           },
           {
            "bin_end": 164,
            "bin_start": 161.5,
            "count": 1
           }
          ],
          "max": "164",
          "min": "139",
          "nan_count": 0,
          "unique_count": 2
         }
        },
        {
         "dtype": "int64",
         "name": "chest_pain",
         "stats": {
          "histogram": [
           {
            "bin_end": 141.5,
            "bin_start": 139,
            "count": 1
           },
           {
            "bin_end": 144,
            "bin_start": 141.5,
            "count": 0
           },
           {
            "bin_end": 146.5,
            "bin_start": 144,
            "count": 0
           },
           {
            "bin_end": 149,
            "bin_start": 146.5,
            "count": 0
           },
           {
            "bin_end": 151.5,
            "bin_start": 149,
            "count": 0
           },
           {
            "bin_end": 154,
            "bin_start": 151.5,
            "count": 0
           },
           {
            "bin_end": 156.5,
            "bin_start": 154,
            "count": 0
           },
           {
            "bin_end": 159,
            "bin_start": 156.5,
            "count": 0
           },
           {
            "bin_end": 161.5,
            "bin_start": 159,
            "count": 0
           },
           {
            "bin_end": 164,
            "bin_start": 161.5,
            "count": 1
           }
          ],
          "max": "164",
          "min": "139",
          "nan_count": 0,
          "unique_count": 2
         }
        },
        {
         "dtype": "int64",
         "name": "resting_blood_pressure",
         "stats": {
          "histogram": [
           {
            "bin_end": 141.5,
            "bin_start": 139,
            "count": 1
           },
           {
            "bin_end": 144,
            "bin_start": 141.5,
            "count": 0
           },
           {
            "bin_end": 146.5,
            "bin_start": 144,
            "count": 0
           },
           {
            "bin_end": 149,
            "bin_start": 146.5,
            "count": 0
           },
           {
            "bin_end": 151.5,
            "bin_start": 149,
            "count": 0
           },
           {
            "bin_end": 154,
            "bin_start": 151.5,
            "count": 0
           },
           {
            "bin_end": 156.5,
            "bin_start": 154,
            "count": 0
           },
           {
            "bin_end": 159,
            "bin_start": 156.5,
            "count": 0
           },
           {
            "bin_end": 161.5,
            "bin_start": 159,
            "count": 0
           },
           {
            "bin_end": 164,
            "bin_start": 161.5,
            "count": 1
           }
          ],
          "max": "164",
          "min": "139",
          "nan_count": 0,
          "unique_count": 2
         }
        },
        {
         "dtype": "int64",
         "name": "cholesterol",
         "stats": {
          "histogram": [
           {
            "bin_end": 141.5,
            "bin_start": 139,
            "count": 1
           },
           {
            "bin_end": 144,
            "bin_start": 141.5,
            "count": 0
           },
           {
            "bin_end": 146.5,
            "bin_start": 144,
            "count": 0
           },
           {
            "bin_end": 149,
            "bin_start": 146.5,
            "count": 0
           },
           {
            "bin_end": 151.5,
            "bin_start": 149,
            "count": 0
           },
           {
            "bin_end": 154,
            "bin_start": 151.5,
            "count": 0
           },
           {
            "bin_end": 156.5,
            "bin_start": 154,
            "count": 0
           },
           {
            "bin_end": 159,
            "bin_start": 156.5,
            "count": 0
           },
           {
            "bin_end": 161.5,
            "bin_start": 159,
            "count": 0
           },
           {
            "bin_end": 164,
            "bin_start": 161.5,
            "count": 1
           }
          ],
          "max": "164",
          "min": "139",
          "nan_count": 0,
          "unique_count": 2
         }
        },
        {
         "dtype": "int64",
         "name": "fasting_blood_sugar",
         "stats": {
          "histogram": [
           {
            "bin_end": 141.5,
            "bin_start": 139,
            "count": 1
           },
           {
            "bin_end": 144,
            "bin_start": 141.5,
            "count": 0
           },
           {
            "bin_end": 146.5,
            "bin_start": 144,
            "count": 0
           },
           {
            "bin_end": 149,
            "bin_start": 146.5,
            "count": 0
           },
           {
            "bin_end": 151.5,
            "bin_start": 149,
            "count": 0
           },
           {
            "bin_end": 154,
            "bin_start": 151.5,
            "count": 0
           },
           {
            "bin_end": 156.5,
            "bin_start": 154,
            "count": 0
           },
           {
            "bin_end": 159,
            "bin_start": 156.5,
            "count": 0
           },
           {
            "bin_end": 161.5,
            "bin_start": 159,
            "count": 0
           },
           {
            "bin_end": 164,
            "bin_start": 161.5,
            "count": 1
           }
          ],
          "max": "164",
          "min": "139",
          "nan_count": 0,
          "unique_count": 2
         }
        },
        {
         "dtype": "int64",
         "name": "resting_ECG",
         "stats": {
          "histogram": [
           {
            "bin_end": 141.5,
            "bin_start": 139,
            "count": 1
           },
           {
            "bin_end": 144,
            "bin_start": 141.5,
            "count": 0
           },
           {
            "bin_end": 146.5,
            "bin_start": 144,
            "count": 0
           },
           {
            "bin_end": 149,
            "bin_start": 146.5,
            "count": 0
           },
           {
            "bin_end": 151.5,
            "bin_start": 149,
            "count": 0
           },
           {
            "bin_end": 154,
            "bin_start": 151.5,
            "count": 0
           },
           {
            "bin_end": 156.5,
            "bin_start": 154,
            "count": 0
           },
           {
            "bin_end": 159,
            "bin_start": 156.5,
            "count": 0
           },
           {
            "bin_end": 161.5,
            "bin_start": 159,
            "count": 0
           },
           {
            "bin_end": 164,
            "bin_start": 161.5,
            "count": 1
           }
          ],
          "max": "164",
          "min": "139",
          "nan_count": 0,
          "unique_count": 2
         }
        },
        {
         "dtype": "int64",
         "name": "max_heart_rate",
         "stats": {
          "histogram": [
           {
            "bin_end": 141.5,
            "bin_start": 139,
            "count": 1
           },
           {
            "bin_end": 144,
            "bin_start": 141.5,
            "count": 0
           },
           {
            "bin_end": 146.5,
            "bin_start": 144,
            "count": 0
           },
           {
            "bin_end": 149,
            "bin_start": 146.5,
            "count": 0
           },
           {
            "bin_end": 151.5,
            "bin_start": 149,
            "count": 0
           },
           {
            "bin_end": 154,
            "bin_start": 151.5,
            "count": 0
           },
           {
            "bin_end": 156.5,
            "bin_start": 154,
            "count": 0
           },
           {
            "bin_end": 159,
            "bin_start": 156.5,
            "count": 0
           },
           {
            "bin_end": 161.5,
            "bin_start": 159,
            "count": 0
           },
           {
            "bin_end": 164,
            "bin_start": 161.5,
            "count": 1
           }
          ],
          "max": "164",
          "min": "139",
          "nan_count": 0,
          "unique_count": 2
         }
        },
        {
         "dtype": "int64",
         "name": "exercise_induced_angina",
         "stats": {
          "histogram": [
           {
            "bin_end": 141.5,
            "bin_start": 139,
            "count": 1
           },
           {
            "bin_end": 144,
            "bin_start": 141.5,
            "count": 0
           },
           {
            "bin_end": 146.5,
            "bin_start": 144,
            "count": 0
           },
           {
            "bin_end": 149,
            "bin_start": 146.5,
            "count": 0
           },
           {
            "bin_end": 151.5,
            "bin_start": 149,
            "count": 0
           },
           {
            "bin_end": 154,
            "bin_start": 151.5,
            "count": 0
           },
           {
            "bin_end": 156.5,
            "bin_start": 154,
            "count": 0
           },
           {
            "bin_end": 159,
            "bin_start": 156.5,
            "count": 0
           },
           {
            "bin_end": 161.5,
            "bin_start": 159,
            "count": 0
           },
           {
            "bin_end": 164,
            "bin_start": 161.5,
            "count": 1
           }
          ],
          "max": "164",
          "min": "139",
          "nan_count": 0,
          "unique_count": 2
         }
        },
        {
         "dtype": "int64",
         "name": "old_peak",
         "stats": {
          "histogram": [
           {
            "bin_end": 141.5,
            "bin_start": 139,
            "count": 1
           },
           {
            "bin_end": 144,
            "bin_start": 141.5,
            "count": 0
           },
           {
            "bin_end": 146.5,
            "bin_start": 144,
            "count": 0
           },
           {
            "bin_end": 149,
            "bin_start": 146.5,
            "count": 0
           },
           {
            "bin_end": 151.5,
            "bin_start": 149,
            "count": 0
           },
           {
            "bin_end": 154,
            "bin_start": 151.5,
            "count": 0
           },
           {
            "bin_end": 156.5,
            "bin_start": 154,
            "count": 0
           },
           {
            "bin_end": 159,
            "bin_start": 156.5,
            "count": 0
           },
           {
            "bin_end": 161.5,
            "bin_start": 159,
            "count": 0
           },
           {
            "bin_end": 164,
            "bin_start": 161.5,
            "count": 1
           }
          ],
          "max": "164",
          "min": "139",
          "nan_count": 0,
          "unique_count": 2
         }
        },
        {
         "dtype": "int64",
         "name": "ST_slope",
         "stats": {
          "histogram": [
           {
            "bin_end": 141.5,
            "bin_start": 139,
            "count": 1
           },
           {
            "bin_end": 144,
            "bin_start": 141.5,
            "count": 0
           },
           {
            "bin_end": 146.5,
            "bin_start": 144,
            "count": 0
           },
           {
            "bin_end": 149,
            "bin_start": 146.5,
            "count": 0
           },
           {
            "bin_end": 151.5,
            "bin_start": 149,
            "count": 0
           },
           {
            "bin_end": 154,
            "bin_start": 151.5,
            "count": 0
           },
           {
            "bin_end": 156.5,
            "bin_start": 154,
            "count": 0
           },
           {
            "bin_end": 159,
            "bin_start": 156.5,
            "count": 0
           },
           {
            "bin_end": 161.5,
            "bin_start": 159,
            "count": 0
           },
           {
            "bin_end": 164,
            "bin_start": 161.5,
            "count": 1
           }
          ],
          "max": "164",
          "min": "139",
          "nan_count": 0,
          "unique_count": 2
         }
        },
        {
         "dtype": "int64",
         "name": "major_vessels",
         "stats": {
          "histogram": [
           {
            "bin_end": 141.5,
            "bin_start": 139,
            "count": 1
           },
           {
            "bin_end": 144,
            "bin_start": 141.5,
            "count": 0
           },
           {
            "bin_end": 146.5,
            "bin_start": 144,
            "count": 0
           },
           {
            "bin_end": 149,
            "bin_start": 146.5,
            "count": 0
           },
           {
            "bin_end": 151.5,
            "bin_start": 149,
            "count": 0
           },
           {
            "bin_end": 154,
            "bin_start": 151.5,
            "count": 0
           },
           {
            "bin_end": 156.5,
            "bin_start": 154,
            "count": 0
           },
           {
            "bin_end": 159,
            "bin_start": 156.5,
            "count": 0
           },
           {
            "bin_end": 161.5,
            "bin_start": 159,
            "count": 0
           },
           {
            "bin_end": 164,
            "bin_start": 161.5,
            "count": 1
           }
          ],
          "max": "164",
          "min": "139",
          "nan_count": 0,
          "unique_count": 2
         }
        },
        {
         "dtype": "int64",
         "name": "thalassemia",
         "stats": {
          "histogram": [
           {
            "bin_end": 141.5,
            "bin_start": 139,
            "count": 1
           },
           {
            "bin_end": 144,
            "bin_start": 141.5,
            "count": 0
           },
           {
            "bin_end": 146.5,
            "bin_start": 144,
            "count": 0
           },
           {
            "bin_end": 149,
            "bin_start": 146.5,
            "count": 0
           },
           {
            "bin_end": 151.5,
            "bin_start": 149,
            "count": 0
           },
           {
            "bin_end": 154,
            "bin_start": 151.5,
            "count": 0
           },
           {
            "bin_end": 156.5,
            "bin_start": 154,
            "count": 0
           },
           {
            "bin_end": 159,
            "bin_start": 156.5,
            "count": 0
           },
           {
            "bin_end": 161.5,
            "bin_start": 159,
            "count": 0
           },
           {
            "bin_end": 164,
            "bin_start": 161.5,
            "count": 1
           }
          ],
          "max": "164",
          "min": "139",
          "nan_count": 0,
          "unique_count": 2
         }
        },
        {
         "dtype": "int64",
         "name": "_deepnote_index_column"
        }
       ],
       "row_count": 2,
       "rows": [
        {
         "ST_slope": 164,
         "_deepnote_index_column": 0,
         "age": 164,
         "chest_pain": 164,
         "cholesterol": 164,
         "exercise_induced_angina": 164,
         "fasting_blood_sugar": 164,
         "major_vessels": 164,
         "max_heart_rate": 164,
         "old_peak": 164,
         "resting_ECG": 164,
         "resting_blood_pressure": 164,
         "sex": 164,
         "thalassemia": 164
        },
        {
         "ST_slope": 139,
         "_deepnote_index_column": 1,
         "age": 139,
         "chest_pain": 139,
         "cholesterol": 139,
         "exercise_induced_angina": 139,
         "fasting_blood_sugar": 139,
         "major_vessels": 139,
         "max_heart_rate": 139,
         "old_peak": 139,
         "resting_ECG": 139,
         "resting_blood_pressure": 139,
         "sex": 139,
         "thalassemia": 139
        }
       ]
      },
      "text/html": [
       "<div>\n",
       "<style scoped>\n",
       "    .dataframe tbody tr th:only-of-type {\n",
       "        vertical-align: middle;\n",
       "    }\n",
       "\n",
       "    .dataframe tbody tr th {\n",
       "        vertical-align: top;\n",
       "    }\n",
       "\n",
       "    .dataframe thead th {\n",
       "        text-align: right;\n",
       "    }\n",
       "</style>\n",
       "<table border=\"1\" class=\"dataframe\">\n",
       "  <thead>\n",
       "    <tr style=\"text-align: right;\">\n",
       "      <th></th>\n",
       "      <th>age</th>\n",
       "      <th>sex</th>\n",
       "      <th>chest_pain</th>\n",
       "      <th>resting_blood_pressure</th>\n",
       "      <th>cholesterol</th>\n",
       "      <th>fasting_blood_sugar</th>\n",
       "      <th>resting_ECG</th>\n",
       "      <th>max_heart_rate</th>\n",
       "      <th>exercise_induced_angina</th>\n",
       "      <th>old_peak</th>\n",
       "      <th>ST_slope</th>\n",
       "      <th>major_vessels</th>\n",
       "      <th>thalassemia</th>\n",
       "    </tr>\n",
       "    <tr>\n",
       "      <th>heart_disease</th>\n",
       "      <th></th>\n",
       "      <th></th>\n",
       "      <th></th>\n",
       "      <th></th>\n",
       "      <th></th>\n",
       "      <th></th>\n",
       "      <th></th>\n",
       "      <th></th>\n",
       "      <th></th>\n",
       "      <th></th>\n",
       "      <th></th>\n",
       "      <th></th>\n",
       "      <th></th>\n",
       "    </tr>\n",
       "  </thead>\n",
       "  <tbody>\n",
       "    <tr>\n",
       "      <th>0</th>\n",
       "      <td>164</td>\n",
       "      <td>164</td>\n",
       "      <td>164</td>\n",
       "      <td>164</td>\n",
       "      <td>164</td>\n",
       "      <td>164</td>\n",
       "      <td>164</td>\n",
       "      <td>164</td>\n",
       "      <td>164</td>\n",
       "      <td>164</td>\n",
       "      <td>164</td>\n",
       "      <td>164</td>\n",
       "      <td>164</td>\n",
       "    </tr>\n",
       "    <tr>\n",
       "      <th>1</th>\n",
       "      <td>139</td>\n",
       "      <td>139</td>\n",
       "      <td>139</td>\n",
       "      <td>139</td>\n",
       "      <td>139</td>\n",
       "      <td>139</td>\n",
       "      <td>139</td>\n",
       "      <td>139</td>\n",
       "      <td>139</td>\n",
       "      <td>139</td>\n",
       "      <td>139</td>\n",
       "      <td>139</td>\n",
       "      <td>139</td>\n",
       "    </tr>\n",
       "  </tbody>\n",
       "</table>\n",
       "</div>"
      ],
      "text/plain": [
       "               age  sex  chest_pain  resting_blood_pressure  cholesterol  \\\n",
       "heart_disease                                                              \n",
       "0              164  164         164                     164          164   \n",
       "1              139  139         139                     139          139   \n",
       "\n",
       "               fasting_blood_sugar  resting_ECG  max_heart_rate  \\\n",
       "heart_disease                                                     \n",
       "0                              164          164             164   \n",
       "1                              139          139             139   \n",
       "\n",
       "               exercise_induced_angina  old_peak  ST_slope  major_vessels  \\\n",
       "heart_disease                                                               \n",
       "0                                  164       164       164            164   \n",
       "1                                  139       139       139            139   \n",
       "\n",
       "               thalassemia  \n",
       "heart_disease               \n",
       "0                      164  \n",
       "1                      139  "
      ]
     },
     "execution_count": 23,
     "metadata": {},
     "output_type": "execute_result"
    }
   ],
   "source": [
    "# Here's a rough prediction of distribution of results \n",
    "# - fairly evenly split between positive/negative heart disease\n",
    "df.groupby(target).count()"
   ]
  },
  {
   "cell_type": "markdown",
   "id": "4P9YPeZEqbe9",
   "metadata": {
    "cell_id": "00031-f99baac8-53e0-41d5-b5c0-afbd5d125c7b",
    "deepnote_cell_height": 54,
    "deepnote_cell_type": "markdown",
    "id": "4P9YPeZEqbe9"
   },
   "source": [
    "#### Predictions for KNN"
   ]
  },
  {
   "cell_type": "code",
   "execution_count": null,
   "id": "fBy35nVJqbe9",
   "metadata": {
    "cell_id": "00032-a9dee88b-f3f5-4487-ba2c-79f67d247e87",
    "deepnote_cell_height": 243,
    "deepnote_cell_type": "code",
    "deepnote_to_be_reexecuted": false,
    "execution_millis": 0,
    "execution_start": 1651856897467,
    "id": "fBy35nVJqbe9",
    "source_hash": "6ea3f61d"
   },
   "outputs": [],
   "source": [
    "# Get probability predictions\n",
    "prob_pred_knn = knn_gscv.predict_proba(df_test[features])\n",
    "\n",
    "# Output is 2 cols (T/F)\n",
    "# - NOTE: value of second is simply (1 minus value of first)\n",
    "# Extract 'true' values...\n",
    "prob_pred_true_knn = prob_pred_knn[:,1]\n",
    "\n",
    "# ...and inject into our dataset\n",
    "df_test['pred_prob_knn'] = prob_pred_true_knn"
   ]
  },
  {
   "cell_type": "markdown",
   "id": "S18_Et7Mqbe9",
   "metadata": {
    "cell_id": "00033-615cd47c-fa74-4d51-ba04-e008e1655122",
    "deepnote_cell_height": 54,
    "deepnote_cell_type": "markdown",
    "id": "S18_Et7Mqbe9"
   },
   "source": [
    "#### Predictions for logistic regression"
   ]
  },
  {
   "cell_type": "code",
   "execution_count": null,
   "id": "hZE3UwRwqbe9",
   "metadata": {
    "cell_id": "00034-72857af5-518f-4ec0-92e7-3f726a5cd2e2",
    "deepnote_cell_height": 207,
    "deepnote_cell_type": "code",
    "deepnote_to_be_reexecuted": false,
    "execution_millis": 81447716,
    "execution_start": 1651856897468,
    "id": "hZE3UwRwqbe9",
    "source_hash": "57ebda3d"
   },
   "outputs": [],
   "source": [
    "# Get probability predictions\n",
    "prob_pred_lr = lr.predict_proba(df_test[features])\n",
    "\n",
    "# Extract 'true' values...\n",
    "prob_pred_true_lr = prob_pred_lr[:,1]\n",
    "\n",
    "# ...and inject into our dataset\n",
    "df_test['pred_prob_lr'] = prob_pred_true_lr"
   ]
  },
  {
   "cell_type": "code",
   "execution_count": null,
   "id": "IGN7JtsHqbe9",
   "metadata": {
    "cell_id": "00035-fe05a40c-b13b-423e-a4ea-d2aebbeeaabe",
    "deepnote_cell_height": 395,
    "deepnote_cell_type": "code",
    "deepnote_to_be_reexecuted": false,
    "execution_millis": 593,
    "execution_start": 1651856897508,
    "id": "IGN7JtsHqbe9",
    "outputId": "af041b9f-0eed-449c-a559-4fbdce35280c",
    "source_hash": "f6325a18"
   },
   "outputs": [
    {
     "data": {
      "application/vnd.deepnote.dataframe.v3+json": {
       "column_count": 16,
       "columns": [
        {
         "dtype": "float64",
         "name": "age",
         "stats": {
          "histogram": [
           {
            "bin_end": 42.9,
            "bin_start": 41,
            "count": 1
           },
           {
            "bin_end": 44.8,
            "bin_start": 42.9,
            "count": 0
           },
           {
            "bin_end": 46.7,
            "bin_start": 44.8,
            "count": 0
           },
           {
            "bin_end": 48.6,
            "bin_start": 46.7,
            "count": 0
           },
           {
            "bin_end": 50.5,
            "bin_start": 48.6,
            "count": 1
           },
           {
            "bin_end": 52.4,
            "bin_start": 50.5,
            "count": 0
           },
           {
            "bin_end": 54.3,
            "bin_start": 52.4,
            "count": 1
           },
           {
            "bin_end": 56.2,
            "bin_start": 54.3,
            "count": 0
           },
           {
            "bin_end": 58.099999999999994,
            "bin_start": 56.2,
            "count": 1
           },
           {
            "bin_end": 60,
            "bin_start": 58.099999999999994,
            "count": 1
           }
          ],
          "max": "60.0",
          "min": "41.0",
          "nan_count": 0,
          "unique_count": 5
         }
        },
        {
         "dtype": "float64",
         "name": "sex",
         "stats": {
          "histogram": [
           {
            "bin_end": 0.6,
            "bin_start": 0.5,
            "count": 0
           },
           {
            "bin_end": 0.7,
            "bin_start": 0.6,
            "count": 0
           },
           {
            "bin_end": 0.8,
            "bin_start": 0.7,
            "count": 0
           },
           {
            "bin_end": 0.9,
            "bin_start": 0.8,
            "count": 0
           },
           {
            "bin_end": 1,
            "bin_start": 0.9,
            "count": 0
           },
           {
            "bin_end": 1.1,
            "bin_start": 1,
            "count": 5
           },
           {
            "bin_end": 1.2000000000000002,
            "bin_start": 1.1,
            "count": 0
           },
           {
            "bin_end": 1.3,
            "bin_start": 1.2000000000000002,
            "count": 0
           },
           {
            "bin_end": 1.4,
            "bin_start": 1.3,
            "count": 0
           },
           {
            "bin_end": 1.5,
            "bin_start": 1.4,
            "count": 0
           }
          ],
          "max": "1.0",
          "min": "1.0",
          "nan_count": 0,
          "unique_count": 1
         }
        },
        {
         "dtype": "float64",
         "name": "chest_pain",
         "stats": {
          "histogram": [
           {
            "bin_end": 2.2,
            "bin_start": 2,
            "count": 2
           },
           {
            "bin_end": 2.4,
            "bin_start": 2.2,
            "count": 0
           },
           {
            "bin_end": 2.6,
            "bin_start": 2.4,
            "count": 0
           },
           {
            "bin_end": 2.8,
            "bin_start": 2.6,
            "count": 0
           },
           {
            "bin_end": 3,
            "bin_start": 2.8,
            "count": 0
           },
           {
            "bin_end": 3.2,
            "bin_start": 3,
            "count": 1
           },
           {
            "bin_end": 3.4000000000000004,
            "bin_start": 3.2,
            "count": 0
           },
           {
            "bin_end": 3.6,
            "bin_start": 3.4000000000000004,
            "count": 0
           },
           {
            "bin_end": 3.8,
            "bin_start": 3.6,
            "count": 0
           },
           {
            "bin_end": 4,
            "bin_start": 3.8,
            "count": 2
           }
          ],
          "max": "4.0",
          "min": "2.0",
          "nan_count": 0,
          "unique_count": 3
         }
        },
        {
         "dtype": "float64",
         "name": "resting_blood_pressure",
         "stats": {
          "histogram": [
           {
            "bin_end": 111.7,
            "bin_start": 108,
            "count": 3
           },
           {
            "bin_end": 115.4,
            "bin_start": 111.7,
            "count": 0
           },
           {
            "bin_end": 119.1,
            "bin_start": 115.4,
            "count": 0
           },
           {
            "bin_end": 122.8,
            "bin_start": 119.1,
            "count": 1
           },
           {
            "bin_end": 126.5,
            "bin_start": 122.8,
            "count": 0
           },
           {
            "bin_end": 130.2,
            "bin_start": 126.5,
            "count": 0
           },
           {
            "bin_end": 133.9,
            "bin_start": 130.2,
            "count": 0
           },
           {
            "bin_end": 137.6,
            "bin_start": 133.9,
            "count": 0
           },
           {
            "bin_end": 141.3,
            "bin_start": 137.6,
            "count": 0
           },
           {
            "bin_end": 145,
            "bin_start": 141.3,
            "count": 1
           }
          ],
          "max": "145.0",
          "min": "108.0",
          "nan_count": 0,
          "unique_count": 4
         }
        },
        {
         "dtype": "float64",
         "name": "cholesterol",
         "stats": {
          "histogram": [
           {
            "bin_end": 202.7,
            "bin_start": 188,
            "count": 1
           },
           {
            "bin_end": 217.4,
            "bin_start": 202.7,
            "count": 0
           },
           {
            "bin_end": 232.1,
            "bin_start": 217.4,
            "count": 0
           },
           {
            "bin_end": 246.8,
            "bin_start": 232.1,
            "count": 1
           },
           {
            "bin_end": 261.5,
            "bin_start": 246.8,
            "count": 0
           },
           {
            "bin_end": 276.2,
            "bin_start": 261.5,
            "count": 0
           },
           {
            "bin_end": 290.9,
            "bin_start": 276.2,
            "count": 1
           },
           {
            "bin_end": 305.6,
            "bin_start": 290.9,
            "count": 0
           },
           {
            "bin_end": 320.29999999999995,
            "bin_start": 305.6,
            "count": 1
           },
           {
            "bin_end": 335,
            "bin_start": 320.29999999999995,
            "count": 1
           }
          ],
          "max": "335.0",
          "min": "188.0",
          "nan_count": 0,
          "unique_count": 5
         }
        },
        {
         "dtype": "float64",
         "name": "fasting_blood_sugar",
         "stats": {
          "histogram": [
           {
            "bin_end": -0.4,
            "bin_start": -0.5,
            "count": 0
           },
           {
            "bin_end": -0.3,
            "bin_start": -0.4,
            "count": 0
           },
           {
            "bin_end": -0.19999999999999996,
            "bin_start": -0.3,
            "count": 0
           },
           {
            "bin_end": -0.09999999999999998,
            "bin_start": -0.19999999999999996,
            "count": 0
           },
           {
            "bin_end": 0,
            "bin_start": -0.09999999999999998,
            "count": 0
           },
           {
            "bin_end": 0.10000000000000009,
            "bin_start": 0,
            "count": 5
           },
           {
            "bin_end": 0.20000000000000007,
            "bin_start": 0.10000000000000009,
            "count": 0
           },
           {
            "bin_end": 0.30000000000000004,
            "bin_start": 0.20000000000000007,
            "count": 0
           },
           {
            "bin_end": 0.4,
            "bin_start": 0.30000000000000004,
            "count": 0
           },
           {
            "bin_end": 0.5,
            "bin_start": 0.4,
            "count": 0
           }
          ],
          "max": "0.0",
          "min": "0.0",
          "nan_count": 0,
          "unique_count": 1
         }
        },
        {
         "dtype": "float64",
         "name": "resting_ECG",
         "stats": {
          "histogram": [
           {
            "bin_end": 0.2,
            "bin_start": 0,
            "count": 4
           },
           {
            "bin_end": 0.4,
            "bin_start": 0.2,
            "count": 0
           },
           {
            "bin_end": 0.6000000000000001,
            "bin_start": 0.4,
            "count": 0
           },
           {
            "bin_end": 0.8,
            "bin_start": 0.6000000000000001,
            "count": 0
           },
           {
            "bin_end": 1,
            "bin_start": 0.8,
            "count": 0
           },
           {
            "bin_end": 1.2000000000000002,
            "bin_start": 1,
            "count": 0
           },
           {
            "bin_end": 1.4000000000000001,
            "bin_start": 1.2000000000000002,
            "count": 0
           },
           {
            "bin_end": 1.6,
            "bin_start": 1.4000000000000001,
            "count": 0
           },
           {
            "bin_end": 1.8,
            "bin_start": 1.6,
            "count": 0
           },
           {
            "bin_end": 2,
            "bin_start": 1.8,
            "count": 1
           }
          ],
          "max": "2.0",
          "min": "0.0",
          "nan_count": 0,
          "unique_count": 2
         }
        },
        {
         "dtype": "float64",
         "name": "max_heart_rate",
         "stats": {
          "histogram": [
           {
            "bin_end": 140.7,
            "bin_start": 139,
            "count": 1
           },
           {
            "bin_end": 142.4,
            "bin_start": 140.7,
            "count": 1
           },
           {
            "bin_end": 144.1,
            "bin_start": 142.4,
            "count": 1
           },
           {
            "bin_end": 145.8,
            "bin_start": 144.1,
            "count": 0
           },
           {
            "bin_end": 147.5,
            "bin_start": 145.8,
            "count": 0
           },
           {
            "bin_end": 149.2,
            "bin_start": 147.5,
            "count": 0
           },
           {
            "bin_end": 150.9,
            "bin_start": 149.2,
            "count": 0
           },
           {
            "bin_end": 152.6,
            "bin_start": 150.9,
            "count": 0
           },
           {
            "bin_end": 154.3,
            "bin_start": 152.6,
            "count": 1
           },
           {
            "bin_end": 156,
            "bin_start": 154.3,
            "count": 1
           }
          ],
          "max": "156.0",
          "min": "139.0",
          "nan_count": 0,
          "unique_count": 5
         }
        },
        {
         "dtype": "float64",
         "name": "exercise_induced_angina",
         "stats": {
          "histogram": [
           {
            "bin_end": 0.1,
            "bin_start": 0,
            "count": 3
           },
           {
            "bin_end": 0.2,
            "bin_start": 0.1,
            "count": 0
           },
           {
            "bin_end": 0.30000000000000004,
            "bin_start": 0.2,
            "count": 0
           },
           {
            "bin_end": 0.4,
            "bin_start": 0.30000000000000004,
            "count": 0
           },
           {
            "bin_end": 0.5,
            "bin_start": 0.4,
            "count": 0
           },
           {
            "bin_end": 0.6000000000000001,
            "bin_start": 0.5,
            "count": 0
           },
           {
            "bin_end": 0.7000000000000001,
            "bin_start": 0.6000000000000001,
            "count": 0
           },
           {
            "bin_end": 0.8,
            "bin_start": 0.7000000000000001,
            "count": 0
           },
           {
            "bin_end": 0.9,
            "bin_start": 0.8,
            "count": 0
           },
           {
            "bin_end": 1,
            "bin_start": 0.9,
            "count": 2
           }
          ],
          "max": "1.0",
          "min": "0.0",
          "nan_count": 0,
          "unique_count": 2
         }
        },
        {
         "dtype": "float64",
         "name": "old_peak",
         "stats": {
          "histogram": [
           {
            "bin_end": 0.3,
            "bin_start": 0,
            "count": 2
           },
           {
            "bin_end": 0.6,
            "bin_start": 0.3,
            "count": 0
           },
           {
            "bin_end": 0.8999999999999999,
            "bin_start": 0.6,
            "count": 0
           },
           {
            "bin_end": 1.2,
            "bin_start": 0.8999999999999999,
            "count": 0
           },
           {
            "bin_end": 1.5,
            "bin_start": 1.2,
            "count": 0
           },
           {
            "bin_end": 1.7999999999999998,
            "bin_start": 1.5,
            "count": 0
           },
           {
            "bin_end": 2.1,
            "bin_start": 1.7999999999999998,
            "count": 1
           },
           {
            "bin_end": 2.4,
            "bin_start": 2.1,
            "count": 0
           },
           {
            "bin_end": 2.6999999999999997,
            "bin_start": 2.4,
            "count": 0
           },
           {
            "bin_end": 3,
            "bin_start": 2.6999999999999997,
            "count": 2
           }
          ],
          "max": "3.0",
          "min": "0.0",
          "nan_count": 0,
          "unique_count": 4
         }
        },
        {
         "dtype": "float64",
         "name": "ST_slope",
         "stats": {
          "histogram": [
           {
            "bin_end": 1.1,
            "bin_start": 1,
            "count": 2
           },
           {
            "bin_end": 1.2,
            "bin_start": 1.1,
            "count": 0
           },
           {
            "bin_end": 1.3,
            "bin_start": 1.2,
            "count": 0
           },
           {
            "bin_end": 1.4,
            "bin_start": 1.3,
            "count": 0
           },
           {
            "bin_end": 1.5,
            "bin_start": 1.4,
            "count": 0
           },
           {
            "bin_end": 1.6,
            "bin_start": 1.5,
            "count": 0
           },
           {
            "bin_end": 1.7000000000000002,
            "bin_start": 1.6,
            "count": 0
           },
           {
            "bin_end": 1.8,
            "bin_start": 1.7000000000000002,
            "count": 0
           },
           {
            "bin_end": 1.9,
            "bin_start": 1.8,
            "count": 0
           },
           {
            "bin_end": 2,
            "bin_start": 1.9,
            "count": 3
           }
          ],
          "max": "2.0",
          "min": "1.0",
          "nan_count": 0,
          "unique_count": 2
         }
        },
        {
         "dtype": "float64",
         "name": "major_vessels",
         "stats": {
          "histogram": [
           {
            "bin_end": 0.3,
            "bin_start": 0,
            "count": 2
           },
           {
            "bin_end": 0.6,
            "bin_start": 0.3,
            "count": 0
           },
           {
            "bin_end": 0.8999999999999999,
            "bin_start": 0.6,
            "count": 0
           },
           {
            "bin_end": 1.2,
            "bin_start": 0.8999999999999999,
            "count": 1
           },
           {
            "bin_end": 1.5,
            "bin_start": 1.2,
            "count": 0
           },
           {
            "bin_end": 1.7999999999999998,
            "bin_start": 1.5,
            "count": 0
           },
           {
            "bin_end": 2.1,
            "bin_start": 1.7999999999999998,
            "count": 1
           },
           {
            "bin_end": 2.4,
            "bin_start": 2.1,
            "count": 0
           },
           {
            "bin_end": 2.6999999999999997,
            "bin_start": 2.4,
            "count": 0
           },
           {
            "bin_end": 3,
            "bin_start": 2.6999999999999997,
            "count": 1
           }
          ],
          "max": "3.0",
          "min": "0.0",
          "nan_count": 0,
          "unique_count": 4
         }
        },
        {
         "dtype": "float64",
         "name": "thalassemia",
         "stats": {
          "histogram": [
           {
            "bin_end": 3.4,
            "bin_start": 3,
            "count": 1
           },
           {
            "bin_end": 3.8,
            "bin_start": 3.4,
            "count": 0
           },
           {
            "bin_end": 4.2,
            "bin_start": 3.8,
            "count": 0
           },
           {
            "bin_end": 4.6,
            "bin_start": 4.2,
            "count": 0
           },
           {
            "bin_end": 5,
            "bin_start": 4.6,
            "count": 0
           },
           {
            "bin_end": 5.4,
            "bin_start": 5,
            "count": 0
           },
           {
            "bin_end": 5.800000000000001,
            "bin_start": 5.4,
            "count": 0
           },
           {
            "bin_end": 6.2,
            "bin_start": 5.800000000000001,
            "count": 0
           },
           {
            "bin_end": 6.6,
            "bin_start": 6.2,
            "count": 0
           },
           {
            "bin_end": 7,
            "bin_start": 6.6,
            "count": 4
           }
          ],
          "max": "7.0",
          "min": "3.0",
          "nan_count": 0,
          "unique_count": 2
         }
        },
        {
         "dtype": "int64",
         "name": "heart_disease",
         "stats": {
          "histogram": [
           {
            "bin_end": 0.1,
            "bin_start": 0,
            "count": 2
           },
           {
            "bin_end": 0.2,
            "bin_start": 0.1,
            "count": 0
           },
           {
            "bin_end": 0.30000000000000004,
            "bin_start": 0.2,
            "count": 0
           },
           {
            "bin_end": 0.4,
            "bin_start": 0.30000000000000004,
            "count": 0
           },
           {
            "bin_end": 0.5,
            "bin_start": 0.4,
            "count": 0
           },
           {
            "bin_end": 0.6000000000000001,
            "bin_start": 0.5,
            "count": 0
           },
           {
            "bin_end": 0.7000000000000001,
            "bin_start": 0.6000000000000001,
            "count": 0
           },
           {
            "bin_end": 0.8,
            "bin_start": 0.7000000000000001,
            "count": 0
           },
           {
            "bin_end": 0.9,
            "bin_start": 0.8,
            "count": 0
           },
           {
            "bin_end": 1,
            "bin_start": 0.9,
            "count": 3
           }
          ],
          "max": "1",
          "min": "0",
          "nan_count": 0,
          "unique_count": 2
         }
        },
        {
         "dtype": "float64",
         "name": "pred_prob_knn",
         "stats": {
          "histogram": [
           {
            "bin_end": 0.06666666666666667,
            "bin_start": 0,
            "count": 1
           },
           {
            "bin_end": 0.13333333333333333,
            "bin_start": 0.06666666666666667,
            "count": 0
           },
           {
            "bin_end": 0.2,
            "bin_start": 0.13333333333333333,
            "count": 0
           },
           {
            "bin_end": 0.26666666666666666,
            "bin_start": 0.2,
            "count": 0
           },
           {
            "bin_end": 0.3333333333333333,
            "bin_start": 0.26666666666666666,
            "count": 0
           },
           {
            "bin_end": 0.4,
            "bin_start": 0.3333333333333333,
            "count": 2
           },
           {
            "bin_end": 0.4666666666666667,
            "bin_start": 0.4,
            "count": 0
           },
           {
            "bin_end": 0.5333333333333333,
            "bin_start": 0.4666666666666667,
            "count": 0
           },
           {
            "bin_end": 0.6,
            "bin_start": 0.5333333333333333,
            "count": 0
           },
           {
            "bin_end": 0.6666666666666666,
            "bin_start": 0.6,
            "count": 2
           }
          ],
          "max": "0.6666666666666666",
          "min": "0.0",
          "nan_count": 0,
          "unique_count": 3
         }
        },
        {
         "dtype": "float64",
         "name": "pred_prob_lr",
         "stats": {
          "histogram": [
           {
            "bin_end": 0.13529120844149276,
            "bin_start": 0.039765452199906307,
            "count": 1
           },
           {
            "bin_end": 0.23081696468307922,
            "bin_start": 0.13529120844149276,
            "count": 1
           },
           {
            "bin_end": 0.32634272092466565,
            "bin_start": 0.23081696468307922,
            "count": 0
           },
           {
            "bin_end": 0.4218684771662521,
            "bin_start": 0.32634272092466565,
            "count": 0
           },
           {
            "bin_end": 0.5173942334078385,
            "bin_start": 0.4218684771662521,
            "count": 0
           },
           {
            "bin_end": 0.6129199896494251,
            "bin_start": 0.5173942334078385,
            "count": 0
           },
           {
            "bin_end": 0.7084457458910115,
            "bin_start": 0.6129199896494251,
            "count": 0
           },
           {
            "bin_end": 0.8039715021325979,
            "bin_start": 0.7084457458910115,
            "count": 0
           },
           {
            "bin_end": 0.8994972583741844,
            "bin_start": 0.8039715021325979,
            "count": 0
           },
           {
            "bin_end": 0.9950230146157708,
            "bin_start": 0.8994972583741844,
            "count": 3
           }
          ],
          "max": "0.9950230146157708",
          "min": "0.039765452199906307",
          "nan_count": 0,
          "unique_count": 5
         }
        },
        {
         "dtype": "int64",
         "name": "_deepnote_index_column"
        }
       ],
       "row_count": 5,
       "rows": [
        {
         "ST_slope": 1,
         "_deepnote_index_column": 240,
         "age": 41,
         "chest_pain": 2,
         "cholesterol": 235,
         "exercise_induced_angina": 0,
         "fasting_blood_sugar": 0,
         "heart_disease": 0,
         "major_vessels": 0,
         "max_heart_rate": 153,
         "old_peak": 0,
         "pred_prob_knn": 0.6666666666666666,
         "pred_prob_lr": 0.039765452199906307,
         "resting_ECG": 0,
         "resting_blood_pressure": 110,
         "sex": 1,
         "thalassemia": 3
        },
        {
         "ST_slope": 1,
         "_deepnote_index_column": 105,
         "age": 54,
         "chest_pain": 2,
         "cholesterol": 309,
         "exercise_induced_angina": 0,
         "fasting_blood_sugar": 0,
         "heart_disease": 0,
         "major_vessels": 0,
         "max_heart_rate": 156,
         "old_peak": 0,
         "pred_prob_knn": 0.3333333333333333,
         "pred_prob_lr": 0.21530313173104013,
         "resting_ECG": 0,
         "resting_blood_pressure": 108,
         "sex": 1,
         "thalassemia": 7
        },
        {
         "ST_slope": 2,
         "_deepnote_index_column": 280,
         "age": 57,
         "chest_pain": 4,
         "cholesterol": 335,
         "exercise_induced_angina": 1,
         "fasting_blood_sugar": 0,
         "heart_disease": 1,
         "major_vessels": 1,
         "max_heart_rate": 143,
         "old_peak": 3,
         "pred_prob_knn": 0.6666666666666666,
         "pred_prob_lr": 0.9794339936835833,
         "resting_ECG": 0,
         "resting_blood_pressure": 110,
         "sex": 1,
         "thalassemia": 7
        },
        {
         "ST_slope": 2,
         "_deepnote_index_column": 65,
         "age": 60,
         "chest_pain": 4,
         "cholesterol": 282,
         "exercise_induced_angina": 1,
         "fasting_blood_sugar": 0,
         "heart_disease": 1,
         "major_vessels": 2,
         "max_heart_rate": 142,
         "old_peak": 2.8,
         "pred_prob_knn": 0,
         "pred_prob_lr": 0.9950230146157708,
         "resting_ECG": 2,
         "resting_blood_pressure": 145,
         "sex": 1,
         "thalassemia": 7
        },
        {
         "ST_slope": 2,
         "_deepnote_index_column": 104,
         "age": 49,
         "chest_pain": 3,
         "cholesterol": 188,
         "exercise_induced_angina": 0,
         "fasting_blood_sugar": 0,
         "heart_disease": 1,
         "major_vessels": 3,
         "max_heart_rate": 139,
         "old_peak": 2,
         "pred_prob_knn": 0.3333333333333333,
         "pred_prob_lr": 0.9610387733060526,
         "resting_ECG": 0,
         "resting_blood_pressure": 120,
         "sex": 1,
         "thalassemia": 7
        }
       ]
      },
      "text/html": [
       "<div>\n",
       "<style scoped>\n",
       "    .dataframe tbody tr th:only-of-type {\n",
       "        vertical-align: middle;\n",
       "    }\n",
       "\n",
       "    .dataframe tbody tr th {\n",
       "        vertical-align: top;\n",
       "    }\n",
       "\n",
       "    .dataframe thead th {\n",
       "        text-align: right;\n",
       "    }\n",
       "</style>\n",
       "<table border=\"1\" class=\"dataframe\">\n",
       "  <thead>\n",
       "    <tr style=\"text-align: right;\">\n",
       "      <th></th>\n",
       "      <th>age</th>\n",
       "      <th>sex</th>\n",
       "      <th>chest_pain</th>\n",
       "      <th>resting_blood_pressure</th>\n",
       "      <th>cholesterol</th>\n",
       "      <th>fasting_blood_sugar</th>\n",
       "      <th>resting_ECG</th>\n",
       "      <th>max_heart_rate</th>\n",
       "      <th>exercise_induced_angina</th>\n",
       "      <th>old_peak</th>\n",
       "      <th>ST_slope</th>\n",
       "      <th>major_vessels</th>\n",
       "      <th>thalassemia</th>\n",
       "      <th>heart_disease</th>\n",
       "      <th>pred_prob_knn</th>\n",
       "      <th>pred_prob_lr</th>\n",
       "    </tr>\n",
       "  </thead>\n",
       "  <tbody>\n",
       "    <tr>\n",
       "      <th>240</th>\n",
       "      <td>41.0</td>\n",
       "      <td>1.0</td>\n",
       "      <td>2.0</td>\n",
       "      <td>110.0</td>\n",
       "      <td>235.0</td>\n",
       "      <td>0.0</td>\n",
       "      <td>0.0</td>\n",
       "      <td>153.0</td>\n",
       "      <td>0.0</td>\n",
       "      <td>0.0</td>\n",
       "      <td>1.0</td>\n",
       "      <td>0.0</td>\n",
       "      <td>3.0</td>\n",
       "      <td>0</td>\n",
       "      <td>0.666667</td>\n",
       "      <td>0.039765</td>\n",
       "    </tr>\n",
       "    <tr>\n",
       "      <th>105</th>\n",
       "      <td>54.0</td>\n",
       "      <td>1.0</td>\n",
       "      <td>2.0</td>\n",
       "      <td>108.0</td>\n",
       "      <td>309.0</td>\n",
       "      <td>0.0</td>\n",
       "      <td>0.0</td>\n",
       "      <td>156.0</td>\n",
       "      <td>0.0</td>\n",
       "      <td>0.0</td>\n",
       "      <td>1.0</td>\n",
       "      <td>0.0</td>\n",
       "      <td>7.0</td>\n",
       "      <td>0</td>\n",
       "      <td>0.333333</td>\n",
       "      <td>0.215303</td>\n",
       "    </tr>\n",
       "    <tr>\n",
       "      <th>280</th>\n",
       "      <td>57.0</td>\n",
       "      <td>1.0</td>\n",
       "      <td>4.0</td>\n",
       "      <td>110.0</td>\n",
       "      <td>335.0</td>\n",
       "      <td>0.0</td>\n",
       "      <td>0.0</td>\n",
       "      <td>143.0</td>\n",
       "      <td>1.0</td>\n",
       "      <td>3.0</td>\n",
       "      <td>2.0</td>\n",
       "      <td>1.0</td>\n",
       "      <td>7.0</td>\n",
       "      <td>1</td>\n",
       "      <td>0.666667</td>\n",
       "      <td>0.979434</td>\n",
       "    </tr>\n",
       "    <tr>\n",
       "      <th>65</th>\n",
       "      <td>60.0</td>\n",
       "      <td>1.0</td>\n",
       "      <td>4.0</td>\n",
       "      <td>145.0</td>\n",
       "      <td>282.0</td>\n",
       "      <td>0.0</td>\n",
       "      <td>2.0</td>\n",
       "      <td>142.0</td>\n",
       "      <td>1.0</td>\n",
       "      <td>2.8</td>\n",
       "      <td>2.0</td>\n",
       "      <td>2.0</td>\n",
       "      <td>7.0</td>\n",
       "      <td>1</td>\n",
       "      <td>0.000000</td>\n",
       "      <td>0.995023</td>\n",
       "    </tr>\n",
       "    <tr>\n",
       "      <th>104</th>\n",
       "      <td>49.0</td>\n",
       "      <td>1.0</td>\n",
       "      <td>3.0</td>\n",
       "      <td>120.0</td>\n",
       "      <td>188.0</td>\n",
       "      <td>0.0</td>\n",
       "      <td>0.0</td>\n",
       "      <td>139.0</td>\n",
       "      <td>0.0</td>\n",
       "      <td>2.0</td>\n",
       "      <td>2.0</td>\n",
       "      <td>3.0</td>\n",
       "      <td>7.0</td>\n",
       "      <td>1</td>\n",
       "      <td>0.333333</td>\n",
       "      <td>0.961039</td>\n",
       "    </tr>\n",
       "  </tbody>\n",
       "</table>\n",
       "</div>"
      ],
      "text/plain": [
       "      age  sex  chest_pain  resting_blood_pressure  cholesterol  \\\n",
       "240  41.0  1.0         2.0                   110.0        235.0   \n",
       "105  54.0  1.0         2.0                   108.0        309.0   \n",
       "280  57.0  1.0         4.0                   110.0        335.0   \n",
       "65   60.0  1.0         4.0                   145.0        282.0   \n",
       "104  49.0  1.0         3.0                   120.0        188.0   \n",
       "\n",
       "     fasting_blood_sugar  resting_ECG  max_heart_rate  \\\n",
       "240                  0.0          0.0           153.0   \n",
       "105                  0.0          0.0           156.0   \n",
       "280                  0.0          0.0           143.0   \n",
       "65                   0.0          2.0           142.0   \n",
       "104                  0.0          0.0           139.0   \n",
       "\n",
       "     exercise_induced_angina  old_peak  ST_slope  major_vessels  thalassemia  \\\n",
       "240                      0.0       0.0       1.0            0.0          3.0   \n",
       "105                      0.0       0.0       1.0            0.0          7.0   \n",
       "280                      1.0       3.0       2.0            1.0          7.0   \n",
       "65                       1.0       2.8       2.0            2.0          7.0   \n",
       "104                      0.0       2.0       2.0            3.0          7.0   \n",
       "\n",
       "     heart_disease  pred_prob_knn  pred_prob_lr  \n",
       "240              0       0.666667      0.039765  \n",
       "105              0       0.333333      0.215303  \n",
       "280              1       0.666667      0.979434  \n",
       "65               1       0.000000      0.995023  \n",
       "104              1       0.333333      0.961039  "
      ]
     },
     "execution_count": 26,
     "metadata": {},
     "output_type": "execute_result"
    }
   ],
   "source": [
    "df_test.head()"
   ]
  },
  {
   "cell_type": "markdown",
   "id": "C5G9RLw8qbe9",
   "metadata": {
    "cell_id": "00036-895cb653-40e8-4d7e-ae72-0070cf1d5935",
    "deepnote_cell_height": 54,
    "deepnote_cell_type": "markdown",
    "id": "C5G9RLw8qbe9"
   },
   "source": [
    "#### Generate confusion matrix"
   ]
  },
  {
   "cell_type": "code",
   "execution_count": null,
   "id": "BvHqvLpNqbe-",
   "metadata": {
    "cell_id": "00037-c5dde78d-8d83-4312-8633-fd309f6716aa",
    "deepnote_cell_height": 297,
    "deepnote_cell_type": "code",
    "deepnote_to_be_reexecuted": false,
    "execution_millis": 81447723,
    "execution_start": 1651856897536,
    "id": "BvHqvLpNqbe-",
    "source_hash": "ac5c12c4"
   },
   "outputs": [],
   "source": [
    "def CM(df, cutoff, target, prediction):\n",
    "      \"\"\"\n",
    "      Function to create a Confusion Matrix\n",
    "      \"\"\"\n",
    "      df = df.copy()\n",
    "\n",
    "      # Capture which prediction probabilities exceeded the 'True' cutoff (have 'heart disease')\n",
    "      df['pred_true'] = (df[prediction] >= cutoff)\n",
    "\n",
    "      # Return grouped total counts which chart the 2x2 confusion matrix\n",
    "      #    (ignore last 'result', we just need a column to focus on for the count)\n",
    "      \n",
    "      return df.groupby([target, 'pred_true'])[target].count()"
   ]
  },
  {
   "cell_type": "code",
   "execution_count": null,
   "id": "befCZd8iqbe-",
   "metadata": {
    "cell_id": "b2270858b0ec4c1a9d02ed098ec05345",
    "deepnote_cell_height": 279,
    "deepnote_cell_type": "code",
    "deepnote_to_be_reexecuted": false,
    "execution_millis": 81447731,
    "execution_start": 1651856897545,
    "id": "befCZd8iqbe-",
    "source_hash": "e9962a9a",
    "tags": []
   },
   "outputs": [],
   "source": [
    "def CM_values(CM):\n",
    "    \"\"\"\n",
    "    Function to grab each of the individual values of the Confusion Matrix\n",
    "    This will return the abbreviations for True/False and Positive/Negative combinations and make it easier to do math with them\n",
    "    It's totally unnecessary and we should have just used a calculator or our heads for this\n",
    "    \"\"\"\n",
    "    TP = CM[1][1]\n",
    "    FP = CM[1][0]\n",
    "    TN = CM[0][1]\n",
    "    FN = CM[0][0]\n",
    "\n",
    "    return TP, FP, TN, FN"
   ]
  },
  {
   "cell_type": "markdown",
   "id": "zeFqPo9Yqbe-",
   "metadata": {
    "cell_id": "00038-c5361e92-608a-4ea1-aaac-3b6979065c18",
    "deepnote_cell_height": 54,
    "deepnote_cell_type": "markdown",
    "id": "zeFqPo9Yqbe-"
   },
   "source": [
    "#### Confusion matrix result for KNN "
   ]
  },
  {
   "cell_type": "code",
   "execution_count": null,
   "id": "COIPzI3mqbe-",
   "metadata": {
    "cell_id": "65e972c6e01a498a9ac2621b7a06d0ee",
    "deepnote_cell_height": 250.125,
    "deepnote_cell_type": "code",
    "deepnote_output_heights": [
     117.125
    ],
    "deepnote_to_be_reexecuted": false,
    "execution_millis": 81447733,
    "execution_start": 1651856897601,
    "id": "COIPzI3mqbe-",
    "outputId": "1b8ebcad-7218-46c7-a4dc-77b7f155cf36",
    "source_hash": "7972a472",
    "tags": []
   },
   "outputs": [
    {
     "data": {
      "text/plain": [
       "heart_disease  pred_true\n",
       "0              False         9\n",
       "               True         24\n",
       "1              False         6\n",
       "               True         22\n",
       "Name: heart_disease, dtype: int64"
      ]
     },
     "execution_count": 29,
     "metadata": {},
     "output_type": "execute_result"
    }
   ],
   "source": [
    "# CM for KNN with 0.3 treshold\n",
    "CM_KNN_3 = CM(df_test, 0.3, target, 'pred_prob_knn')\n",
    "CM_KNN_3"
   ]
  },
  {
   "cell_type": "code",
   "execution_count": null,
   "id": "5-2_8io3qbe-",
   "metadata": {
    "cell_id": "d63e72b035f9432b8e09c01b14001dea",
    "deepnote_cell_height": 148.1875,
    "deepnote_cell_type": "code",
    "deepnote_to_be_reexecuted": false,
    "execution_millis": 81447776,
    "execution_start": 1651856897603,
    "id": "5-2_8io3qbe-",
    "outputId": "431e9a63-989d-4b47-df38-81dad8a13e5a",
    "source_hash": "c649dbc8",
    "tags": []
   },
   "outputs": [
    {
     "name": "stdout",
     "output_type": "stream",
     "text": [
      "22 6 24 9\n"
     ]
    }
   ],
   "source": [
    "# Get the CM KNN outputs\n",
    "TP, FP, TN, FN = CM_values(CM_KNN_3)\n",
    "print(TP, FP, TN, FN)"
   ]
  },
  {
   "cell_type": "code",
   "execution_count": null,
   "id": "SSnUjeR8qbe-",
   "metadata": {
    "cell_id": "a1836bee24e442c8a148cd354b1a28e3",
    "deepnote_cell_height": 186.375,
    "deepnote_cell_type": "code",
    "deepnote_to_be_reexecuted": false,
    "execution_millis": 520,
    "execution_start": 1651856897645,
    "id": "SSnUjeR8qbe-",
    "outputId": "f955c196-785e-4f75-b41c-84be13913b46",
    "source_hash": "cba30869",
    "tags": []
   },
   "outputs": [
    {
     "name": "stdout",
     "output_type": "stream",
     "text": [
      "TN = 24, TP = 22 [Correctly identified positive and negative cases] = 24 + 22 = 46\n",
      "FN = 9, FP = 6 [Inorrectly identified positive and negative cases] = 9 + 6 = 15\n"
     ]
    }
   ],
   "source": [
    "# ANALYSIS - 0.3 THRESHOLD\n",
    "print(f\"TN = {TN}, TP = {TP} [Correctly identified positive and negative cases] = {TN} + {TP} = {TN + TP}\")\n",
    "print(f\"FN = {FN}, FP = {FP} [Inorrectly identified positive and negative cases] = {FN} + {FP} = {FN + FP}\")\n"
   ]
  },
  {
   "cell_type": "code",
   "execution_count": null,
   "id": "zYd6pmIHqbe-",
   "metadata": {
    "cell_id": "00041-ef8049f5-d40c-4013-962c-fc6d304aa889",
    "deepnote_cell_height": 250.125,
    "deepnote_cell_type": "code",
    "deepnote_output_heights": [
     117.125
    ],
    "deepnote_to_be_reexecuted": false,
    "execution_millis": 522,
    "execution_start": 1651856897646,
    "id": "zYd6pmIHqbe-",
    "outputId": "9bed27cd-64f1-4a4a-ed64-75e2cd915291",
    "source_hash": "d951aaf1"
   },
   "outputs": [
    {
     "data": {
      "text/plain": [
       "heart_disease  pred_true\n",
       "0              False        27\n",
       "               True          6\n",
       "1              False        22\n",
       "               True          6\n",
       "Name: heart_disease, dtype: int64"
      ]
     },
     "execution_count": 32,
     "metadata": {},
     "output_type": "execute_result"
    }
   ],
   "source": [
    "# CM for KNN with 0.7 threshold \n",
    "CM_KNN_7 = CM(df_test, 0.7, target, 'pred_prob_knn')\n",
    "CM_KNN_7"
   ]
  },
  {
   "cell_type": "code",
   "execution_count": null,
   "id": "ZkzkhcJSqbe-",
   "metadata": {
    "cell_id": "203d3f60b3fa493488c69d9e37d120a7",
    "deepnote_cell_height": 148.1875,
    "deepnote_cell_type": "code",
    "deepnote_to_be_reexecuted": false,
    "execution_millis": 81447787,
    "execution_start": 1651856897692,
    "id": "ZkzkhcJSqbe-",
    "outputId": "f633fe8a-8c52-4da9-b093-0cccf192bb42",
    "source_hash": "d3e76ced",
    "tags": []
   },
   "outputs": [
    {
     "name": "stdout",
     "output_type": "stream",
     "text": [
      "6 22 6 27\n"
     ]
    }
   ],
   "source": [
    "# Get the CM KNN outputs\n",
    "TP, FP, TN, FN = CM_values(CM_KNN_7)\n",
    "print(TP, FP, TN, FN)"
   ]
  },
  {
   "cell_type": "code",
   "execution_count": null,
   "id": "onLo_XVNqbe-",
   "metadata": {
    "cell_id": "81547fc5e6fc42e0b9e99c5bd702d713",
    "deepnote_cell_height": 168.375,
    "deepnote_cell_type": "code",
    "deepnote_to_be_reexecuted": false,
    "execution_millis": 474,
    "execution_start": 1651856897694,
    "id": "onLo_XVNqbe-",
    "outputId": "c4e64adb-95a8-4687-ab06-7cd1bddcb00f",
    "source_hash": "1d102237",
    "tags": []
   },
   "outputs": [
    {
     "name": "stdout",
     "output_type": "stream",
     "text": [
      "TN = 6, TP = 6 [Correctly identified positive and negative cases] = 6 + 6 = 12\n",
      "FN = 27, FP = 22 [Inorrectly identified positive and negative cases] = 27 + 22 = 49\n"
     ]
    }
   ],
   "source": [
    "# ANALYSIS - 0.7 THRESHOLD\n",
    "print(f\"TN = {TN}, TP = {TP} [Correctly identified positive and negative cases] = {TN} + {TP} = {TN + TP}\")\n",
    "print(f\"FN = {FN}, FP = {FP} [Inorrectly identified positive and negative cases] = {FN} + {FP} = {FN + FP}\")"
   ]
  },
  {
   "cell_type": "markdown",
   "id": "RVdu2oFPqbe_",
   "metadata": {
    "cell_id": "00043-2f27039e-4c83-4f66-b2e5-c9b1b47e4a8c",
    "deepnote_cell_height": 194.953125,
    "deepnote_cell_type": "markdown",
    "id": "RVdu2oFPqbe_"
   },
   "source": [
    "#### Compare the thresholds for KNN:\n",
    "\n",
    "* 0.3 threshold is better compared to 0.7 because, it predicts correct results for 46 patients, while it incorrectly predicts 15 cases. Whereas, 0.7 correctly predicts 12 cases and incorrectly predicts 49 cases.\n",
    "\n",
    "* In our case we do not want to incorrectly predict 'False Postives.' Here with 0.3 threshold its - 6 cases but with 0.7 its - 22 cases.\n",
    "\n",
    "Hence we'l pick `0.3 as the Threshold for KNN`"
   ]
  },
  {
   "cell_type": "markdown",
   "id": "yNnfBQdnqbe_",
   "metadata": {
    "cell_id": "00044-03b42792-15d7-4203-8b9b-f8c3a52aa512",
    "deepnote_cell_height": 54,
    "deepnote_cell_type": "markdown",
    "id": "yNnfBQdnqbe_"
   },
   "source": [
    "#### Confusion matrix result for Logistic Regression "
   ]
  },
  {
   "cell_type": "code",
   "execution_count": null,
   "id": "ykMO33TAqbe_",
   "metadata": {
    "cell_id": "00045-a652b3e3-63ff-49df-82e1-88626cc5e141",
    "deepnote_cell_height": 250.125,
    "deepnote_cell_type": "code",
    "deepnote_output_heights": [
     117.125
    ],
    "deepnote_to_be_reexecuted": false,
    "execution_millis": 470,
    "execution_start": 1651856897698,
    "id": "ykMO33TAqbe_",
    "outputId": "6d304bdf-2ed7-48c7-be16-5138ab9def20",
    "source_hash": "f78bd551"
   },
   "outputs": [
    {
     "data": {
      "text/plain": [
       "heart_disease  pred_true\n",
       "0              False        23\n",
       "               True         10\n",
       "1              False         4\n",
       "               True         24\n",
       "Name: heart_disease, dtype: int64"
      ]
     },
     "execution_count": 35,
     "metadata": {},
     "output_type": "execute_result"
    }
   ],
   "source": [
    "# CM for LR with 0.3 treshold\n",
    "CM_LR_3 = CM(df_test, 0.3, target, 'pred_prob_lr')\n",
    "CM_LR_3"
   ]
  },
  {
   "cell_type": "code",
   "execution_count": null,
   "id": "VUhH8l5hqbe_",
   "metadata": {
    "cell_id": "ef5f56f3a124460a947f645dbc28f3b2",
    "deepnote_cell_height": 148.1875,
    "deepnote_cell_type": "code",
    "deepnote_to_be_reexecuted": false,
    "execution_millis": 459,
    "execution_start": 1651856897715,
    "id": "VUhH8l5hqbe_",
    "outputId": "4db6c6f7-8f68-469f-bdac-f2034a108aae",
    "source_hash": "a76786c0",
    "tags": []
   },
   "outputs": [
    {
     "name": "stdout",
     "output_type": "stream",
     "text": [
      "24 4 10 23\n"
     ]
    }
   ],
   "source": [
    "# Get the CM LR outputs\n",
    "TP, FP, TN, FN = CM_values(CM_LR_3)\n",
    "print(TP, FP, TN, FN)"
   ]
  },
  {
   "cell_type": "code",
   "execution_count": null,
   "id": "nwpvQnlnqbe_",
   "metadata": {
    "cell_id": "5ec99c4503734d0db47865655077f617",
    "deepnote_cell_height": 186.375,
    "deepnote_cell_type": "code",
    "deepnote_to_be_reexecuted": false,
    "execution_millis": 389,
    "execution_start": 1651856897785,
    "id": "nwpvQnlnqbe_",
    "outputId": "1f0e475a-170a-484e-8400-ce0206c08306",
    "source_hash": "cba30869",
    "tags": []
   },
   "outputs": [
    {
     "name": "stdout",
     "output_type": "stream",
     "text": [
      "TN = 10, TP = 24 [Correctly identified positive and negative cases] = 10 + 24 = 34\n",
      "FN = 23, FP = 4 [Inorrectly identified positive and negative cases] = 23 + 4 = 27\n"
     ]
    }
   ],
   "source": [
    "# ANALYSIS - 0.3 THRESHOLD\n",
    "print(f\"TN = {TN}, TP = {TP} [Correctly identified positive and negative cases] = {TN} + {TP} = {TN + TP}\")\n",
    "print(f\"FN = {FN}, FP = {FP} [Inorrectly identified positive and negative cases] = {FN} + {FP} = {FN + FP}\")\n"
   ]
  },
  {
   "cell_type": "code",
   "execution_count": null,
   "id": "8yEtRdbTqbe_",
   "metadata": {
    "cell_id": "946cf6b0787846de9ec25718ea0fd6f2",
    "deepnote_cell_height": 250.125,
    "deepnote_cell_type": "code",
    "deepnote_output_heights": [
     117.125
    ],
    "deepnote_to_be_reexecuted": false,
    "execution_millis": 389,
    "execution_start": 1651856897786,
    "id": "8yEtRdbTqbe_",
    "outputId": "7ef17760-cb8f-4aca-d38e-c7c7705e31d5",
    "source_hash": "3c410439",
    "tags": []
   },
   "outputs": [
    {
     "data": {
      "text/plain": [
       "heart_disease  pred_true\n",
       "0              False        31\n",
       "               True          2\n",
       "1              False         9\n",
       "               True         19\n",
       "Name: heart_disease, dtype: int64"
      ]
     },
     "execution_count": 38,
     "metadata": {},
     "output_type": "execute_result"
    }
   ],
   "source": [
    "# CM for LR with 0.7 threshold \n",
    "CM_LR_7 = CM(df_test, 0.7, target, 'pred_prob_lr')\n",
    "CM_LR_7"
   ]
  },
  {
   "cell_type": "code",
   "execution_count": null,
   "id": "W4aKCMIRqbe_",
   "metadata": {
    "cell_id": "216dcbf655234cd6ad0a4df741ee670f",
    "deepnote_cell_height": 148.1875,
    "deepnote_cell_type": "code",
    "deepnote_to_be_reexecuted": false,
    "execution_millis": 342,
    "execution_start": 1651856897834,
    "id": "W4aKCMIRqbe_",
    "outputId": "17fefd52-da21-4952-d690-2b4040d7c9cd",
    "source_hash": "b67e54c7",
    "tags": []
   },
   "outputs": [
    {
     "name": "stdout",
     "output_type": "stream",
     "text": [
      "19 9 2 31\n"
     ]
    }
   ],
   "source": [
    "# Get the CM LR outputs\n",
    "TP, FP, TN, FN = CM_values(CM_LR_7)\n",
    "print(TP, FP, TN, FN)"
   ]
  },
  {
   "cell_type": "code",
   "execution_count": null,
   "id": "tHAT9wpFqbe_",
   "metadata": {
    "cell_id": "d282317b38314e338f2f4c21a62d9b81",
    "deepnote_cell_height": 168.375,
    "deepnote_cell_type": "code",
    "deepnote_to_be_reexecuted": false,
    "execution_millis": 341,
    "execution_start": 1651856897835,
    "id": "tHAT9wpFqbe_",
    "outputId": "db77f64f-b16e-4d3b-f5f9-eceac2832f80",
    "source_hash": "1d102237",
    "tags": []
   },
   "outputs": [
    {
     "name": "stdout",
     "output_type": "stream",
     "text": [
      "TN = 2, TP = 19 [Correctly identified positive and negative cases] = 2 + 19 = 21\n",
      "FN = 31, FP = 9 [Inorrectly identified positive and negative cases] = 31 + 9 = 40\n"
     ]
    }
   ],
   "source": [
    "# ANALYSIS - 0.7 THRESHOLD\n",
    "print(f\"TN = {TN}, TP = {TP} [Correctly identified positive and negative cases] = {TN} + {TP} = {TN + TP}\")\n",
    "print(f\"FN = {FN}, FP = {FP} [Inorrectly identified positive and negative cases] = {FN} + {FP} = {FN + FP}\")"
   ]
  },
  {
   "cell_type": "markdown",
   "id": "pd0rROV2qbe_",
   "metadata": {
    "cell_id": "00049-08a27e8e-1df5-47d7-b580-5667b1238833",
    "deepnote_cell_height": 172.5625,
    "deepnote_cell_type": "markdown",
    "id": "pd0rROV2qbe_"
   },
   "source": [
    "#### Compare the threshold for LR:\n",
    "\n",
    "* 0.3 Threshold is better compared to 0.7 because, it predicts correct results for 34 patients, while it incorrectly predicts 27 cases. Whereas, 0.7 predicts correctly 21 cases and incorrectly 40 cases.\n",
    "\n",
    "* In our case we do not want to incorrectly predict 'False Postives.' Here with 0.3 threshold its - 4 cases but with 0.7 its - 9.\n",
    "\n",
    "Hence we'll pick `0.3 as the Threshold for LR`."
   ]
  },
  {
   "cell_type": "markdown",
   "id": "cR0xq1Vbqbe_",
   "metadata": {
    "cell_id": "00050-a0f49c76-156b-4371-894c-c45ace285ca5",
    "deepnote_cell_height": 175.5625,
    "deepnote_cell_type": "markdown",
    "id": "cR0xq1Vbqbe_"
   },
   "source": [
    "#### Description:\n",
    "\n",
    "1. Better performing threshold for KNN is 0.3 with respect to better T/F Positive result prediction\n",
    "2. Similary 0.3 acts as best for LR model as well with just 4 False Postive cases.\n",
    "3. We can pick LR as the best model becuase the number of False postives are just 4 compared to KNN which is 7. Before picking the best model let's dive in with other metric's as well.\n"
   ]
  },
  {
   "cell_type": "markdown",
   "id": "VH0ZJRuiqbfA",
   "metadata": {
    "cell_id": "00051-c638cc39-6d69-410f-a671-5765eba90c34",
    "deepnote_cell_height": 54,
    "deepnote_cell_type": "markdown",
    "id": "VH0ZJRuiqbfA"
   },
   "source": [
    "#### ROC Curves to find the best cutoff"
   ]
  },
  {
   "cell_type": "code",
   "execution_count": null,
   "id": "xtHmrThaqbfA",
   "metadata": {
    "cell_id": "00052-8ad7b999-12e0-44cb-b43c-328fbc926354",
    "deepnote_cell_height": 459,
    "deepnote_cell_type": "code",
    "deepnote_to_be_reexecuted": false,
    "execution_millis": 0,
    "execution_start": 1651856897875,
    "id": "xtHmrThaqbfA",
    "source_hash": "8dc36377"
   },
   "outputs": [],
   "source": [
    "def RecallPrecision(df, cutoff, prediction, target):\n",
    "  \"\"\"\n",
    "  Utilizing Confusion Matrix calculations for TP, FP, TN, FN, then return: Precision, Recall, and FPR\n",
    "  \"\"\"\n",
    "  df = df.copy()\n",
    "  \n",
    "  # Capture which prediction probabilities exceeded the 'True' cutoff - i.e are 'positive'\n",
    "  df['pred_positive'] = (df[prediction] >= cutoff)\n",
    "  \n",
    "  # Collect grouped total counts which chart the 2x2 confusion matrix\n",
    "  df_grouped = df.groupby([target, 'pred_positive'])[target].count().reset_index(name=\"count\")\n",
    "  \n",
    "  # Calculate True/False Positives, and True/False Negatives\n",
    "  TP = df_grouped[(df_grouped[target]==1) & (df_grouped['pred_positive']==True)]['count'].min()\n",
    "  FP = df_grouped[(df_grouped[target]==0) & (df_grouped['pred_positive']==True)]['count'].min()\n",
    "  TN = df_grouped[(df_grouped[target]==0) & (df_grouped['pred_positive']==False)]['count'].min()\n",
    "  FN = df_grouped[(df_grouped[target]==1) & (df_grouped['pred_positive']==False)]['count'].min()\n",
    "  \n",
    "  #print(f'TP: {TP}, FN: {FN}')\\\n",
    "\n",
    "  # Returns: Precision, Recall, False Positive Rate (FPR)\n",
    "  return TP/(TP+FP), TP/(TP+FN), FP/(TN+FP)"
   ]
  },
  {
   "cell_type": "markdown",
   "id": "HSXHJPSqqbfA",
   "metadata": {
    "cell_id": "00053-f41f17bc-bc5a-4dc3-b304-3964a486dc30",
    "deepnote_cell_height": 102.390625,
    "deepnote_cell_type": "markdown",
    "id": "HSXHJPSqqbfA"
   },
   "source": [
    "#### ROC curve\n",
    "- Look for better cutoffs using ROC curve"
   ]
  },
  {
   "cell_type": "code",
   "execution_count": null,
   "id": "2JwNDokpqbfA",
   "metadata": {
    "cell_id": "00054-b2759573-bd16-495b-8b12-fffd602c1e13",
    "deepnote_cell_height": 173.375,
    "deepnote_cell_type": "code",
    "deepnote_output_heights": [
     40.375
    ],
    "deepnote_to_be_reexecuted": false,
    "execution_millis": 302,
    "execution_start": 1651856897876,
    "id": "2JwNDokpqbfA",
    "outputId": "559e5428-edf8-4960-d17c-b7483d28ae44",
    "source_hash": "8326d9b"
   },
   "outputs": [
    {
     "data": {
      "text/plain": [
       "array([0.1       , 0.18888889, 0.27777778, 0.36666667, 0.45555556,\n",
       "       0.54444444, 0.63333333, 0.72222222, 0.81111111, 0.9       ])"
      ]
     },
     "execution_count": 42,
     "metadata": {},
     "output_type": "execute_result"
    }
   ],
   "source": [
    "# Cutoffs\n",
    "cutoffs = np.linspace(0.1,0.9,10)\n",
    "cutoffs"
   ]
  },
  {
   "cell_type": "markdown",
   "id": "yJubnmL9qbfA",
   "metadata": {
    "cell_id": "00055-7556eeaa-92c4-4995-9190-156ac725c2cf",
    "deepnote_cell_height": 54,
    "deepnote_cell_type": "markdown",
    "id": "yJubnmL9qbfA"
   },
   "source": [
    "#### ROC curve for KNN & LR"
   ]
  },
  {
   "cell_type": "code",
   "execution_count": null,
   "id": "ImLFVDlGqbfA",
   "metadata": {
    "cell_id": "00056-a164d7b6-a52b-417a-9b50-df81a5ce62b0",
    "deepnote_cell_height": 261,
    "deepnote_cell_type": "code",
    "deepnote_to_be_reexecuted": false,
    "execution_millis": 0,
    "execution_start": 1651856897933,
    "id": "ImLFVDlGqbfA",
    "source_hash": "5259f14e"
   },
   "outputs": [],
   "source": [
    "def roc_curve(df, probability, target, cutoffs):\n",
    "  \"\"\"\n",
    "  Calls the RecallPrecision function to generate ROC data\n",
    "  \"\"\"\n",
    "  roc_data = {}\n",
    "  \n",
    "  for i in cutoffs:\n",
    "    _, recall, fpr = RecallPrecision(df, i, probability, target)\n",
    "    roc_data[fpr] = recall\n",
    "  \n",
    "  return roc_data"
   ]
  },
  {
   "cell_type": "code",
   "execution_count": null,
   "id": "qfuFeGfpqbfA",
   "metadata": {
    "cell_id": "00057-636e3b93-3905-4f59-bd3a-d60b8ba5f321",
    "deepnote_cell_height": 117,
    "deepnote_cell_type": "code",
    "deepnote_to_be_reexecuted": false,
    "execution_millis": 185,
    "execution_start": 1651856897934,
    "id": "qfuFeGfpqbfA",
    "source_hash": "45a572bc"
   },
   "outputs": [],
   "source": [
    "# Create ROC curve data for LR and KNN\n",
    "roc_data_knn = roc_curve(df_test, 'pred_prob_knn', target, cutoffs)\n",
    "roc_data_lr = roc_curve(df_test, 'pred_prob_lr', target, cutoffs)"
   ]
  },
  {
   "cell_type": "code",
   "execution_count": null,
   "id": "PHEci7krqbfA",
   "metadata": {
    "cell_id": "00058-79a9a513-a097-4c3a-9411-632e9365506d",
    "deepnote_cell_height": 174.5625,
    "deepnote_cell_type": "code",
    "deepnote_output_heights": [
     59.5625
    ],
    "deepnote_to_be_reexecuted": false,
    "execution_millis": 46,
    "execution_start": 1651856898134,
    "id": "PHEci7krqbfA",
    "outputId": "83924e58-887e-460a-c775-239ea1c46845",
    "source_hash": "27abb35"
   },
   "outputs": [
    {
     "data": {
      "text/plain": [
       "{0.7272727272727273: 0.7857142857142857,\n",
       " 0.36363636363636365: 0.5357142857142857,\n",
       " 0.18181818181818182: 0.21428571428571427}"
      ]
     },
     "execution_count": 45,
     "metadata": {},
     "output_type": "execute_result"
    }
   ],
   "source": [
    "# Dictionary of ROC data containing TP and FP for KNN\n",
    "roc_data_knn"
   ]
  },
  {
   "cell_type": "code",
   "execution_count": null,
   "id": "5VDclBaPqbfA",
   "metadata": {
    "cell_id": "00059-518ae5b7-f423-4c3c-bfea-4ddd018c3609",
    "deepnote_cell_height": 270.5,
    "deepnote_cell_type": "code",
    "deepnote_output_heights": [
     155.5
    ],
    "deepnote_to_be_reexecuted": false,
    "execution_millis": 19,
    "execution_start": 1651856898183,
    "id": "5VDclBaPqbfA",
    "outputId": "39d7e9c6-545d-4983-badc-ece707c04207",
    "source_hash": "3bb5176a"
   },
   "outputs": [
    {
     "data": {
      "text/plain": [
       "{0.6060606060606061: 0.9642857142857143,\n",
       " 0.45454545454545453: 0.9642857142857143,\n",
       " 0.36363636363636365: 0.8928571428571429,\n",
       " 0.2727272727272727: 0.8214285714285714,\n",
       " 0.21212121212121213: 0.8214285714285714,\n",
       " 0.18181818181818182: 0.8214285714285714,\n",
       " 0.09090909090909091: 0.7142857142857143,\n",
       " 0.06060606060606061: 0.5357142857142857}"
      ]
     },
     "execution_count": 46,
     "metadata": {},
     "output_type": "execute_result"
    }
   ],
   "source": [
    "# Dictionary of ROC data containing TP and FP for LR\n",
    "roc_data_lr"
   ]
  },
  {
   "cell_type": "code",
   "execution_count": null,
   "id": "dPN6Um3AqbfA",
   "metadata": {
    "cell_id": "00060-a3902993-7799-4442-9783-7b9b1970bb7f",
    "deepnote_cell_height": 645.1875,
    "deepnote_cell_type": "code",
    "deepnote_output_heights": [
     21.1875,
     280
    ],
    "deepnote_to_be_reexecuted": false,
    "execution_millis": 440,
    "execution_start": 1651856898194,
    "id": "dPN6Um3AqbfA",
    "outputId": "831c7419-6188-4e3b-d08c-36fb4eba96e6",
    "source_hash": "55b8aad6"
   },
   "outputs": [
    {
     "data": {
      "text/plain": [
       "Text(0.5, 1.0, 'ROC curve for LR & KNN')"
      ]
     },
     "execution_count": 47,
     "metadata": {},
     "output_type": "execute_result"
    },
    {
     "data": {
      "image/png": "[encoded data removed]",
      "text/plain": [
       "<Figure size 432x288 with 1 Axes>"
      ]
     },
     "metadata": {
      "image/png": {
       "height": 278,
       "width": 386
      },
      "needs_background": "light"
     },
     "output_type": "display_data"
    }
   ],
   "source": [
    "# Plot both results of the above ROC functions into a single scatterplot\n",
    "\n",
    "sns.scatterplot(x = roc_data_lr.keys(), \n",
    "                y = roc_data_lr.values(), \n",
    "                label = 'LR')\n",
    "\n",
    "sns.scatterplot(x = roc_data_knn.keys(), \n",
    "                y = roc_data_knn.values(), \n",
    "                label = 'KNN')\n",
    "\n",
    "plt.xlabel('False Positive Rate')\n",
    "plt.ylabel('True Positive Rate')\n",
    "plt.title('ROC curve for LR & KNN')"
   ]
  },
  {
   "cell_type": "markdown",
   "id": "kvwA3dDnqbfA",
   "metadata": {
    "cell_id": "00061-583d6c78-0db8-4bdf-9231-619156bb3ca7",
    "deepnote_cell_height": 175.5625,
    "deepnote_cell_type": "markdown",
    "id": "kvwA3dDnqbfA"
   },
   "source": [
    "#### ROC Description\n",
    "\n",
    "* Our goal with ROC is to find least number of False Postive and more True Positive cases.\n",
    "\n",
    "* Comparing the multiple cutoffs, it looks like at (0.1, 0.75) predicts fewer False Postive cases and (0.5, 1.0) is the best to predict all correct True Postive cases in LR ROC curve.\n",
    "\n",
    "* The ROC graph clearly shows that Logistic Regression performs better than KNN."
   ]
  },
  {
   "cell_type": "markdown",
   "id": "DoE1vTtqqbfB",
   "metadata": {
    "cell_id": "00062-47448e48-540c-4312-af64-696e8bb58fb4",
    "deepnote_cell_height": 522.125,
    "deepnote_cell_type": "markdown",
    "id": "DoE1vTtqqbfB",
    "tags": []
   },
   "source": [
    "## Real life decision. \n",
    "\n",
    "\n",
    "### Case 1. \n",
    "- Correctly identifying a patient earns the hospital 20k. \n",
    "- Sending a false positive alarm costs the hospital $20k, \n",
    "- while not sending correct verdicts to patients with heart conditions hurts the hospital's long term profitability of 100k. \n",
    "\n",
    "### Case 2. \n",
    "- [Ceteris paribus](https://en.wikipedia.org/wiki/Ceteris_paribus) to Case 1, \n",
    "- what if the lawmaker increased the penalty of false positive alarm to 200k?"
   ]
  },
  {
   "cell_type": "markdown",
   "id": "vnlJHYibqbfB",
   "metadata": {
    "cell_id": "d6f2ace413f44975ac1680bdc947df6f",
    "deepnote_cell_height": 768.8125,
    "deepnote_cell_type": "markdown",
    "id": "vnlJHYibqbfB",
    "tags": []
   },
   "source": [
    "### Interpretation\n",
    "\n",
    "### Case 1. \n",
    "1. Correctly identifying a patient earns the hospital 20k.\n",
    "\n",
    "    - FORMULA: for All correct identifications = TP + TN \n",
    "    - EXPLANATION: all `TRUE` results, whether positive or negative are counted as 'correct indentifications,'  for positive cases obviously the hospital is earning money by treating patients, while for negative cases it is the cost saved by NOT needing to try to treat patients only to discover they are healthy and don't have the condition \n",
    "\n",
    "2. Sending a false positive alarm costs the hospital $20k, \n",
    "\n",
    "    - FORMULA: FP alarm penalty = FP \n",
    "    - EXPLANATION: similar to above case of a TN, the hospital has lost money by attempting to treat the patient only to discover they are healthy\n",
    "\n",
    "3. While not sending correct verdicts to patients with heart conditions hurts the hospital's long term profitability of 100k. \n",
    "\n",
    "    - FORMULA: FN 100K lawsuit = FN \n",
    "    - EXPLANATION: <font color='red'> NOT </font> correct diagnosis of a heart condition == FN\n",
    "    - We think this is really badly worded, but it should mean that this is a <font color='red'> FALSE NEGATIVE </font> diagnosis, and that the 100K penalty here is so high, because it is mimicking real life scenario of a patient being misdiagnosed, going home, and dying, and discovering this in the autopsy and the hospital getting sued\n",
    "\n",
    "#### ANALYSIS\n",
    "\n",
    "Optimal model = Logistic Regression\n",
    "\n",
    "Optimal cutoff = 0.1\n",
    "\n",
    "EXPLANATION:\n",
    "\n",
    "- The ROC graph clearly shows that ROC performs better than KNN.\n",
    "\n",
    "- For the cutoff, 0.1 is optimal since our goal is to find the least FP's and FN's, while maximizing our TP's and TN's.\n"
   ]
  },
  {
   "cell_type": "markdown",
   "id": "u779R0VpqbfB",
   "metadata": {
    "cell_id": "36dcb7b2b5fa48738973aeefe3b78388",
    "deepnote_cell_height": 54,
    "deepnote_cell_type": "markdown",
    "id": "u779R0VpqbfB",
    "tags": []
   },
   "source": [
    "#### CALCULATIONS FOR CASE 1"
   ]
  },
  {
   "cell_type": "code",
   "execution_count": null,
   "id": "VHCS6Rx8qbfB",
   "metadata": {
    "cell_id": "7f8f72b9e07744329f61bc3f56bafd20",
    "deepnote_cell_height": 250.125,
    "deepnote_cell_type": "code",
    "deepnote_output_heights": [
     117.125
    ],
    "deepnote_to_be_reexecuted": false,
    "execution_millis": 81448251,
    "execution_start": 1651856898693,
    "id": "VHCS6Rx8qbfB",
    "outputId": "765d5b1e-92b3-456f-f16e-80dc0e5a2963",
    "source_hash": "468050e4",
    "tags": []
   },
   "outputs": [
    {
     "data": {
      "text/plain": [
       "heart_disease  pred_true\n",
       "0              False        13\n",
       "               True         20\n",
       "1              False         1\n",
       "               True         27\n",
       "Name: heart_disease, dtype: int64"
      ]
     },
     "execution_count": 48,
     "metadata": {},
     "output_type": "execute_result"
    }
   ],
   "source": [
    "# CM for LR with 0.1 treshold\n",
    "CM_LR_1 = CM(df_test, 0.1, target, 'pred_prob_lr')\n",
    "CM_LR_1"
   ]
  },
  {
   "cell_type": "code",
   "execution_count": null,
   "id": "d4_Tz5_oqbfB",
   "metadata": {
    "cell_id": "fcd92be3a76a4708b2e42ed65ce5bf98",
    "deepnote_cell_height": 188.5625,
    "deepnote_cell_type": "code",
    "deepnote_to_be_reexecuted": false,
    "execution_millis": 81448234,
    "execution_start": 1651856898694,
    "id": "d4_Tz5_oqbfB",
    "outputId": "2f728e93-57f7-4e44-f040-dff71ef4b746",
    "source_hash": "825fc9d7",
    "tags": []
   },
   "outputs": [
    {
     "name": "stdout",
     "output_type": "stream",
     "text": [
      "TP = 27, FP = 1, TN = 20, FN = 13\n",
      "TN = 20, TP = 27 [Correctly identified positive and negative cases] = 20 + 27 = 47\n",
      "FN = 13, FP = 1 [Inorrectly identified positive and negative cases] = 13 + 1 = 14\n"
     ]
    }
   ],
   "source": [
    "# ANALYSIS - 0.1 THRESHOLD\n",
    "print(f\"TN = {TN}, TP = {TP} [Correctly identified positive and negative cases] = {TN} + {TP} = {TN + TP}\")\n",
    "print(f\"FN = {FN}, FP = {FP} [Inorrectly identified positive and negative cases] = {FN} + {FP} = {FN + FP}\")"
   ]
  },
  {
   "cell_type": "code",
   "execution_count": null,
   "id": "k7z96menqbfB",
   "metadata": {
    "cell_id": "a8964fb1e0a94a2b95b13ff1b066af58",
    "deepnote_cell_height": 397.5,
    "deepnote_cell_type": "code",
    "deepnote_to_be_reexecuted": false,
    "execution_millis": 81448229,
    "execution_start": 1651856898748,
    "id": "k7z96menqbfB",
    "outputId": "00e16487-a481-403a-f6f6-307151f31d50",
    "source_hash": "b65e27d9",
    "tags": []
   },
   "outputs": [
    {
     "name": "stdout",
     "output_type": "stream",
     "text": [
      "All correct identifications = TP + TN = 27 + 20 = 47 * 20k = 940k\n",
      "FP alarm penalty = FP = 1 * -20k = -20k\n",
      "FN 100K lawsuit = FN = 13 * -100k = -1300k\n",
      "~~~~~~~~~~~~~~~~~~~~~~~~~~~~~~~~~~~~~~~~~~~~~~~~~~~~~~~~~~~~\n",
      "Total profit = All correct + FP alarm penalty + FN 100k lawsuit\n",
      "Total profit = ((TP + TN) * 20) + (FP * -20) + (FN * -100) =\n",
      "Total profit = 940 + -20 + -1300 =\n",
      "Total profit = -380k\n"
     ]
    }
   ],
   "source": [
    "# CALCULATION\n",
    "print(f\"All correct identifications = TP + TN = {TP} + {TN} = {TP + TN} * 20k = {(TP + TN) * 20}k\")\n",
    "print(f\"FP alarm penalty = FP = {FP} * -20k = {FP * -20}k\")\n",
    "print(f\"FN 100K lawsuit = FN = {FN} * -100k = {FN * -100}k\")\n",
    "print(f\"~~~~~~~~~~~~~~~~~~~~~~~~~~~~~~~~~~~~~~~~~~~~~~~~~~~~~~~~~~~~\")\n",
    "print(f\"Total profit = All correct + FP alarm penalty + FN 100k lawsuit\")\n",
    "print(f\"Total profit = ((TP + TN) * 20) + (FP * -20) + (FN * -100) =\")\n",
    "print(f\"Total profit = {(TP + TN) * 20} + {FP * -20} + {FN * -100} =\")\n",
    "print(f\"Total profit = {((TP + TN) * 20) + (FP * -20) + (FN * -100)}k\")"
   ]
  },
  {
   "cell_type": "markdown",
   "id": "woHSQ0ZYqbfB",
   "metadata": {
    "cell_id": "67b75e24f49847998dc8b54cf843fb4b",
    "deepnote_cell_height": 296.125,
    "deepnote_cell_type": "markdown",
    "id": "woHSQ0ZYqbfB",
    "tags": []
   },
   "source": [
    "#### EXPLANATION\n",
    "\n",
    "Even with the optimal model (Logistic Regression) and optimal cutoff (0.1) our hospital's finances are going into the negative. Here it looks like `-$380,000` with a patient population of 61 patients in our testing dataset. \n",
    "\n",
    "We propose that the hospital should run this model by considering the following concept:\n",
    "- continue taking patients until approaching the breakeven point of `$0`\n",
    "- until other hospital revenue has caught up to at least `100k`\n",
    "- then you can resume taking patients for heart conditions with that buffer of `100k` in case of taking another FN 100K lawsuit penalty\n",
    "- run recursively (evaluating with each new patient)"
   ]
  },
  {
   "cell_type": "markdown",
   "id": "i1MYO5i5qbfB",
   "metadata": {
    "cell_id": "8d245fdc5b5947179f7a7cf4f91bc581",
    "deepnote_cell_height": 139.78125,
    "deepnote_cell_type": "markdown",
    "id": "i1MYO5i5qbfB",
    "tags": []
   },
   "source": [
    "### Case 2. \n",
    "- [Ceteris paribus](https://en.wikipedia.org/wiki/Ceteris_paribus) to Case 1, \n",
    "- what if the lawmaker increased the penalty of false positive alarm to 200k?\n",
    "\n"
   ]
  },
  {
   "cell_type": "markdown",
   "id": "S3DIgJSPqbfB",
   "metadata": {
    "cell_id": "601b1962e15d4908bc40abd78170959f",
    "deepnote_cell_height": 236.953125,
    "deepnote_cell_type": "markdown",
    "id": "S3DIgJSPqbfB",
    "tags": []
   },
   "source": [
    "#### ANALYSIS\n",
    "\n",
    "Optimal model = Logistic Regression\n",
    "\n",
    "Optimal cutoff = 0.1\n",
    "\n",
    "EXPLANATION:\n",
    "\n",
    "- The ROC graph clearly shows that ROC performs better than KNN.\n",
    "\n",
    "- For the cutoff, 0.1 is optimal since our goal is to find the least FP's and FN's, while maximizing our TP's and TN's."
   ]
  },
  {
   "cell_type": "code",
   "execution_count": null,
   "id": "oMSz13lGqbfB",
   "metadata": {
    "cell_id": "442640b388214e4b86ee2112ef461130",
    "deepnote_cell_height": 397.5,
    "deepnote_cell_type": "code",
    "deepnote_to_be_reexecuted": false,
    "execution_millis": 0,
    "execution_start": 1651858693476,
    "id": "oMSz13lGqbfB",
    "outputId": "cdda7edf-45af-44e8-f0c3-821168d1fecb",
    "source_hash": "6e054adb",
    "tags": []
   },
   "outputs": [
    {
     "name": "stdout",
     "output_type": "stream",
     "text": [
      "All correct identifications = TP + TN = 27 + 20 = 47 * 20k = 940k\n",
      "FP alarm penalty = FP = 1 * -200k = -200k\n",
      "FN 100K lawsuit = FN = 13 * -100k = -1300k\n",
      "~~~~~~~~~~~~~~~~~~~~~~~~~~~~~~~~~~~~~~~~~~~~~~~~~~~~~~~~~~~~\n",
      "Total profit = All correct + FP alarm penalty + FN 100k lawsuit\n",
      "Total profit = ((TP + TN) * 20) + (FP * -200) + (FN * -100) =\n",
      "Total profit = 940 + -200 + -1300 =\n",
      "Total profit = -560k\n"
     ]
    }
   ],
   "source": [
    "# CALCULATION\n",
    "print(f\"All correct identifications = TP + TN = {TP} + {TN} = {TP + TN} * 20k = {(TP + TN) * 20}k\")\n",
    "print(f\"FP alarm penalty = FP = {FP} * -200k = {FP * -200}k\")\n",
    "print(f\"FN 100K lawsuit = FN = {FN} * -100k = {FN * -100}k\")\n",
    "print(f\"~~~~~~~~~~~~~~~~~~~~~~~~~~~~~~~~~~~~~~~~~~~~~~~~~~~~~~~~~~~~\")\n",
    "print(f\"Total profit = All correct + FP alarm penalty + FN 100k lawsuit\")\n",
    "print(f\"Total profit = ((TP + TN) * 20) + (FP * -200) + (FN * -100) =\")\n",
    "print(f\"Total profit = {(TP + TN) * 20} + {FP * -200} + {FN * -100} =\")\n",
    "print(f\"Total profit = {((TP + TN) * 20) + (FP * -200) + (FN * -100)}k\")"
   ]
  },
  {
   "cell_type": "markdown",
   "id": "sCcFv0OVqbfB",
   "metadata": {
    "cell_id": "00066-c04e552b-d9a3-466c-a420-dd2b3c22f9d7",
    "deepnote_cell_height": 189.953125,
    "deepnote_cell_type": "markdown",
    "id": "sCcFv0OVqbfB",
    "owner_user_id": "860a0efb-9506-4a03-be16-84df263ab6b3"
   },
   "source": [
    "### CASE 2 INTERPRETATION\n",
    "\n",
    "Rerunning our calculations with the increased FP penalty to `200k` which is a 10 fold increase over the prior `20k` penalty, your hospital is going to easily be in the red all the time... You will never make a profit... You should probably shut down the hospital... But this may qualify you to become a [Critical Access Hospital (CAH)](https://www.ruralhealthinfo.org/topics/critical-access-hospitals) funded by the US Government. But probably the most realistic course of action here would be for the hospital to entirely stop the program at least for heart conditions, until either the AI has improved its accuracy or the penalties have been reduced."
   ]
  }
 ],
 "metadata": {
  "colab": {
   "name": "DATA602-Group5-Project4.ipynb",
   "provenance": []
  },
  "deepnote": {},
  "deepnote_execution_queue": [],
  "deepnote_notebook_id": "5c123dd4-34e0-440c-9113-75f80f5f2bdf",
  "kernelspec": {
   "display_name": "Python 3 (ipykernel)",
   "language": "python",
   "name": "python3"
  },
  "language_info": {
   "codemirror_mode": {
    "name": "ipython",
    "version": 3
   },
   "file_extension": ".py",
   "mimetype": "text/x-python",
   "name": "python",
   "nbconvert_exporter": "python",
   "pygments_lexer": "ipython3",
   "version": "3.9.7"
  }
 },
 "nbformat": 4,
 "nbformat_minor": 5
}
