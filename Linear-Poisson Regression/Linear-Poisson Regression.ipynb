{
 "cells": [
  {
   "cell_type": "markdown",
   "metadata": {
    "cell_id": "d1916ada-6131-4b23-ae2a-be9ce8ec30b4",
    "deepnote_cell_height": 383.390625,
    "deepnote_cell_type": "markdown",
    "id": "yr8PZDYMmdTA"
   },
   "source": [
    "# Linear Regression"
   ]
  },
  {
   "cell_type": "markdown",
   "metadata": {},
   "source": [
    "## Goal - Predict the reviews"
   ]
  },
  {
   "cell_type": "markdown",
   "metadata": {
    "cell_id": "00002-e8ece51f-d5d8-43aa-9157-cfbac7a87e63",
    "deepnote_cell_height": 231.984375,
    "deepnote_cell_type": "markdown",
    "id": "zJ-wVxCVmdTF"
   },
   "source": [
    "## Input\n",
    "Data set - [Las Vegas Strip](https://archive.ics.uci.edu/ml/datasets/Las+Vegas+Strip) "
   ]
  },
  {
   "cell_type": "code",
   "execution_count": null,
   "metadata": {
    "cell_id": "55176819-c151-4ffd-8a73-a017f96ba3a0",
    "deepnote_cell_height": 369,
    "deepnote_cell_type": "code",
    "deepnote_to_be_reexecuted": false,
    "execution_millis": 2238,
    "execution_start": 1648938888382,
    "id": "U64uu7m7mdTF",
    "source_hash": "74a7fb6c",
    "tags": []
   },
   "outputs": [],
   "source": [
    "# Import libraries\n",
    "\n",
    "import numpy as np\n",
    "import pandas as pd\n",
    "import sklearn as sk\n",
    "import seaborn as sns\n",
    "import random\n",
    "import matplotlib.pyplot as plt\n",
    "from sklearn.preprocessing import MinMaxScaler, OneHotEncoder, PolynomialFeatures\n",
    "from sklearn.linear_model import LinearRegression, HuberRegressor\n",
    "from sklearn import linear_model\n",
    "from sklearn.metrics import mean_absolute_error, mean_squared_error\n",
    "from sklearn.model_selection import train_test_split, KFold\n",
    "from sklearn.pipeline import Pipeline\n",
    "from sklearn.impute import SimpleImputer\n",
    "from sklearn.compose import ColumnTransformer\n",
    "from sklearn import metrics"
   ]
  },
  {
   "cell_type": "code",
   "execution_count": null,
   "metadata": {
    "cell_id": "503f56fb-4772-4579-81cb-e92924e3743e",
    "deepnote_cell_height": 135,
    "deepnote_cell_type": "code",
    "deepnote_to_be_reexecuted": false,
    "execution_millis": 0,
    "execution_start": 1648938890620,
    "id": "erSwsKZkmdTG",
    "source_hash": "ce48462e",
    "tags": []
   },
   "outputs": [],
   "source": [
    "# Import data from local \n",
    "\n",
    "data_link = 'LasVegasTripAdvisorReviews-Dataset.csv'\n",
    "df = pd.read_csv(data_link, sep = '\\;', engine='python')"
   ]
  },
  {
   "cell_type": "code",
   "execution_count": null,
   "metadata": {
    "cell_id": "56f4147f558f4e18903c87fcc5bb5928",
    "deepnote_cell_height": 516,
    "deepnote_cell_type": "code",
    "deepnote_to_be_reexecuted": false,
    "execution_millis": 132,
    "execution_start": 1648940470519,
    "id": "nfUFzNRamdTH",
    "outputId": "cd2d3880-8058-4e22-cc6b-163cfcf32d1a",
    "source_hash": "f88152d9",
    "tags": []
   },
   "outputs": [
    {
     "data": {
      "application/vnd.deepnote.dataframe.v3+json": {
       "column_count": 13,
       "columns": [
        {
         "dtype": "float64",
         "name": "Nr. reviews",
         "stats": {
          "histogram": [
           {
            "bin_end": 78.4,
            "bin_start": 1,
            "count": 6
           },
           {
            "bin_end": 155.8,
            "bin_start": 78.4,
            "count": 0
           },
           {
            "bin_end": 233.20000000000002,
            "bin_start": 155.8,
            "count": 0
           },
           {
            "bin_end": 310.6,
            "bin_start": 233.20000000000002,
            "count": 0
           },
           {
            "bin_end": 388,
            "bin_start": 310.6,
            "count": 0
           },
           {
            "bin_end": 465.40000000000003,
            "bin_start": 388,
            "count": 0
           },
           {
            "bin_end": 542.8000000000001,
            "bin_start": 465.40000000000003,
            "count": 1
           },
           {
            "bin_end": 620.2,
            "bin_start": 542.8000000000001,
            "count": 0
           },
           {
            "bin_end": 697.6,
            "bin_start": 620.2,
            "count": 0
           },
           {
            "bin_end": 775,
            "bin_start": 697.6,
            "count": 1
           }
          ],
          "max": "775.0",
          "min": "1.0",
          "nan_count": 0,
          "unique_count": 8
         }
        },
        {
         "dtype": "float64",
         "name": "Nr. hotel reviews",
         "stats": {
          "histogram": [
           {
            "bin_end": 50.4,
            "bin_start": 0,
            "count": 6
           },
           {
            "bin_end": 100.8,
            "bin_start": 50.4,
            "count": 0
           },
           {
            "bin_end": 151.2,
            "bin_start": 100.8,
            "count": 0
           },
           {
            "bin_end": 201.6,
            "bin_start": 151.2,
            "count": 0
           },
           {
            "bin_end": 252,
            "bin_start": 201.6,
            "count": 0
           },
           {
            "bin_end": 302.4,
            "bin_start": 252,
            "count": 1
           },
           {
            "bin_end": 352.8,
            "bin_start": 302.4,
            "count": 0
           },
           {
            "bin_end": 403.2,
            "bin_start": 352.8,
            "count": 0
           },
           {
            "bin_end": 453.59999999999997,
            "bin_start": 403.2,
            "count": 0
           },
           {
            "bin_end": 504,
            "bin_start": 453.59999999999997,
            "count": 1
           }
          ],
          "max": "504.0",
          "min": "0.0",
          "nan_count": 0,
          "unique_count": 8
         }
        },
        {
         "dtype": "float64",
         "name": "Helpful votes",
         "stats": {
          "histogram": [
           {
            "bin_end": 50.4,
            "bin_start": 0,
            "count": 6
           },
           {
            "bin_end": 100.8,
            "bin_start": 50.4,
            "count": 0
           },
           {
            "bin_end": 151.2,
            "bin_start": 100.8,
            "count": 0
           },
           {
            "bin_end": 201.6,
            "bin_start": 151.2,
            "count": 0
           },
           {
            "bin_end": 252,
            "bin_start": 201.6,
            "count": 0
           },
           {
            "bin_end": 302.4,
            "bin_start": 252,
            "count": 0
           },
           {
            "bin_end": 352.8,
            "bin_start": 302.4,
            "count": 0
           },
           {
            "bin_end": 403.2,
            "bin_start": 352.8,
            "count": 1
           },
           {
            "bin_end": 453.59999999999997,
            "bin_start": 403.2,
            "count": 0
           },
           {
            "bin_end": 504,
            "bin_start": 453.59999999999997,
            "count": 1
           }
          ],
          "max": "504.0",
          "min": "0.0",
          "nan_count": 0,
          "unique_count": 8
         }
        },
        {
         "dtype": "float64",
         "name": "Score",
         "stats": {
          "histogram": [
           {
            "bin_end": 51.3,
            "bin_start": 1,
            "count": 7
           },
           {
            "bin_end": 101.6,
            "bin_start": 51.3,
            "count": 0
           },
           {
            "bin_end": 151.89999999999998,
            "bin_start": 101.6,
            "count": 0
           },
           {
            "bin_end": 202.2,
            "bin_start": 151.89999999999998,
            "count": 0
           },
           {
            "bin_end": 252.5,
            "bin_start": 202.2,
            "count": 0
           },
           {
            "bin_end": 302.79999999999995,
            "bin_start": 252.5,
            "count": 0
           },
           {
            "bin_end": 353.09999999999997,
            "bin_start": 302.79999999999995,
            "count": 0
           },
           {
            "bin_end": 403.4,
            "bin_start": 353.09999999999997,
            "count": 0
           },
           {
            "bin_end": 453.7,
            "bin_start": 403.4,
            "count": 0
           },
           {
            "bin_end": 504,
            "bin_start": 453.7,
            "count": 1
           }
          ],
          "max": "504.0",
          "min": "1.0",
          "nan_count": 0,
          "unique_count": 6
         }
        },
        {
         "dtype": "float64",
         "name": "Pool",
         "stats": {
          "histogram": [
           {
            "bin_end": 50.4,
            "bin_start": 0,
            "count": 7
           },
           {
            "bin_end": 100.8,
            "bin_start": 50.4,
            "count": 0
           },
           {
            "bin_end": 151.2,
            "bin_start": 100.8,
            "count": 0
           },
           {
            "bin_end": 201.6,
            "bin_start": 151.2,
            "count": 0
           },
           {
            "bin_end": 252,
            "bin_start": 201.6,
            "count": 0
           },
           {
            "bin_end": 302.4,
            "bin_start": 252,
            "count": 0
           },
           {
            "bin_end": 352.8,
            "bin_start": 302.4,
            "count": 0
           },
           {
            "bin_end": 403.2,
            "bin_start": 352.8,
            "count": 0
           },
           {
            "bin_end": 453.59999999999997,
            "bin_start": 403.2,
            "count": 0
           },
           {
            "bin_end": 504,
            "bin_start": 453.59999999999997,
            "count": 1
           }
          ],
          "max": "504.0",
          "min": "0.0",
          "nan_count": 0,
          "unique_count": 3
         }
        },
        {
         "dtype": "float64",
         "name": "Gym",
         "stats": {
          "histogram": [
           {
            "bin_end": 50.4,
            "bin_start": 0,
            "count": 7
           },
           {
            "bin_end": 100.8,
            "bin_start": 50.4,
            "count": 0
           },
           {
            "bin_end": 151.2,
            "bin_start": 100.8,
            "count": 0
           },
           {
            "bin_end": 201.6,
            "bin_start": 151.2,
            "count": 0
           },
           {
            "bin_end": 252,
            "bin_start": 201.6,
            "count": 0
           },
           {
            "bin_end": 302.4,
            "bin_start": 252,
            "count": 0
           },
           {
            "bin_end": 352.8,
            "bin_start": 302.4,
            "count": 0
           },
           {
            "bin_end": 403.2,
            "bin_start": 352.8,
            "count": 0
           },
           {
            "bin_end": 453.59999999999997,
            "bin_start": 403.2,
            "count": 0
           },
           {
            "bin_end": 504,
            "bin_start": 453.59999999999997,
            "count": 1
           }
          ],
          "max": "504.0",
          "min": "0.0",
          "nan_count": 0,
          "unique_count": 3
         }
        },
        {
         "dtype": "float64",
         "name": "Tennis court",
         "stats": {
          "histogram": [
           {
            "bin_end": 50.4,
            "bin_start": 0,
            "count": 7
           },
           {
            "bin_end": 100.8,
            "bin_start": 50.4,
            "count": 0
           },
           {
            "bin_end": 151.2,
            "bin_start": 100.8,
            "count": 0
           },
           {
            "bin_end": 201.6,
            "bin_start": 151.2,
            "count": 0
           },
           {
            "bin_end": 252,
            "bin_start": 201.6,
            "count": 0
           },
           {
            "bin_end": 302.4,
            "bin_start": 252,
            "count": 0
           },
           {
            "bin_end": 352.8,
            "bin_start": 302.4,
            "count": 0
           },
           {
            "bin_end": 403.2,
            "bin_start": 352.8,
            "count": 0
           },
           {
            "bin_end": 453.59999999999997,
            "bin_start": 403.2,
            "count": 0
           },
           {
            "bin_end": 504,
            "bin_start": 453.59999999999997,
            "count": 1
           }
          ],
          "max": "504.0",
          "min": "0.0",
          "nan_count": 0,
          "unique_count": 3
         }
        },
        {
         "dtype": "float64",
         "name": "Spa",
         "stats": {
          "histogram": [
           {
            "bin_end": 50.4,
            "bin_start": 0,
            "count": 7
           },
           {
            "bin_end": 100.8,
            "bin_start": 50.4,
            "count": 0
           },
           {
            "bin_end": 151.2,
            "bin_start": 100.8,
            "count": 0
           },
           {
            "bin_end": 201.6,
            "bin_start": 151.2,
            "count": 0
           },
           {
            "bin_end": 252,
            "bin_start": 201.6,
            "count": 0
           },
           {
            "bin_end": 302.4,
            "bin_start": 252,
            "count": 0
           },
           {
            "bin_end": 352.8,
            "bin_start": 302.4,
            "count": 0
           },
           {
            "bin_end": 403.2,
            "bin_start": 352.8,
            "count": 0
           },
           {
            "bin_end": 453.59999999999997,
            "bin_start": 403.2,
            "count": 0
           },
           {
            "bin_end": 504,
            "bin_start": 453.59999999999997,
            "count": 1
           }
          ],
          "max": "504.0",
          "min": "0.0",
          "nan_count": 0,
          "unique_count": 3
         }
        },
        {
         "dtype": "float64",
         "name": "Casino",
         "stats": {
          "histogram": [
           {
            "bin_end": 50.4,
            "bin_start": 0,
            "count": 7
           },
           {
            "bin_end": 100.8,
            "bin_start": 50.4,
            "count": 0
           },
           {
            "bin_end": 151.2,
            "bin_start": 100.8,
            "count": 0
           },
           {
            "bin_end": 201.6,
            "bin_start": 151.2,
            "count": 0
           },
           {
            "bin_end": 252,
            "bin_start": 201.6,
            "count": 0
           },
           {
            "bin_end": 302.4,
            "bin_start": 252,
            "count": 0
           },
           {
            "bin_end": 352.8,
            "bin_start": 302.4,
            "count": 0
           },
           {
            "bin_end": 403.2,
            "bin_start": 352.8,
            "count": 0
           },
           {
            "bin_end": 453.59999999999997,
            "bin_start": 403.2,
            "count": 0
           },
           {
            "bin_end": 504,
            "bin_start": 453.59999999999997,
            "count": 1
           }
          ],
          "max": "504.0",
          "min": "0.0",
          "nan_count": 0,
          "unique_count": 3
         }
        },
        {
         "dtype": "float64",
         "name": "Free internet",
         "stats": {
          "histogram": [
           {
            "bin_end": 50.4,
            "bin_start": 0,
            "count": 7
           },
           {
            "bin_end": 100.8,
            "bin_start": 50.4,
            "count": 0
           },
           {
            "bin_end": 151.2,
            "bin_start": 100.8,
            "count": 0
           },
           {
            "bin_end": 201.6,
            "bin_start": 151.2,
            "count": 0
           },
           {
            "bin_end": 252,
            "bin_start": 201.6,
            "count": 0
           },
           {
            "bin_end": 302.4,
            "bin_start": 252,
            "count": 0
           },
           {
            "bin_end": 352.8,
            "bin_start": 302.4,
            "count": 0
           },
           {
            "bin_end": 403.2,
            "bin_start": 352.8,
            "count": 0
           },
           {
            "bin_end": 453.59999999999997,
            "bin_start": 403.2,
            "count": 0
           },
           {
            "bin_end": 504,
            "bin_start": 453.59999999999997,
            "count": 1
           }
          ],
          "max": "504.0",
          "min": "0.0",
          "nan_count": 0,
          "unique_count": 3
         }
        },
        {
         "dtype": "float64",
         "name": "Hotel stars",
         "stats": {
          "histogram": [
           {
            "bin_end": 51.09703799826907,
            "bin_start": 0.7744866647434151,
            "count": 7
           },
           {
            "bin_end": 101.41958933179474,
            "bin_start": 51.09703799826907,
            "count": 0
           },
           {
            "bin_end": 151.7421406653204,
            "bin_start": 101.41958933179474,
            "count": 0
           },
           {
            "bin_end": 202.06469199884606,
            "bin_start": 151.7421406653204,
            "count": 0
           },
           {
            "bin_end": 252.38724333237172,
            "bin_start": 202.06469199884606,
            "count": 0
           },
           {
            "bin_end": 302.70979466589733,
            "bin_start": 252.38724333237172,
            "count": 0
           },
           {
            "bin_end": 353.032345999423,
            "bin_start": 302.70979466589733,
            "count": 0
           },
           {
            "bin_end": 403.35489733294867,
            "bin_start": 353.032345999423,
            "count": 0
           },
           {
            "bin_end": 453.67744866647433,
            "bin_start": 403.35489733294867,
            "count": 0
           },
           {
            "bin_end": 504,
            "bin_start": 453.67744866647433,
            "count": 1
           }
          ],
          "max": "504.0",
          "min": "0.7744866647434151",
          "nan_count": 0,
          "unique_count": 7
         }
        },
        {
         "dtype": "float64",
         "name": "Nr. rooms",
         "stats": {
          "histogram": [
           {
            "bin_end": 571.9,
            "bin_start": 188,
            "count": 2
           },
           {
            "bin_end": 955.8,
            "bin_start": 571.9,
            "count": 1
           },
           {
            "bin_end": 1339.6999999999998,
            "bin_start": 955.8,
            "count": 1
           },
           {
            "bin_end": 1723.6,
            "bin_start": 1339.6999999999998,
            "count": 0
           },
           {
            "bin_end": 2107.5,
            "bin_start": 1723.6,
            "count": 0
           },
           {
            "bin_end": 2491.3999999999996,
            "bin_start": 2107.5,
            "count": 1
           },
           {
            "bin_end": 2875.2999999999997,
            "bin_start": 2491.3999999999996,
            "count": 1
           },
           {
            "bin_end": 3259.2,
            "bin_start": 2875.2999999999997,
            "count": 1
           },
           {
            "bin_end": 3643.1,
            "bin_start": 3259.2,
            "count": 0
           },
           {
            "bin_end": 4027,
            "bin_start": 3643.1,
            "count": 1
           }
          ],
          "max": "4027.0",
          "min": "188.0",
          "nan_count": 0,
          "unique_count": 8
         }
        },
        {
         "dtype": "float64",
         "name": "Member years",
         "stats": {
          "histogram": [
           {
            "bin_end": 50.4,
            "bin_start": 0,
            "count": 7
           },
           {
            "bin_end": 100.8,
            "bin_start": 50.4,
            "count": 0
           },
           {
            "bin_end": 151.2,
            "bin_start": 100.8,
            "count": 0
           },
           {
            "bin_end": 201.6,
            "bin_start": 151.2,
            "count": 0
           },
           {
            "bin_end": 252,
            "bin_start": 201.6,
            "count": 0
           },
           {
            "bin_end": 302.4,
            "bin_start": 252,
            "count": 0
           },
           {
            "bin_end": 352.8,
            "bin_start": 302.4,
            "count": 0
           },
           {
            "bin_end": 403.2,
            "bin_start": 352.8,
            "count": 0
           },
           {
            "bin_end": 453.59999999999997,
            "bin_start": 403.2,
            "count": 0
           },
           {
            "bin_end": 504,
            "bin_start": 453.59999999999997,
            "count": 1
           }
          ],
          "max": "504.0",
          "min": "0.0",
          "nan_count": 0,
          "unique_count": 8
         }
        },
        {
         "dtype": "object",
         "name": "_deepnote_index_column"
        }
       ],
       "row_count": 8,
       "rows": [
        {
         "Casino": 504,
         "Free internet": 504,
         "Gym": 504,
         "Helpful votes": 504,
         "Hotel stars": 504,
         "Member years": 504,
         "Nr. hotel reviews": 504,
         "Nr. reviews": 504,
         "Nr. rooms": 504,
         "Pool": 504,
         "Score": 504,
         "Spa": 504,
         "Tennis court": 504,
         "_deepnote_index_column": "count"
        },
        {
         "Casino": 1,
         "Free internet": 1,
         "Gym": 1,
         "Helpful votes": 31.751984126984127,
         "Hotel stars": 4.142857142857143,
         "Member years": 4.357142857142857,
         "Nr. hotel reviews": 16.023809523809526,
         "Nr. reviews": 48.13095238095238,
         "Nr. rooms": 2196.3809523809523,
         "Pool": 1,
         "Score": 4.123015873015873,
         "Spa": 1,
         "Tennis court": 1,
         "_deepnote_index_column": "mean"
        },
        {
         "Casino": 0,
         "Free internet": 0,
         "Gym": 0,
         "Helpful votes": 48.520783151613195,
         "Hotel stars": 0.7744866647434151,
         "Member years": 2.9264388436451227,
         "Nr. hotel reviews": 23.95795332258135,
         "Nr. reviews": 74.99642611952589,
         "Nr. rooms": 1285.4768072518427,
         "Pool": 0,
         "Score": 1.007302379251907,
         "Spa": 0,
         "Tennis court": 0,
         "_deepnote_index_column": "std"
        },
        {
         "Casino": 1,
         "Free internet": 1,
         "Gym": 1,
         "Helpful votes": 0,
         "Hotel stars": 3,
         "Member years": 0,
         "Nr. hotel reviews": 0,
         "Nr. reviews": 1,
         "Nr. rooms": 188,
         "Pool": 1,
         "Score": 1,
         "Spa": 1,
         "Tennis court": 1,
         "_deepnote_index_column": "min"
        },
        {
         "Casino": 1,
         "Free internet": 1,
         "Gym": 1,
         "Helpful votes": 8,
         "Hotel stars": 3.5,
         "Member years": 2,
         "Nr. hotel reviews": 5,
         "Nr. reviews": 12,
         "Nr. rooms": 826,
         "Pool": 1,
         "Score": 4,
         "Spa": 1,
         "Tennis court": 1,
         "_deepnote_index_column": "25%"
        },
        {
         "Casino": 1,
         "Free internet": 1,
         "Gym": 1,
         "Helpful votes": 16,
         "Hotel stars": 4,
         "Member years": 4,
         "Nr. hotel reviews": 9,
         "Nr. reviews": 23.5,
         "Nr. rooms": 2700,
         "Pool": 1,
         "Score": 4,
         "Spa": 1,
         "Tennis court": 1,
         "_deepnote_index_column": "50%"
        },
        {
         "Casino": 1,
         "Free internet": 1,
         "Gym": 1,
         "Helpful votes": 35,
         "Hotel stars": 5,
         "Member years": 6,
         "Nr. hotel reviews": 18,
         "Nr. reviews": 54.25,
         "Nr. rooms": 3025,
         "Pool": 1,
         "Score": 5,
         "Spa": 1,
         "Tennis court": 1,
         "_deepnote_index_column": "75%"
        },
        {
         "Casino": 1,
         "Free internet": 1,
         "Gym": 1,
         "Helpful votes": 365,
         "Hotel stars": 5,
         "Member years": 13,
         "Nr. hotel reviews": 263,
         "Nr. reviews": 775,
         "Nr. rooms": 4027,
         "Pool": 1,
         "Score": 5,
         "Spa": 1,
         "Tennis court": 1,
         "_deepnote_index_column": "max"
        }
       ]
      },
      "text/html": [
       "<div>\n",
       "<style scoped>\n",
       "    .dataframe tbody tr th:only-of-type {\n",
       "        vertical-align: middle;\n",
       "    }\n",
       "\n",
       "    .dataframe tbody tr th {\n",
       "        vertical-align: top;\n",
       "    }\n",
       "\n",
       "    .dataframe thead th {\n",
       "        text-align: right;\n",
       "    }\n",
       "</style>\n",
       "<table border=\"1\" class=\"dataframe\">\n",
       "  <thead>\n",
       "    <tr style=\"text-align: right;\">\n",
       "      <th></th>\n",
       "      <th>Nr. reviews</th>\n",
       "      <th>Nr. hotel reviews</th>\n",
       "      <th>Helpful votes</th>\n",
       "      <th>Score</th>\n",
       "      <th>Pool</th>\n",
       "      <th>Gym</th>\n",
       "      <th>Tennis court</th>\n",
       "      <th>Spa</th>\n",
       "      <th>Casino</th>\n",
       "      <th>Free internet</th>\n",
       "      <th>Hotel stars</th>\n",
       "      <th>Nr. rooms</th>\n",
       "      <th>Member years</th>\n",
       "    </tr>\n",
       "  </thead>\n",
       "  <tbody>\n",
       "    <tr>\n",
       "      <th>count</th>\n",
       "      <td>504.000000</td>\n",
       "      <td>504.000000</td>\n",
       "      <td>504.000000</td>\n",
       "      <td>504.000000</td>\n",
       "      <td>504.0</td>\n",
       "      <td>504.0</td>\n",
       "      <td>504.0</td>\n",
       "      <td>504.0</td>\n",
       "      <td>504.0</td>\n",
       "      <td>504.0</td>\n",
       "      <td>504.000000</td>\n",
       "      <td>504.000000</td>\n",
       "      <td>504.000000</td>\n",
       "    </tr>\n",
       "    <tr>\n",
       "      <th>mean</th>\n",
       "      <td>48.130952</td>\n",
       "      <td>16.023810</td>\n",
       "      <td>31.751984</td>\n",
       "      <td>4.123016</td>\n",
       "      <td>1.0</td>\n",
       "      <td>1.0</td>\n",
       "      <td>1.0</td>\n",
       "      <td>1.0</td>\n",
       "      <td>1.0</td>\n",
       "      <td>1.0</td>\n",
       "      <td>4.142857</td>\n",
       "      <td>2196.380952</td>\n",
       "      <td>4.357143</td>\n",
       "    </tr>\n",
       "    <tr>\n",
       "      <th>std</th>\n",
       "      <td>74.996426</td>\n",
       "      <td>23.957953</td>\n",
       "      <td>48.520783</td>\n",
       "      <td>1.007302</td>\n",
       "      <td>0.0</td>\n",
       "      <td>0.0</td>\n",
       "      <td>0.0</td>\n",
       "      <td>0.0</td>\n",
       "      <td>0.0</td>\n",
       "      <td>0.0</td>\n",
       "      <td>0.774487</td>\n",
       "      <td>1285.476807</td>\n",
       "      <td>2.926439</td>\n",
       "    </tr>\n",
       "    <tr>\n",
       "      <th>min</th>\n",
       "      <td>1.000000</td>\n",
       "      <td>0.000000</td>\n",
       "      <td>0.000000</td>\n",
       "      <td>1.000000</td>\n",
       "      <td>1.0</td>\n",
       "      <td>1.0</td>\n",
       "      <td>1.0</td>\n",
       "      <td>1.0</td>\n",
       "      <td>1.0</td>\n",
       "      <td>1.0</td>\n",
       "      <td>3.000000</td>\n",
       "      <td>188.000000</td>\n",
       "      <td>0.000000</td>\n",
       "    </tr>\n",
       "    <tr>\n",
       "      <th>25%</th>\n",
       "      <td>12.000000</td>\n",
       "      <td>5.000000</td>\n",
       "      <td>8.000000</td>\n",
       "      <td>4.000000</td>\n",
       "      <td>1.0</td>\n",
       "      <td>1.0</td>\n",
       "      <td>1.0</td>\n",
       "      <td>1.0</td>\n",
       "      <td>1.0</td>\n",
       "      <td>1.0</td>\n",
       "      <td>3.500000</td>\n",
       "      <td>826.000000</td>\n",
       "      <td>2.000000</td>\n",
       "    </tr>\n",
       "    <tr>\n",
       "      <th>50%</th>\n",
       "      <td>23.500000</td>\n",
       "      <td>9.000000</td>\n",
       "      <td>16.000000</td>\n",
       "      <td>4.000000</td>\n",
       "      <td>1.0</td>\n",
       "      <td>1.0</td>\n",
       "      <td>1.0</td>\n",
       "      <td>1.0</td>\n",
       "      <td>1.0</td>\n",
       "      <td>1.0</td>\n",
       "      <td>4.000000</td>\n",
       "      <td>2700.000000</td>\n",
       "      <td>4.000000</td>\n",
       "    </tr>\n",
       "    <tr>\n",
       "      <th>75%</th>\n",
       "      <td>54.250000</td>\n",
       "      <td>18.000000</td>\n",
       "      <td>35.000000</td>\n",
       "      <td>5.000000</td>\n",
       "      <td>1.0</td>\n",
       "      <td>1.0</td>\n",
       "      <td>1.0</td>\n",
       "      <td>1.0</td>\n",
       "      <td>1.0</td>\n",
       "      <td>1.0</td>\n",
       "      <td>5.000000</td>\n",
       "      <td>3025.000000</td>\n",
       "      <td>6.000000</td>\n",
       "    </tr>\n",
       "    <tr>\n",
       "      <th>max</th>\n",
       "      <td>775.000000</td>\n",
       "      <td>263.000000</td>\n",
       "      <td>365.000000</td>\n",
       "      <td>5.000000</td>\n",
       "      <td>1.0</td>\n",
       "      <td>1.0</td>\n",
       "      <td>1.0</td>\n",
       "      <td>1.0</td>\n",
       "      <td>1.0</td>\n",
       "      <td>1.0</td>\n",
       "      <td>5.000000</td>\n",
       "      <td>4027.000000</td>\n",
       "      <td>13.000000</td>\n",
       "    </tr>\n",
       "  </tbody>\n",
       "</table>\n",
       "</div>"
      ],
      "text/plain": [
       "       Nr. reviews  Nr. hotel reviews  Helpful votes       Score   Pool  \\\n",
       "count   504.000000         504.000000     504.000000  504.000000  504.0   \n",
       "mean     48.130952          16.023810      31.751984    4.123016    1.0   \n",
       "std      74.996426          23.957953      48.520783    1.007302    0.0   \n",
       "min       1.000000           0.000000       0.000000    1.000000    1.0   \n",
       "25%      12.000000           5.000000       8.000000    4.000000    1.0   \n",
       "50%      23.500000           9.000000      16.000000    4.000000    1.0   \n",
       "75%      54.250000          18.000000      35.000000    5.000000    1.0   \n",
       "max     775.000000         263.000000     365.000000    5.000000    1.0   \n",
       "\n",
       "         Gym  Tennis court    Spa  Casino  Free internet  Hotel stars  \\\n",
       "count  504.0         504.0  504.0   504.0          504.0   504.000000   \n",
       "mean     1.0           1.0    1.0     1.0            1.0     4.142857   \n",
       "std      0.0           0.0    0.0     0.0            0.0     0.774487   \n",
       "min      1.0           1.0    1.0     1.0            1.0     3.000000   \n",
       "25%      1.0           1.0    1.0     1.0            1.0     3.500000   \n",
       "50%      1.0           1.0    1.0     1.0            1.0     4.000000   \n",
       "75%      1.0           1.0    1.0     1.0            1.0     5.000000   \n",
       "max      1.0           1.0    1.0     1.0            1.0     5.000000   \n",
       "\n",
       "         Nr. rooms  Member years  \n",
       "count   504.000000    504.000000  \n",
       "mean   2196.380952      4.357143  \n",
       "std    1285.476807      2.926439  \n",
       "min     188.000000      0.000000  \n",
       "25%     826.000000      2.000000  \n",
       "50%    2700.000000      4.000000  \n",
       "75%    3025.000000      6.000000  \n",
       "max    4027.000000     13.000000  "
      ]
     },
     "execution_count": 38,
     "metadata": {},
     "output_type": "execute_result"
    }
   ],
   "source": [
    "df.describe()"
   ]
  },
  {
   "cell_type": "markdown",
   "metadata": {
    "cell_id": "2782e2e55ac748199e71d49de0dfc669",
    "deepnote_cell_height": 268.390625,
    "deepnote_cell_type": "markdown",
    "id": "zFKvfYqVmdTJ",
    "tags": []
   },
   "source": [
    "## Summary:\n",
    "\n",
    "- We have a dataset of 504 rows by 20 cols\n",
    "- Originally most of the datatypes were Python 'objects' and needed to be converted to the correct categorical or integer types\n",
    "- Anomalies discovered in this dataset in both 'Hotel stars' and 'Member years' columns. They are either imputed or corrected through the methodologies most fitted.  \n",
    "    \n",
    "    o Hotel stars: had periods (.) instead of commas (,)\n",
    "    \n",
    "    o Member years: had a negative number for a counting up positive value\n",
    "\n",
    "\n",
    "\n",
    "\n"
   ]
  },
  {
   "cell_type": "code",
   "execution_count": null,
   "metadata": {
    "cell_id": "8d0fac9bd63340e3b580f4e79f2f22c0",
    "deepnote_cell_height": 538.09375,
    "deepnote_cell_type": "code",
    "deepnote_output_heights": [
     405.09375
    ],
    "deepnote_to_be_reexecuted": false,
    "execution_millis": 10,
    "execution_start": 1648938890621,
    "id": "3_1cG7tYmdTJ",
    "outputId": "40807d69-79b7-4634-b59e-61abe516df5e",
    "source_hash": "e6b74fbf",
    "tags": []
   },
   "outputs": [
    {
     "data": {
      "text/plain": [
       "User country         False\n",
       "Nr. reviews          False\n",
       "Nr. hotel reviews    False\n",
       "Helpful votes        False\n",
       "Score                False\n",
       "Period of stay       False\n",
       "Traveler type        False\n",
       "Pool                 False\n",
       "Gym                  False\n",
       "Tennis court         False\n",
       "Spa                  False\n",
       "Casino               False\n",
       "Free internet        False\n",
       "Hotel name           False\n",
       "Hotel stars          False\n",
       "Nr. rooms            False\n",
       "User continent       False\n",
       "Member years         False\n",
       "Review month         False\n",
       "Review weekday       False\n",
       "dtype: bool"
      ]
     },
     "execution_count": 3,
     "metadata": {},
     "output_type": "execute_result"
    }
   ],
   "source": [
    "# Check for any missing values\n",
    "\n",
    "df.isna().any()"
   ]
  },
  {
   "cell_type": "code",
   "execution_count": null,
   "metadata": {
    "cell_id": "25710d25b6324fcfb8f6e9cf086cb4f7",
    "deepnote_cell_height": 538.09375,
    "deepnote_cell_type": "code",
    "deepnote_output_heights": [
     405.09375
    ],
    "deepnote_to_be_reexecuted": false,
    "execution_millis": 11,
    "execution_start": 1648938890621,
    "id": "wMhcFfN7mdTK",
    "outputId": "0bc910e9-627e-4de8-9575-6f36ccbdb273",
    "source_hash": "c75e67dd",
    "tags": []
   },
   "outputs": [
    {
     "data": {
      "text/plain": [
       "User country         object\n",
       "Nr. reviews           int64\n",
       "Nr. hotel reviews     int64\n",
       "Helpful votes         int64\n",
       "Score                 int64\n",
       "Period of stay       object\n",
       "Traveler type        object\n",
       "Pool                 object\n",
       "Gym                  object\n",
       "Tennis court         object\n",
       "Spa                  object\n",
       "Casino               object\n",
       "Free internet        object\n",
       "Hotel name           object\n",
       "Hotel stars          object\n",
       "Nr. rooms             int64\n",
       "User continent       object\n",
       "Member years          int64\n",
       "Review month         object\n",
       "Review weekday       object\n",
       "dtype: object"
      ]
     },
     "execution_count": 4,
     "metadata": {},
     "output_type": "execute_result"
    }
   ],
   "source": [
    "# Check the dtypes\n",
    "\n",
    "df.dtypes"
   ]
  },
  {
   "cell_type": "code",
   "execution_count": null,
   "metadata": {
    "cell_id": "b60d0e3f7c0c4b1fb4e391daa4bf792f",
    "deepnote_cell_height": 243,
    "deepnote_cell_type": "code",
    "deepnote_to_be_reexecuted": false,
    "execution_millis": 0,
    "execution_start": 1648938890633,
    "id": "QY7Zue9DmdTK",
    "source_hash": "37e8c03d",
    "tags": []
   },
   "outputs": [],
   "source": [
    "# Convert the dtypes to match with the data\n",
    "\n",
    "# Change bool values to integers\n",
    "list_to_booleans = ['Pool', 'Gym', 'Tennis court', 'Spa', 'Casino', 'Free internet']\n",
    "\n",
    "# Dtype conversions\n",
    "df[list_to_booleans] = df[list_to_booleans].astype(bool).astype('int64')\n",
    "\n",
    "# Hotel Stars have values like 4,5 which is converted to 4.5 for further analysis\n",
    "df['Hotel stars'] = df['Hotel stars'].str.replace(',', '.').astype('float64')"
   ]
  },
  {
   "cell_type": "code",
   "execution_count": null,
   "metadata": {
    "cell_id": "78bb0af654eb4e84ad0248851abd8011",
    "deepnote_cell_height": 873.421875,
    "deepnote_cell_type": "code",
    "deepnote_to_be_reexecuted": false,
    "execution_millis": 28,
    "execution_start": 1648938890633,
    "id": "n83ENsYCmdTL",
    "outputId": "b821a416-b966-4e67-a8fa-6482ea51120e",
    "source_hash": "36fd9175",
    "tags": []
   },
   "outputs": [
    {
     "name": "stdout",
     "output_type": "stream",
     "text": [
      "col's detected =\n",
      "Nr. reviews\n",
      "Nr. hotel reviews\n",
      "Helpful votes\n",
      "Score\n",
      "Pool\n",
      "Gym\n",
      "Tennis court\n",
      "Spa\n",
      "Casino\n",
      "Free internet\n",
      "Hotel stars\n",
      "Nr. rooms\n",
      "Member years\n",
      "negative_number_index = [75]\n"
     ]
    }
   ],
   "source": [
    "def number_negative(df):\n",
    "    \"\"\"\"\n",
    "    Loops thru every numeric col to check for negative #'s\n",
    "    There is definitely 1 detected in the Member Years col\n",
    "    \"\"\"\n",
    "\n",
    "    # Find all numeric col's\n",
    "    numerics = ['int16', 'int32', 'int64', 'float16', 'float32', 'float64']\n",
    "    num_df = df.select_dtypes(include = numerics)\n",
    "    \n",
    "    # Check if any of those numeric col's have a negative #\n",
    "    negative_number_index = []\n",
    "    print(\"col's detected =\")\n",
    "    \n",
    "    for col in num_df:\n",
    "        print(col)\n",
    "        if (df[col].values < 0).any():\n",
    "            negative_number_index = df[df[col] < 0].index.tolist()\n",
    "            \n",
    "    print('negative_number_index =', negative_number_index)\n",
    "    \n",
    "    # For any negative #'s found, convert them into the mode of the col\n",
    "    for row in negative_number_index:\n",
    "        df.at[row, col] = df[col].mode()\n",
    "        \n",
    "    return df\n",
    "\n",
    "df = number_negative(df)"
   ]
  },
  {
   "cell_type": "code",
   "execution_count": null,
   "metadata": {
    "cell_id": "00013-132cbc52-203d-4c3a-b7e1-f0d4cacecddb",
    "deepnote_cell_height": 457,
    "deepnote_cell_type": "code",
    "deepnote_output_heights": [
     270
    ],
    "deepnote_to_be_reexecuted": false,
    "execution_millis": 307,
    "execution_start": 1648938890730,
    "id": "ffhJodrGmdTL",
    "outputId": "f31d5f73-9be9-4abb-a1d7-fc7d842035fc",
    "source_hash": "5aa0f8"
   },
   "outputs": [
    {
     "data": {
      "image/png": "[encoded data removed]",
      "text/plain": [
       "<Figure size 432x288 with 1 Axes>"
      ]
     },
     "metadata": {
      "image/png": {
       "height": 268,
       "width": 396
      }
     },
     "output_type": "display_data"
    }
   ],
   "source": [
    "# Plot histogram plot of score\n",
    "# Set a dark background\n",
    "\n",
    "sns.set(style = 'darkgrid')\n",
    "sns.histplot(data = df['Score'])\n",
    "plt.show()"
   ]
  },
  {
   "cell_type": "markdown",
   "metadata": {
    "cell_id": "00004-466c3d2f-0184-496c-b52a-2879424e8f38",
    "deepnote_cell_height": 341.1875,
    "deepnote_cell_type": "markdown",
    "id": "f28gluqsmdTM"
   },
   "source": [
    "## Feature Engineering"
   ]
  },
  {
   "cell_type": "markdown",
   "metadata": {
    "cell_id": "ccad7896-4aa8-4440-8007-4fb925027db2",
    "deepnote_cell_height": 54,
    "deepnote_cell_type": "markdown",
    "id": "DsbG9fhimdTM",
    "tags": []
   },
   "source": [
    "#### 2.1 - Split the data via train-test split"
   ]
  },
  {
   "cell_type": "code",
   "execution_count": null,
   "metadata": {
    "cell_id": "95ad9ebefb29499ba28630294f645b64",
    "deepnote_cell_height": 495,
    "deepnote_cell_type": "code",
    "deepnote_to_be_reexecuted": false,
    "execution_millis": 0,
    "execution_start": 1648938891088,
    "id": "7jMzXntAmdTM",
    "source_hash": "90732f39",
    "tags": []
   },
   "outputs": [],
   "source": [
    "def stratified_split(df, size, seed, stratum):\n",
    "    \"\"\" \n",
    "    UDF named stratified_split to shuffle the data and return a set of train and a set of test data \n",
    "    AFTER splitting them by stratum\n",
    "    \"\"\"\n",
    "    # Shuffle all of the data (frac = 1)\n",
    "    df = df.sample(frac = 1, random_state = seed)\n",
    "\n",
    "    # Split into a train and test set\n",
    "    df_test = df.groupby(stratum).sample(frac = size, random_state = seed)\n",
    "    test_indices = df_test.index\n",
    "    df_train = df.drop(test_indices)\n",
    "   \n",
    "    # Separate other attributes from the predicting attribute on the train set\n",
    "    x_train = df_train.drop('Score', axis=1)\n",
    "    \n",
    "    # Separate the predicting attribute into Y for model training on the train set\n",
    "    y_train = df_train['Score']\n",
    "    \n",
    "    # Perform the same on the test set\n",
    "    x_test = df_test.drop('Score', axis=1)\n",
    "    y_test = df_test['Score']\n",
    "    \n",
    "    return x_train, x_test, y_train, y_test, df_train, df_test;"
   ]
  },
  {
   "cell_type": "code",
   "execution_count": null,
   "metadata": {
    "cell_id": "ad4edc71eccd4056bde814d577ce3164",
    "deepnote_cell_height": 989,
    "deepnote_cell_type": "code",
    "deepnote_output_heights": [
     328.3125
    ],
    "deepnote_to_be_reexecuted": false,
    "execution_millis": 42,
    "execution_start": 1648938891132,
    "id": "NJNKP772mdTN",
    "outputId": "ac977c5a-45a4-4853-fd8d-b06b2b8025f8",
    "source_hash": "773058c1",
    "tags": []
   },
   "outputs": [
    {
     "name": "stdout",
     "output_type": "stream",
     "text": [
      "Circus Circus Hotel & Casino Las Vegas \n",
      "           -----------\n",
      "           Total = 24\n",
      "           Train = 19\n",
      "           Test = 5\n",
      "           \n",
      "Excalibur Hotel & Casino \n",
      "           -----------\n",
      "           Total = 24\n",
      "           Train = 19\n",
      "           Test = 5\n",
      "           \n",
      "Monte Carlo Resort&Casino \n",
      "           -----------\n",
      "           Total = 24\n",
      "           Train = 19\n",
      "           Test = 5\n",
      "           \n",
      "Treasure Island- TI Hotel & Casino \n",
      "           -----------\n",
      "           Total = 24\n",
      "           Train = 19\n",
      "           Test = 5\n",
      "           \n",
      "Tropicana Las Vegas - A Double Tree by Hilton Hotel \n",
      "           -----------\n",
      "           Total = 24\n",
      "           Train = 19\n",
      "           Test = 5\n",
      "           \n",
      "Caesars Palace \n",
      "           -----------\n",
      "           Total = 24\n",
      "           Train = 19\n",
      "           Test = 5\n",
      "           \n",
      "The Cosmopolitan Las Vegas \n",
      "           -----------\n",
      "           Total = 24\n",
      "           Train = 19\n",
      "           Test = 5\n",
      "           \n",
      "The Palazzo Resort Hotel Casino \n",
      "           -----------\n",
      "           Total = 24\n",
      "           Train = 19\n",
      "           Test = 5\n",
      "           \n",
      "Wynn Las Vegas \n",
      "           -----------\n",
      "           Total = 24\n",
      "           Train = 19\n",
      "           Test = 5\n",
      "           \n",
      "Trump International Hotel Las Vegas \n",
      "           -----------\n",
      "           Total = 24\n",
      "           Train = 19\n",
      "           Test = 5\n",
      "           \n",
      "The Cromwell \n",
      "           -----------\n",
      "           Total = 24\n",
      "           Train = 19\n",
      "           Test = 5\n",
      "           \n",
      "Encore at wynn Las Vegas \n",
      "           -----------\n",
      "           Total = 24\n",
      "           Train = 19\n",
      "           Test = 5\n",
      "           \n",
      "Hilton Grand Vacations on the Boulevard \n",
      "           -----------\n",
      "           Total = 24\n",
      "           Train = 19\n",
      "           Test = 5\n",
      "           \n",
      "Marriott's Grand Chateau \n",
      "           -----------\n",
      "           Total = 24\n",
      "           Train = 19\n",
      "           Test = 5\n",
      "           \n",
      "Tuscany Las Vegas Suites & Casino \n",
      "           -----------\n",
      "           Total = 24\n",
      "           Train = 19\n",
      "           Test = 5\n",
      "           \n",
      "Hilton Grand Vacations at the Flamingo \n",
      "           -----------\n",
      "           Total = 24\n",
      "           Train = 19\n",
      "           Test = 5\n",
      "           \n",
      "Wyndham Grand Desert \n",
      "           -----------\n",
      "           Total = 24\n",
      "           Train = 19\n",
      "           Test = 5\n",
      "           \n",
      "The Venetian Las Vegas Hotel \n",
      "           -----------\n",
      "           Total = 24\n",
      "           Train = 19\n",
      "           Test = 5\n",
      "           \n",
      "Bellagio Las Vegas \n",
      "           -----------\n",
      "           Total = 24\n",
      "           Train = 19\n",
      "           Test = 5\n",
      "           \n",
      "Paris Las Vegas \n",
      "           -----------\n",
      "           Total = 24\n",
      "           Train = 19\n",
      "           Test = 5\n",
      "           \n",
      "The Westin las Vegas Hotel Casino & Spa \n",
      "           -----------\n",
      "           Total = 24\n",
      "           Train = 19\n",
      "           Test = 5\n",
      "           \n"
     ]
    }
   ],
   "source": [
    "# Stratify by the 'Hotel name'\n",
    "# Pass in just 20% for test\n",
    "x_train, x_test, y_train, y_test, df_train, df_test = stratified_split(df, .2, 7, 'Hotel name')\n",
    "\n",
    "# Check if the split is done correctly or not\n",
    "labels = df['Hotel name'].unique()\n",
    "\n",
    "for lbl in labels:\n",
    "    total_lbl_df = df[df['Hotel name'] == lbl]\n",
    "    train_lbl_df = df_train[df_train['Hotel name'] == lbl]\n",
    "    test_lbl_df = df_test[df_test['Hotel name'] == lbl]\n",
    "    print(f'''{lbl} \n",
    "           -----------\n",
    "           Total = {len(total_lbl_df)}\n",
    "           Train = {len(train_lbl_df)}\n",
    "           Test = {len(test_lbl_df)}\n",
    "           ''')"
   ]
  },
  {
   "cell_type": "code",
   "execution_count": null,
   "metadata": {
    "cell_id": "3cfb9e33dda84c00b42785931fbb0d48",
    "deepnote_cell_height": 675,
    "deepnote_cell_type": "code",
    "deepnote_to_be_reexecuted": false,
    "execution_millis": 42224,
    "execution_start": 1648938891228,
    "id": "vKJsDH86mdTN",
    "source_hash": "3953c104",
    "tags": []
   },
   "outputs": [],
   "source": [
    "class My_encoder:\n",
    "    '''\n",
    "    This class creates a pipline which is used for applying SimpleImputer, MinMaxScaler & OneHotEncoder.\n",
    "    '''\n",
    "\n",
    "    def __init__(self):\n",
    "        pass\n",
    "        \n",
    "    def encoder_pipeline(self, numerical_features, categorical_features):\n",
    "        \n",
    "        # Apply these functions to ONLY the numeric features\n",
    "        # Just in case, impute NULL values with mean\n",
    "\n",
    "        numeric_pipeline = Pipeline(steps=[\n",
    "        ('impute', SimpleImputer(strategy = 'mean')),\n",
    "        ('scale', MinMaxScaler())\n",
    "        ])\n",
    "\n",
    "        # Apply these functions to ONLY to the categorical features\n",
    "        # Then, apply One Hot Encoder\n",
    "\n",
    "        categorical_pipeline = Pipeline(steps = [\n",
    "            ('impute', SimpleImputer(strategy = 'most_frequent')),\n",
    "            ('one-hot', OneHotEncoder(handle_unknown = 'ignore', sparse = False)),\n",
    "        ])\n",
    "        \n",
    "        # Runs the above numerical and categorical pipeline functions and create final processor\n",
    "\n",
    "        full_processor = ColumnTransformer(transformers=[\n",
    "        ('number', numeric_pipeline, numerical_features),\n",
    "        ('category', categorical_pipeline, categorical_features)\n",
    "        ])\n",
    "        \n",
    "        return full_processor"
   ]
  },
  {
   "cell_type": "code",
   "execution_count": null,
   "metadata": {
    "cell_id": "10a76f29-bf75-4d1a-8f19-326d1f9b5aa2",
    "deepnote_cell_height": 207,
    "deepnote_cell_type": "code",
    "deepnote_to_be_reexecuted": false,
    "execution_millis": 0,
    "execution_start": 1648938891229,
    "id": "9Ocn9ZG4mdTO",
    "source_hash": "2b132f",
    "tags": []
   },
   "outputs": [],
   "source": [
    "# Polynomial features function by raising existing features to an exponent\n",
    "def poly(x, y, degree_value, interaction_only_value):\n",
    "  \n",
    "    PF = PolynomialFeatures(degree=degree_value, interaction_only= interaction_only_value, include_bias=True)\n",
    "    Train_X_polied = PF.fit_transform(x)\n",
    "    Test_X_polied = PF.transform(y)\n",
    "    \n",
    "    return Train_X_polied, Test_X_polied"
   ]
  },
  {
   "cell_type": "code",
   "execution_count": null,
   "metadata": {
    "cell_id": "011ee42dbad04a5da67eb3ceb32f5613",
    "deepnote_cell_height": 369,
    "deepnote_cell_type": "code",
    "deepnote_to_be_reexecuted": false,
    "execution_millis": 52,
    "execution_start": 1648938891229,
    "id": "Mb-nB1Y7mdTO",
    "source_hash": "4c37b28a",
    "tags": []
   },
   "outputs": [],
   "source": [
    "# Defining the features\n",
    "numerical_features = ['Nr. reviews','Nr. hotel reviews','Helpful votes','Hotel stars', 'Nr. rooms', \n",
    "                      'Member years', 'Hotel stars']\n",
    "categorical_features = ['Period of stay', 'Traveler type', 'Review month', 'Review weekday', 'User country', 'User continent', 'Hotel name',\n",
    "                       'Pool', 'Gym', 'Tennis court', 'Spa', 'Casino', 'Free internet']\n",
    "target = 'Score'\n",
    "\n",
    "# Call earlier pipeline \n",
    "enc = My_encoder()\n",
    "full_processor = enc.encoder_pipeline(numerical_features, categorical_features)\n",
    "\n",
    "# Transform data - OHE, min max scaler for both test and train\n",
    "Train_x = full_processor.fit_transform(df_train)\n",
    "Test_y = full_processor.transform(df_test)\n",
    "\n",
    "# Polynomial feature for test and train dataset\n",
    "Train_X_polied, Test_X_polied = poly(Train_x, Test_y, 2, False)"
   ]
  },
  {
   "cell_type": "markdown",
   "metadata": {
    "cell_id": "00005-656d3ea7-1c7a-490e-9e66-ca01ee5d6f35",
    "deepnote_cell_height": 448.875,
    "deepnote_cell_type": "markdown",
    "id": "C8X2phcDmdTO"
   },
   "source": [
    "### Model Fitting, Evaluation and Selection"
   ]
  },
  {
   "cell_type": "markdown",
   "metadata": {
    "cell_id": "d6dfa6ee-a164-4330-9848-aad503113e34",
    "deepnote_cell_height": 54,
    "deepnote_cell_type": "markdown",
    "id": "aYFhwS2_mdTP",
    "tags": []
   },
   "source": [
    "#### Linear Regression with MAE & MSE"
   ]
  },
  {
   "cell_type": "code",
   "execution_count": null,
   "metadata": {
    "cell_id": "8eb40302646e4293a2ebcc3c1ce9a3a2",
    "deepnote_cell_height": 542.0625,
    "deepnote_cell_type": "code",
    "deepnote_to_be_reexecuted": false,
    "execution_millis": 4894,
    "execution_start": 1648938891293,
    "id": "8EACw_gBmdTP",
    "outputId": "617e572a-0c18-4abe-dbf4-4147e47f1018",
    "source_hash": "27784443",
    "tags": []
   },
   "outputs": [
    {
     "name": "stdout",
     "output_type": "stream",
     "text": [
      "Linear Regression MAE Score on training data = 0.0595548936946987\n",
      "Linear Regression MSE Score on training data = 0.05860799696691065\n",
      "/shared-libs/python3.7/py/lib/python3.7/site-packages/sklearn/linear_model/_huber.py:332: ConvergenceWarning: lbfgs failed to converge (status=1):\n",
      "STOP: TOTAL NO. of ITERATIONS REACHED LIMIT.\n",
      "\n",
      "Increase the number of iterations (max_iter) or scale the data as shown in:\n",
      "    https://scikit-learn.org/stable/modules/preprocessing.html\n",
      "  self.n_iter_ = _check_optimize_result(\"lbfgs\", opt_res, self.max_iter)\n"
     ]
    }
   ],
   "source": [
    "'''\n",
    "    Huber ('huber'): This is a robust loss function that combines both least absolute and squares deviation;\n",
    "    epsilon value should be >= than 1.0 by default it's 1.35\n",
    "'''\n",
    "lr = HuberRegressor(epsilon = 1.0, \n",
    "                    fit_intercept = False, \n",
    "                    max_iter = 500, \n",
    "                    alpha = 0.0001).fit(X = Train_X_polied, \n",
    "                                        y = df_train[target])\n",
    "\n",
    "y_hat_training = lr.predict(Train_X_polied)\n",
    "\n",
    "mae_train = mean_absolute_error(y_hat_training, df_train[target])\n",
    "print(f'Linear Regression MAE Score on training data = {mae_train}') \n",
    "\n",
    "mse_train = (mean_squared_error(y_hat_training, df_train[target]))\n",
    "print(f'Linear Regression MSE Score on training data = {mse_train}') "
   ]
  },
  {
   "cell_type": "markdown",
   "metadata": {
    "cell_id": "4b89ee65ec134fbd932131c0a2706c47",
    "deepnote_cell_height": 54,
    "deepnote_cell_type": "markdown",
    "id": "MLS0NBlLmdTP",
    "tags": []
   },
   "source": [
    "#### Poisson Regression"
   ]
  },
  {
   "cell_type": "code",
   "execution_count": null,
   "metadata": {
    "cell_id": "08b616e64d2346ef80a91a5695f16662",
    "deepnote_cell_height": 207,
    "deepnote_cell_type": "code",
    "deepnote_to_be_reexecuted": false,
    "execution_millis": 254,
    "execution_start": 1648938896195,
    "id": "ItLGmhX1mdTP",
    "source_hash": "2a41208d",
    "tags": []
   },
   "outputs": [],
   "source": [
    "# Create Poisson regression object\n",
    "pr = linear_model.PoissonRegressor()\n",
    "\n",
    "# Fit the model\n",
    "pr.fit(X = Train_X_polied, y = df_train[target])\n",
    "\n",
    "# Train prediction!\n",
    "y_hat_training_pr = pr.predict(Train_X_polied)"
   ]
  },
  {
   "cell_type": "markdown",
   "metadata": {
    "cell_id": "f60082df2ca749dca48c103ea79a7c64",
    "deepnote_cell_height": 54,
    "deepnote_cell_type": "markdown",
    "id": "iET5T3CimdTQ",
    "tags": []
   },
   "source": [
    "#### Mapping prediction result to target format"
   ]
  },
  {
   "cell_type": "code",
   "execution_count": null,
   "metadata": {
    "cell_id": "b9b3effbbb1e475d9b4fb931345afbfa",
    "deepnote_cell_height": 423,
    "deepnote_cell_type": "code",
    "deepnote_to_be_reexecuted": false,
    "execution_millis": 11,
    "execution_start": 1648938896455,
    "id": "D2afA08smdTQ",
    "source_hash": "c1bec463",
    "tags": []
   },
   "outputs": [],
   "source": [
    "def inline_pred_tar(y_hat_testing):\n",
    "    \"\"\"\n",
    "    Function to map model prediction to the target format, which in this case is int\n",
    "    \"\"\"\n",
    "    # Convert the dtype to integer as our final score is an interger value\n",
    "    y_hat_testing_inline = y_hat_testing.astype('int')\n",
    "    y_hat_testing_inline_res = []\n",
    "\n",
    "    # This loop will handle the outlier outputs\n",
    "    for i in y_hat_testing_inline:\n",
    "        if i > 5:\n",
    "            y_hat_testing_inline_res.append(5)\n",
    "        elif i < 1:\n",
    "            y_hat_testing_inline_res.append(1)\n",
    "        else:\n",
    "            y_hat_testing_inline_res.append(i)\n",
    "            \n",
    "    # Converting the result to np array\n",
    "    y_hat_testing_inline_res_op = np.array(y_hat_testing_inline_res) \n",
    "    return y_hat_testing_inline_res_op"
   ]
  },
  {
   "cell_type": "markdown",
   "metadata": {
    "cell_id": "c5606e2c4828497b8df566de8c62f683",
    "deepnote_cell_height": 54,
    "deepnote_cell_type": "markdown",
    "id": "JALORx2XmdTQ",
    "tags": []
   },
   "source": [
    "#### Linear regression predictions"
   ]
  },
  {
   "cell_type": "code",
   "execution_count": null,
   "metadata": {
    "cell_id": "39a12e5409994a6194f3b94e631be479",
    "deepnote_cell_height": 153,
    "deepnote_cell_type": "code",
    "deepnote_to_be_reexecuted": false,
    "execution_millis": 8,
    "execution_start": 1648938896473,
    "id": "bRJOfmBumdTQ",
    "source_hash": "a1cf77d2",
    "tags": []
   },
   "outputs": [],
   "source": [
    "# Predicted Score on testing data\n",
    "y_hat_testing_lr = lr.predict(Test_X_polied)\n",
    "\n",
    "# Actual Score\n",
    "y_true_testing_lr = df_test[target]"
   ]
  },
  {
   "cell_type": "markdown",
   "metadata": {
    "cell_id": "bd95fb71bc954be895eb7843f846f872",
    "deepnote_cell_height": 54,
    "deepnote_cell_type": "markdown",
    "id": "Q9lI4wpzmdTQ",
    "tags": []
   },
   "source": [
    "#### Poisson regression predictions"
   ]
  },
  {
   "cell_type": "code",
   "execution_count": null,
   "metadata": {
    "cell_id": "cc8c1112f9534c3ba4867e0e1c979a06",
    "deepnote_cell_height": 153,
    "deepnote_cell_type": "code",
    "deepnote_to_be_reexecuted": false,
    "execution_millis": 11,
    "execution_start": 1648938896488,
    "id": "PJvPJ7OlmdTQ",
    "source_hash": "21396d0e",
    "tags": []
   },
   "outputs": [],
   "source": [
    "# Predicted Score on testing data\n",
    "y_hat_testing_pr = pr.predict(Test_X_polied)\n",
    "\n",
    "# Actual Score\n",
    "y_true_testing_pr = df_test[target]"
   ]
  },
  {
   "cell_type": "markdown",
   "metadata": {
    "cell_id": "306aecf524d641d1b51cb24f2495f559",
    "deepnote_cell_height": 54,
    "deepnote_cell_type": "markdown",
    "id": "bbdhPipkmdTR",
    "tags": []
   },
   "source": [
    "#### Evaluate the model based using MSE on testing data"
   ]
  },
  {
   "cell_type": "code",
   "execution_count": null,
   "metadata": {
    "cell_id": "08ef13697ca3445e9ee6d4089ae1ac00",
    "deepnote_cell_height": 311.390625,
    "deepnote_cell_type": "code",
    "deepnote_to_be_reexecuted": false,
    "execution_millis": 46,
    "execution_start": 1648938896503,
    "id": "-ZvxCfPfmdTR",
    "outputId": "14271c15-92de-4cef-e8ee-c583e8925761",
    "source_hash": "50bda676",
    "tags": []
   },
   "outputs": [
    {
     "name": "stdout",
     "output_type": "stream",
     "text": [
      "MSE for linear regression model on testing data = 2.238095238095238\n",
      "MSE for poisson regression model on testing data = 1.5142857142857142\n"
     ]
    }
   ],
   "source": [
    "def mean_squared_error_fun(y_hat, y_true):\n",
    "    return mean_squared_error(y_hat, y_true)\n",
    "\n",
    "y_hat_testing_inline_lr = inline_pred_tar(y_hat_testing_lr)\n",
    "y_hat_testing_inline_pr = inline_pred_tar(y_hat_testing_pr)\n",
    "\n",
    "lr_mse_test = mean_squared_error_fun(y_hat_testing_inline_lr, df_test[target])\n",
    "pr_mse_test = mean_squared_error_fun(y_hat_testing_inline_pr, df_test[target])\n",
    "\n",
    "print(f'MSE for linear regression model on testing data = {lr_mse_test}')\n",
    "print(f'MSE for poisson regression model on testing data = {pr_mse_test}')"
   ]
  },
  {
   "cell_type": "markdown",
   "metadata": {
    "cell_id": "00006-f677d73a-58be-4360-ab26-4a1cf3a29485",
    "deepnote_cell_height": 202.5,
    "deepnote_cell_type": "markdown",
    "id": "j5TAJkBTmdTR"
   },
   "source": [
    "### Prediction and Prediction Summary"
   ]
  },
  {
   "cell_type": "markdown",
   "metadata": {
    "cell_id": "476712b5ce4647b98ff23b910f9e927c",
    "deepnote_cell_height": 54,
    "deepnote_cell_type": "markdown",
    "id": "xNCQiXMcmdTR",
    "tags": []
   },
   "source": [
    "#### Predictions"
   ]
  },
  {
   "cell_type": "code",
   "execution_count": null,
   "metadata": {
    "cell_id": "1afcfb50b13749129ff24335c9674113",
    "deepnote_cell_height": 172.1875,
    "deepnote_cell_type": "code",
    "deepnote_output_heights": [
     21.1875
    ],
    "deepnote_to_be_reexecuted": false,
    "execution_millis": 16,
    "execution_start": 1648938896559,
    "id": "X-HvV4qRmdTS",
    "outputId": "04acb670-1fa9-41c2-c2ca-f87fc2a25280",
    "source_hash": "5d047078",
    "tags": []
   },
   "outputs": [
    {
     "data": {
      "text/plain": [
       "'\\n    Predictions on test data is done in Part |||, to get the evaluation using MSE on testing data. Same results are been\\n    used for part IV.\\n'"
      ]
     },
     "execution_count": 19,
     "metadata": {},
     "output_type": "execute_result"
    }
   ],
   "source": [
    "'''\n",
    "    Predictions on test data is done in Part |||, to get the evaluation using MSE on testing data. Same results are been\n",
    "    used for part IV.\n",
    "'''"
   ]
  },
  {
   "cell_type": "markdown",
   "metadata": {
    "cell_id": "cbb69947219d4bd2bfcb77fe8231939c",
    "deepnote_cell_height": 62,
    "deepnote_cell_type": "markdown",
    "id": "iZQ7h6Q0mdTS",
    "tags": []
   },
   "source": [
    "### Box Plot"
   ]
  },
  {
   "cell_type": "code",
   "execution_count": null,
   "metadata": {
    "cell_id": "f9127e35f0164a21885b187f33e7237d",
    "deepnote_cell_height": 225,
    "deepnote_cell_type": "code",
    "deepnote_to_be_reexecuted": false,
    "execution_millis": 0,
    "execution_start": 1648939528852,
    "id": "u3YTSOrFmdTS",
    "source_hash": "fea61d79",
    "tags": []
   },
   "outputs": [],
   "source": [
    "# Convert the predicted values to DF\n",
    "df_lr = pd.DataFrame({'Actual':y_true_testing_lr, 'Predicted':y_hat_testing_inline_lr})\n",
    "df_lr['model'] = df_lr.model = 'lr'\n",
    "\n",
    "df_pr = pd.DataFrame({'Actual':y_true_testing_pr, 'Predicted':y_hat_testing_inline_pr})\n",
    "df_pr['model'] = df_pr.model = 'pr'\n",
    "\n",
    "# Concat the DFs to compare the result\n",
    "prediction = pd.concat([df_lr, df_pr])"
   ]
  },
  {
   "cell_type": "code",
   "execution_count": null,
   "metadata": {
    "cell_id": "b91c258a49aa483da2a140ffc18ad768",
    "deepnote_cell_height": 617,
    "deepnote_cell_type": "code",
    "deepnote_output_heights": [
     21,
     270
    ],
    "deepnote_to_be_reexecuted": false,
    "execution_millis": 495,
    "execution_start": 1648940307285,
    "id": "mTTtprENmdTS",
    "outputId": "3651c8ce-b340-46f2-c1d4-7581c1c5214d",
    "source_hash": "9d2fc778",
    "tags": []
   },
   "outputs": [
    {
     "data": {
      "text/plain": [
       "<AxesSubplot:xlabel='Actual', ylabel='Predicted'>"
      ]
     },
     "execution_count": 37,
     "metadata": {},
     "output_type": "execute_result"
    },
    {
     "data": {
      "image/png": "[encoded data removed]",
      "text/plain": [
       "<Figure size 432x288 with 1 Axes>"
      ]
     },
     "metadata": {
      "image/png": {
       "height": 268,
       "width": 393
      }
     },
     "output_type": "display_data"
    }
   ],
   "source": [
    "# Create overlapping boxplot with stripplots\n",
    "sns.boxplot(x = 'Actual', \n",
    "            y = 'Predicted', \n",
    "            data = prediction, \n",
    "            showfliers = False, \n",
    "            hue = 'model')\n",
    "\n",
    "# To look at the data\n",
    "sns.stripplot(x = 'Actual', \n",
    "              y = 'Predicted', \n",
    "              data = prediction, \n",
    "              color = \".25\")"
   ]
  }
 ],
 "metadata": {
  "colab": {
   "collapsed_sections": [],
   "name": "Copy of DATA602-Group5-Project2.ipynb",
   "provenance": []
  },
  "deepnote": {
   "is_reactive": false
  },
  "deepnote_execution_queue": [],
  "deepnote_notebook_id": "a6e737dd-cace-4d09-b98e-f00c732b0705",
  "interpreter": {
   "hash": "771a10e9912638bc1e3d9614f55e8788a2a6c82e1c07af3a7d7d70f175d18d28"
  },
  "kernelspec": {
   "display_name": "Python 3 (ipykernel)",
   "language": "python",
   "name": "python3"
  },
  "language_info": {
   "codemirror_mode": {
    "name": "ipython",
    "version": 3
   },
   "file_extension": ".py",
   "mimetype": "text/x-python",
   "name": "python",
   "nbconvert_exporter": "python",
   "pygments_lexer": "ipython3",
   "version": "3.9.7"
  }
 },
 "nbformat": 4,
 "nbformat_minor": 1
}
